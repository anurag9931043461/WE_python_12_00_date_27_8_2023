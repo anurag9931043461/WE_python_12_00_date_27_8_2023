{
 "cells": [
  {
   "cell_type": "markdown",
   "id": "6bf1fb40-37fa-4388-a3b2-30b0000da259",
   "metadata": {},
   "source": [
    "# Boolean \n",
    "\n",
    "> boolean constructor is bool()\n",
    "\n",
    "> boolean literal is False\n",
    "\n",
    "> True means 1, magnitude\n",
    "\n",
    "> False means 0, None, no magnitude"
   ]
  },
  {
   "cell_type": "raw",
   "id": "4b917c7d-4463-4393-8405-f2e367bdc7f7",
   "metadata": {},
   "source": [
    "int(),0\n",
    "float(),0.0\n",
    "str(),'',\"\",\"\"\"\"\"\",''''''\n",
    "list(),[]\n",
    "tuple(),()\n",
    "dict(),{}\n",
    "set(),not available\n",
    "frozenset(),not available\n",
    "complex(), 0j\n",
    "bool(), False"
   ]
  },
  {
   "cell_type": "code",
   "execution_count": 9,
   "id": "3159a415-7812-4d5c-a1ac-3b50e6c6ef03",
   "metadata": {},
   "outputs": [
    {
     "name": "stdout",
     "output_type": "stream",
     "text": [
      "False\n",
      "False\n"
     ]
    }
   ],
   "source": [
    "print(bool(int()))\n",
    "print(bool())"
   ]
  },
  {
   "cell_type": "code",
   "execution_count": 13,
   "id": "bcf823bc-32bd-4051-8ffa-6fefa9a39f6c",
   "metadata": {},
   "outputs": [
    {
     "name": "stdout",
     "output_type": "stream",
     "text": [
      "False\n",
      "False\n"
     ]
    }
   ],
   "source": [
    "print(bool(float()))\n",
    "print(bool(0.0))"
   ]
  },
  {
   "cell_type": "code",
   "execution_count": 16,
   "id": "da514ae6-6fbd-426b-b0ee-11ad3d65c0bd",
   "metadata": {},
   "outputs": [
    {
     "data": {
      "text/plain": [
       "True"
      ]
     },
     "execution_count": 16,
     "metadata": {},
     "output_type": "execute_result"
    }
   ],
   "source": [
    "bool(\" \")"
   ]
  },
  {
   "cell_type": "code",
   "execution_count": 20,
   "id": "a0369a38-c23f-4aa9-8be2-61de1692f4ca",
   "metadata": {},
   "outputs": [
    {
     "data": {
      "text/plain": [
       "False"
      ]
     },
     "execution_count": 20,
     "metadata": {},
     "output_type": "execute_result"
    }
   ],
   "source": [
    "bool('')"
   ]
  },
  {
   "cell_type": "code",
   "execution_count": 22,
   "id": "77736d3e-5348-42f2-b377-bda3c44b9f8c",
   "metadata": {},
   "outputs": [
    {
     "data": {
      "text/plain": [
       "False"
      ]
     },
     "execution_count": 22,
     "metadata": {},
     "output_type": "execute_result"
    }
   ],
   "source": [
    "bool(\"\"\"\"\"\")"
   ]
  },
  {
   "cell_type": "code",
   "execution_count": 24,
   "id": "98383202-5e16-4664-a1de-03c8f8d7787e",
   "metadata": {},
   "outputs": [
    {
     "data": {
      "text/plain": [
       "False"
      ]
     },
     "execution_count": 24,
     "metadata": {},
     "output_type": "execute_result"
    }
   ],
   "source": [
    "bool('''''')"
   ]
  },
  {
   "cell_type": "code",
   "execution_count": 25,
   "id": "8de97450-68f9-437e-8aac-1ad3c6f63a62",
   "metadata": {},
   "outputs": [
    {
     "data": {
      "text/plain": [
       "False"
      ]
     },
     "execution_count": 25,
     "metadata": {},
     "output_type": "execute_result"
    }
   ],
   "source": [
    "bool(str())"
   ]
  },
  {
   "cell_type": "code",
   "execution_count": 29,
   "id": "946064f2-f4da-425c-ab21-e31272cea475",
   "metadata": {},
   "outputs": [
    {
     "data": {
      "text/plain": [
       "False"
      ]
     },
     "execution_count": 29,
     "metadata": {},
     "output_type": "execute_result"
    }
   ],
   "source": [
    "bool([])"
   ]
  },
  {
   "cell_type": "code",
   "execution_count": 28,
   "id": "0b9907d6-c857-4d26-8c28-60964c91004c",
   "metadata": {},
   "outputs": [
    {
     "data": {
      "text/plain": [
       "False"
      ]
     },
     "execution_count": 28,
     "metadata": {},
     "output_type": "execute_result"
    }
   ],
   "source": [
    "bool(list())"
   ]
  },
  {
   "cell_type": "code",
   "execution_count": 30,
   "id": "f62f5034-2449-4854-8f95-c6cc701ca028",
   "metadata": {},
   "outputs": [
    {
     "data": {
      "text/plain": [
       "False"
      ]
     },
     "execution_count": 30,
     "metadata": {},
     "output_type": "execute_result"
    }
   ],
   "source": [
    "bool(tuple())"
   ]
  },
  {
   "cell_type": "code",
   "execution_count": 35,
   "id": "5f3a7bc4-5edd-47b7-a418-0ed82b9dfa64",
   "metadata": {},
   "outputs": [
    {
     "data": {
      "text/plain": [
       "False"
      ]
     },
     "execution_count": 35,
     "metadata": {},
     "output_type": "execute_result"
    }
   ],
   "source": [
    "a=()\n",
    "bool(a)"
   ]
  },
  {
   "cell_type": "code",
   "execution_count": 36,
   "id": "6771addb-6a7a-445c-a5bf-b5d52d19a826",
   "metadata": {},
   "outputs": [
    {
     "data": {
      "text/plain": [
       "False"
      ]
     },
     "execution_count": 36,
     "metadata": {},
     "output_type": "execute_result"
    }
   ],
   "source": [
    "a=set()\n",
    "bool(a)"
   ]
  },
  {
   "cell_type": "code",
   "execution_count": 39,
   "id": "40a85432-6322-4a00-94cc-b25337ece55f",
   "metadata": {},
   "outputs": [
    {
     "data": {
      "text/plain": [
       "False"
      ]
     },
     "execution_count": 39,
     "metadata": {},
     "output_type": "execute_result"
    }
   ],
   "source": [
    "a=frozenset()\n",
    "bool(a)"
   ]
  },
  {
   "cell_type": "code",
   "execution_count": 41,
   "id": "93abfdcd-b70e-4554-9363-45af640f9404",
   "metadata": {},
   "outputs": [
    {
     "data": {
      "text/plain": [
       "False"
      ]
     },
     "execution_count": 41,
     "metadata": {},
     "output_type": "execute_result"
    }
   ],
   "source": [
    "a=dict()\n",
    "bool(a)"
   ]
  },
  {
   "cell_type": "code",
   "execution_count": 42,
   "id": "36330fe0-fe0e-4dc1-a024-52c435572cca",
   "metadata": {},
   "outputs": [
    {
     "data": {
      "text/plain": [
       "False"
      ]
     },
     "execution_count": 42,
     "metadata": {},
     "output_type": "execute_result"
    }
   ],
   "source": [
    "a={}\n",
    "bool(a)"
   ]
  },
  {
   "cell_type": "code",
   "execution_count": 44,
   "id": "e6372b3e-c4f1-454e-8c23-6c0254d885a1",
   "metadata": {},
   "outputs": [
    {
     "data": {
      "text/plain": [
       "False"
      ]
     },
     "execution_count": 44,
     "metadata": {},
     "output_type": "execute_result"
    }
   ],
   "source": [
    "a=complex()\n",
    "bool(a)"
   ]
  },
  {
   "cell_type": "code",
   "execution_count": 45,
   "id": "416b1eeb-c139-4b1a-aaa2-63fcb039d47c",
   "metadata": {},
   "outputs": [
    {
     "data": {
      "text/plain": [
       "False"
      ]
     },
     "execution_count": 45,
     "metadata": {},
     "output_type": "execute_result"
    }
   ],
   "source": [
    "a=0j\n",
    "bool(a)"
   ]
  },
  {
   "cell_type": "code",
   "execution_count": 46,
   "id": "5fd26d37-b0ae-412c-b3ad-90920dffdf57",
   "metadata": {},
   "outputs": [
    {
     "data": {
      "text/plain": [
       "False"
      ]
     },
     "execution_count": 46,
     "metadata": {},
     "output_type": "execute_result"
    }
   ],
   "source": [
    "a=bool()\n",
    "bool(a)"
   ]
  },
  {
   "cell_type": "code",
   "execution_count": 49,
   "id": "f6632235-50a8-4e8b-af6f-68d3c760ccb4",
   "metadata": {},
   "outputs": [
    {
     "data": {
      "text/plain": [
       "False"
      ]
     },
     "execution_count": 49,
     "metadata": {},
     "output_type": "execute_result"
    }
   ],
   "source": [
    "a=False\n",
    "bool(a)"
   ]
  },
  {
   "cell_type": "code",
   "execution_count": 52,
   "id": "55c5c215-34b1-4275-9dfe-9da4e61a4e7d",
   "metadata": {},
   "outputs": [
    {
     "data": {
      "text/plain": [
       "True"
      ]
     },
     "execution_count": 52,
     "metadata": {},
     "output_type": "execute_result"
    }
   ],
   "source": [
    "bool(-2)"
   ]
  },
  {
   "cell_type": "code",
   "execution_count": 54,
   "id": "ce587829-36c7-4e3b-ab60-30283ec6bea0",
   "metadata": {},
   "outputs": [
    {
     "ename": "TypeError",
     "evalue": "unhashable type: 'list'",
     "output_type": "error",
     "traceback": [
      "\u001b[1;31m---------------------------------------------------------------------------\u001b[0m",
      "\u001b[1;31mTypeError\u001b[0m                                 Traceback (most recent call last)",
      "Cell \u001b[1;32mIn[54], line 1\u001b[0m\n\u001b[1;32m----> 1\u001b[0m a\u001b[38;5;241m=\u001b[39m{[]}\n\u001b[0;32m      2\u001b[0m \u001b[38;5;28mbool\u001b[39m(a)\n",
      "\u001b[1;31mTypeError\u001b[0m: unhashable type: 'list'"
     ]
    }
   ],
   "source": [
    "a={[]}\n",
    "bool(a)"
   ]
  },
  {
   "cell_type": "code",
   "execution_count": 55,
   "id": "5c5c4aca-9b00-4f2b-bc66-af24409307e5",
   "metadata": {},
   "outputs": [
    {
     "data": {
      "text/plain": [
       "True"
      ]
     },
     "execution_count": 55,
     "metadata": {},
     "output_type": "execute_result"
    }
   ],
   "source": [
    "a=['',{},[]]\n",
    "bool(a)"
   ]
  },
  {
   "cell_type": "code",
   "execution_count": 56,
   "id": "21b405f6-b08e-4195-bcfc-f180595a1927",
   "metadata": {},
   "outputs": [],
   "source": [
    "a={(),\"Anjni\",10,10.0,2j,frozenset(),bool()}"
   ]
  },
  {
   "cell_type": "code",
   "execution_count": 57,
   "id": "4592baa4-4712-41bf-8fc6-d44d7711167f",
   "metadata": {},
   "outputs": [
    {
     "data": {
      "text/plain": [
       "True"
      ]
     },
     "execution_count": 57,
     "metadata": {},
     "output_type": "execute_result"
    }
   ],
   "source": [
    "bool(a)"
   ]
  },
  {
   "cell_type": "code",
   "execution_count": null,
   "id": "2cbf2ed2-508e-43ac-921d-68e04d825410",
   "metadata": {},
   "outputs": [],
   "source": []
  }
 ],
 "metadata": {
  "kernelspec": {
   "display_name": "Python 3 (ipykernel)",
   "language": "python",
   "name": "python3"
  },
  "language_info": {
   "codemirror_mode": {
    "name": "ipython",
    "version": 3
   },
   "file_extension": ".py",
   "mimetype": "text/x-python",
   "name": "python",
   "nbconvert_exporter": "python",
   "pygments_lexer": "ipython3",
   "version": "3.11.5"
  }
 },
 "nbformat": 4,
 "nbformat_minor": 5
}
