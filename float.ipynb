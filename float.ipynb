{
 "cells": [
  {
   "cell_type": "markdown",
   "id": "925d4c51-2ec3-4960-8b59-c7a087072766",
   "metadata": {},
   "source": [
    "float\n",
    "\n",
    "> float constructor is float()\n",
    "\n",
    "> float literal is 0.0\n"
   ]
  },
  {
   "cell_type": "code",
   "execution_count": 2,
   "id": "c1b9fb2a-6964-424c-b488-4363ca696dd0",
   "metadata": {},
   "outputs": [],
   "source": [
    "a=float()"
   ]
  },
  {
   "cell_type": "code",
   "execution_count": 3,
   "id": "0b0b7b02-2ff7-4768-888f-c7a60b62391e",
   "metadata": {},
   "outputs": [
    {
     "name": "stdout",
     "output_type": "stream",
     "text": [
      "0.0\n"
     ]
    }
   ],
   "source": [
    "print(a)"
   ]
  },
  {
   "cell_type": "code",
   "execution_count": 4,
   "id": "34de7cc8-8629-4586-b71e-b6d5e3ca9b6a",
   "metadata": {},
   "outputs": [
    {
     "name": "stdout",
     "output_type": "stream",
     "text": [
      "0.0\n"
     ]
    }
   ],
   "source": [
    "b=0.0\n",
    "print(b)"
   ]
  },
  {
   "cell_type": "code",
   "execution_count": 7,
   "id": "474152df-eb88-431e-8b41-044b4926cbad",
   "metadata": {},
   "outputs": [],
   "source": [
    "c=10.000000000000000000000000"
   ]
  },
  {
   "cell_type": "code",
   "execution_count": 8,
   "id": "3d53a86f-4310-48bd-9311-00d45b13952e",
   "metadata": {},
   "outputs": [
    {
     "name": "stdout",
     "output_type": "stream",
     "text": [
      "10.0\n"
     ]
    }
   ],
   "source": [
    "print(c)"
   ]
  },
  {
   "cell_type": "code",
   "execution_count": 9,
   "id": "7472e957-c328-411b-baf3-d34df2110855",
   "metadata": {},
   "outputs": [],
   "source": [
    "d=0.0000001"
   ]
  },
  {
   "cell_type": "code",
   "execution_count": 10,
   "id": "6f7f18a7-cfb6-4f00-ae2d-b59ce81925f8",
   "metadata": {},
   "outputs": [
    {
     "name": "stdout",
     "output_type": "stream",
     "text": [
      "1e-07\n"
     ]
    }
   ],
   "source": [
    "print(d)"
   ]
  },
  {
   "cell_type": "code",
   "execution_count": 13,
   "id": "f79cd67b-00ff-49c3-988b-06de5eaa45a8",
   "metadata": {},
   "outputs": [],
   "source": [
    "a=2e10"
   ]
  },
  {
   "cell_type": "code",
   "execution_count": 14,
   "id": "fc49feab-3af7-4212-bd1c-d8ee736dee58",
   "metadata": {},
   "outputs": [
    {
     "name": "stdout",
     "output_type": "stream",
     "text": [
      "20000000000.0\n"
     ]
    }
   ],
   "source": [
    "print(a)"
   ]
  },
  {
   "cell_type": "code",
   "execution_count": 15,
   "id": "59b229c2-3839-4b6e-b9a4-757e87dabcca",
   "metadata": {},
   "outputs": [
    {
     "data": {
      "text/plain": [
       "20000000000.0"
      ]
     },
     "execution_count": 15,
     "metadata": {},
     "output_type": "execute_result"
    }
   ],
   "source": [
    "2*10.0**10"
   ]
  },
  {
   "cell_type": "code",
   "execution_count": null,
   "id": "e7b1cd16-ffae-4af1-bf2b-f6cccc6db0ef",
   "metadata": {},
   "outputs": [],
   "source": []
  }
 ],
 "metadata": {
  "kernelspec": {
   "display_name": "Python 3 (ipykernel)",
   "language": "python",
   "name": "python3"
  },
  "language_info": {
   "codemirror_mode": {
    "name": "ipython",
    "version": 3
   },
   "file_extension": ".py",
   "mimetype": "text/x-python",
   "name": "python",
   "nbconvert_exporter": "python",
   "pygments_lexer": "ipython3",
   "version": "3.11.5"
  }
 },
 "nbformat": 4,
 "nbformat_minor": 5
}
