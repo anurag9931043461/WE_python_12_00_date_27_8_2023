{
 "cells": [
  {
   "cell_type": "markdown",
   "id": "2585a5c4-29cb-44db-afa6-225a7199d6e7",
   "metadata": {},
   "source": [
    "casting: conversion of one datatype into another datatype called casting.\n",
    "\n",
    "> casting of int into: float, string\n",
    "\n",
    "> casting of float into : int, string  #sometime data loss happend\n",
    "\n",
    "> casting of string into : int, float (if string contain number then only it is possible.)\n",
    "\n",
    "                            > string contain a float value, it is not directly convertible into int \n",
    "                            > example: int(float(\"10.04\"))  --> impact is data loss.\n",
    "    \n",
    "> casting of list into: tuple,set, frozenset\n",
    "\n",
    "> casting of tuple into : list , set, frozenset\n",
    "\n",
    "> casting of set into : list, tuple,frozenset\n",
    "\n",
    "> casting of frozenset into : set, tuple, list\n",
    "\n"
   ]
  },
  {
   "cell_type": "markdown",
   "id": "709a407c-e88d-43fb-bbe3-924103896d18",
   "metadata": {},
   "source": [
    "# casting of int into: float, string"
   ]
  },
  {
   "cell_type": "code",
   "execution_count": 2,
   "id": "0fe94bad-9558-4a3d-824b-9fcbf9e0e794",
   "metadata": {},
   "outputs": [
    {
     "data": {
      "text/plain": [
       "10.0"
      ]
     },
     "execution_count": 2,
     "metadata": {},
     "output_type": "execute_result"
    }
   ],
   "source": [
    "a=10\n",
    "float(a)"
   ]
  },
  {
   "cell_type": "code",
   "execution_count": 4,
   "id": "08b96718-d4c9-429b-a32c-aa83df772b30",
   "metadata": {},
   "outputs": [
    {
     "name": "stdout",
     "output_type": "stream",
     "text": [
      "10\n"
     ]
    }
   ],
   "source": [
    "print(str(a))"
   ]
  },
  {
   "cell_type": "code",
   "execution_count": 7,
   "id": "0695529b-b644-4376-9b66-42e03974c969",
   "metadata": {},
   "outputs": [
    {
     "data": {
      "text/plain": [
       "str"
      ]
     },
     "execution_count": 7,
     "metadata": {},
     "output_type": "execute_result"
    }
   ],
   "source": [
    "b=str(a)\n",
    "type(b)"
   ]
  },
  {
   "cell_type": "markdown",
   "id": "8a6bdc6f-ca71-4a73-a6b4-df7b0369c3fe",
   "metadata": {},
   "source": [
    "# casting of float into : int, string"
   ]
  },
  {
   "cell_type": "code",
   "execution_count": 10,
   "id": "ff6713d6-76dd-4961-9846-99a046992404",
   "metadata": {},
   "outputs": [
    {
     "data": {
      "text/plain": [
       "10"
      ]
     },
     "execution_count": 10,
     "metadata": {},
     "output_type": "execute_result"
    }
   ],
   "source": [
    "a=10.99\n",
    "int(a)"
   ]
  },
  {
   "cell_type": "code",
   "execution_count": 11,
   "id": "53cf8d83-0c41-46a4-9f53-bf2f0cba783d",
   "metadata": {},
   "outputs": [
    {
     "data": {
      "text/plain": [
       "'10.99'"
      ]
     },
     "execution_count": 11,
     "metadata": {},
     "output_type": "execute_result"
    }
   ],
   "source": [
    "str(a)"
   ]
  },
  {
   "cell_type": "markdown",
   "id": "ca10ed06-36f7-4189-83ec-5b8d13c86dbf",
   "metadata": {},
   "source": [
    "> casting of string into : int, float (if string contain number then only it is possible.)\n",
    "\n",
    "                            > string contain a float value, it is not directly convertible into int \n",
    "                            > example: int(float(\"10.04\"))  --> impact is data loss."
   ]
  },
  {
   "cell_type": "code",
   "execution_count": 18,
   "id": "713fa0d0-6fcf-4b0c-a78b-484ecde05885",
   "metadata": {},
   "outputs": [],
   "source": [
    "a=\"10.99\""
   ]
  },
  {
   "cell_type": "code",
   "execution_count": 19,
   "id": "64dc7d1f-030b-40fa-adc6-416f802309fe",
   "metadata": {},
   "outputs": [
    {
     "data": {
      "text/plain": [
       "10.99"
      ]
     },
     "execution_count": 19,
     "metadata": {},
     "output_type": "execute_result"
    }
   ],
   "source": [
    "float(a)"
   ]
  },
  {
   "cell_type": "code",
   "execution_count": 20,
   "id": "a1e9982d-dee8-4e6a-93cc-0c8717dec569",
   "metadata": {},
   "outputs": [
    {
     "data": {
      "text/plain": [
       "10"
      ]
     },
     "execution_count": 20,
     "metadata": {},
     "output_type": "execute_result"
    }
   ],
   "source": [
    "int(float(a))"
   ]
  },
  {
   "cell_type": "code",
   "execution_count": 21,
   "id": "fd430028-cf3f-45ef-abde-ce7a16292887",
   "metadata": {},
   "outputs": [
    {
     "data": {
      "text/plain": [
       "10.99"
      ]
     },
     "execution_count": 21,
     "metadata": {},
     "output_type": "execute_result"
    }
   ],
   "source": [
    "eval(a)"
   ]
  },
  {
   "cell_type": "code",
   "execution_count": 22,
   "id": "8d257d6e-a13b-41be-b65e-850d70c3eb6d",
   "metadata": {},
   "outputs": [
    {
     "data": {
      "text/plain": [
       "10"
      ]
     },
     "execution_count": 22,
     "metadata": {},
     "output_type": "execute_result"
    }
   ],
   "source": [
    "eval(\"10\")"
   ]
  },
  {
   "cell_type": "markdown",
   "id": "f7613d9e-ab26-4d4c-982b-9fab56801e89",
   "metadata": {},
   "source": [
    "# casting of list into: tuple,set, frozenset"
   ]
  },
  {
   "cell_type": "code",
   "execution_count": 26,
   "id": "c9eff76c-7835-47d1-a2f8-07faf834f298",
   "metadata": {},
   "outputs": [],
   "source": [
    "a=[\"krishna\"]"
   ]
  },
  {
   "cell_type": "code",
   "execution_count": 29,
   "id": "831a8385-7f09-469b-8230-7c6d37cdcb8e",
   "metadata": {},
   "outputs": [
    {
     "data": {
      "text/plain": [
       "\"['krishna']\""
      ]
     },
     "execution_count": 29,
     "metadata": {},
     "output_type": "execute_result"
    }
   ],
   "source": [
    "b=str(a)\n",
    "b"
   ]
  },
  {
   "cell_type": "code",
   "execution_count": 31,
   "id": "51a18641-582c-4394-a596-7b5fd4eef77f",
   "metadata": {},
   "outputs": [],
   "source": [
    "c=list(b)"
   ]
  },
  {
   "cell_type": "code",
   "execution_count": 32,
   "id": "3b73451d-b108-44dc-a70a-1b77cb1f6b68",
   "metadata": {},
   "outputs": [
    {
     "data": {
      "text/plain": [
       "['[', \"'\", 'k', 'r', 'i', 's', 'h', 'n', 'a', \"'\", ']']"
      ]
     },
     "execution_count": 32,
     "metadata": {},
     "output_type": "execute_result"
    }
   ],
   "source": [
    "c"
   ]
  },
  {
   "cell_type": "code",
   "execution_count": 35,
   "id": "7f93730f-cd0a-4143-a06f-0c3082d192ce",
   "metadata": {},
   "outputs": [],
   "source": [
    "d=\"\".join(c)"
   ]
  },
  {
   "cell_type": "code",
   "execution_count": 36,
   "id": "955678f7-f5d4-436b-9b02-4930bc3b731a",
   "metadata": {},
   "outputs": [
    {
     "data": {
      "text/plain": [
       "\"['krishna']\""
      ]
     },
     "execution_count": 36,
     "metadata": {},
     "output_type": "execute_result"
    }
   ],
   "source": [
    "d"
   ]
  },
  {
   "cell_type": "code",
   "execution_count": null,
   "id": "b9474f64-fb1e-4515-aa9d-f06b3e23572a",
   "metadata": {},
   "outputs": [],
   "source": []
  }
 ],
 "metadata": {
  "kernelspec": {
   "display_name": "Python 3 (ipykernel)",
   "language": "python",
   "name": "python3"
  },
  "language_info": {
   "codemirror_mode": {
    "name": "ipython",
    "version": 3
   },
   "file_extension": ".py",
   "mimetype": "text/x-python",
   "name": "python",
   "nbconvert_exporter": "python",
   "pygments_lexer": "ipython3",
   "version": "3.11.5"
  }
 },
 "nbformat": 4,
 "nbformat_minor": 5
}
