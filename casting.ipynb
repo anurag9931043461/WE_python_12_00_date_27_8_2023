{
 "cells": [
  {
   "cell_type": "markdown",
   "id": "2585a5c4-29cb-44db-afa6-225a7199d6e7",
   "metadata": {},
   "source": [
    "casting: conversion of one datatype into another datatype called casting.\n",
    "\n",
    "> casting of int into: float, string\n",
    "\n",
    "> casting of float into : int, string  #sometime data loss happend\n",
    "\n",
    "> casting of string into : int, float (if string contain number then only it is possible.)\n",
    "\n",
    "                            > string contain a float value, it is not directly convertible into int \n",
    "                            > example: int(float(\"10.04\"))  --> impact is data loss.\n",
    "    \n",
    "> casting of list into: tuple,set, frozenset\n",
    "\n",
    "> casting of tuple into : list , set, frozenset\n",
    "\n",
    "> casting of set into : list, tuple,frozenset\n",
    "\n",
    "> casting of frozenset into : set, tuple, list\n",
    "\n"
   ]
  },
  {
   "cell_type": "markdown",
   "id": "709a407c-e88d-43fb-bbe3-924103896d18",
   "metadata": {},
   "source": [
    "# casting of int into: float, string"
   ]
  },
  {
   "cell_type": "code",
   "execution_count": 2,
   "id": "0fe94bad-9558-4a3d-824b-9fcbf9e0e794",
   "metadata": {},
   "outputs": [
    {
     "data": {
      "text/plain": [
       "10.0"
      ]
     },
     "execution_count": 2,
     "metadata": {},
     "output_type": "execute_result"
    }
   ],
   "source": [
    "a=10\n",
    "float(a)"
   ]
  },
  {
   "cell_type": "code",
   "execution_count": 4,
   "id": "08b96718-d4c9-429b-a32c-aa83df772b30",
   "metadata": {},
   "outputs": [
    {
     "name": "stdout",
     "output_type": "stream",
     "text": [
      "10\n"
     ]
    }
   ],
   "source": [
    "print(str(a))"
   ]
  },
  {
   "cell_type": "code",
   "execution_count": 7,
   "id": "0695529b-b644-4376-9b66-42e03974c969",
   "metadata": {},
   "outputs": [
    {
     "data": {
      "text/plain": [
       "str"
      ]
     },
     "execution_count": 7,
     "metadata": {},
     "output_type": "execute_result"
    }
   ],
   "source": [
    "b=str(a)\n",
    "type(b)"
   ]
  },
  {
   "cell_type": "markdown",
   "id": "8a6bdc6f-ca71-4a73-a6b4-df7b0369c3fe",
   "metadata": {},
   "source": [
    "# casting of float into : int, string"
   ]
  },
  {
   "cell_type": "code",
   "execution_count": 10,
   "id": "ff6713d6-76dd-4961-9846-99a046992404",
   "metadata": {},
   "outputs": [
    {
     "data": {
      "text/plain": [
       "10"
      ]
     },
     "execution_count": 10,
     "metadata": {},
     "output_type": "execute_result"
    }
   ],
   "source": [
    "a=10.99\n",
    "int(a)"
   ]
  },
  {
   "cell_type": "code",
   "execution_count": 11,
   "id": "53cf8d83-0c41-46a4-9f53-bf2f0cba783d",
   "metadata": {},
   "outputs": [
    {
     "data": {
      "text/plain": [
       "'10.99'"
      ]
     },
     "execution_count": 11,
     "metadata": {},
     "output_type": "execute_result"
    }
   ],
   "source": [
    "str(a)"
   ]
  },
  {
   "cell_type": "markdown",
   "id": "ca10ed06-36f7-4189-83ec-5b8d13c86dbf",
   "metadata": {},
   "source": [
    "> casting of string into : int, float (if string contain number then only it is possible.)\n",
    "\n",
    "                            > string contain a float value, it is not directly convertible into int \n",
    "                            > example: int(float(\"10.04\"))  --> impact is data loss."
   ]
  },
  {
   "cell_type": "code",
   "execution_count": 18,
   "id": "713fa0d0-6fcf-4b0c-a78b-484ecde05885",
   "metadata": {},
   "outputs": [],
   "source": [
    "a=\"10.99\""
   ]
  },
  {
   "cell_type": "code",
   "execution_count": 19,
   "id": "64dc7d1f-030b-40fa-adc6-416f802309fe",
   "metadata": {},
   "outputs": [
    {
     "data": {
      "text/plain": [
       "10.99"
      ]
     },
     "execution_count": 19,
     "metadata": {},
     "output_type": "execute_result"
    }
   ],
   "source": [
    "float(a)"
   ]
  },
  {
   "cell_type": "code",
   "execution_count": 20,
   "id": "a1e9982d-dee8-4e6a-93cc-0c8717dec569",
   "metadata": {},
   "outputs": [
    {
     "data": {
      "text/plain": [
       "10"
      ]
     },
     "execution_count": 20,
     "metadata": {},
     "output_type": "execute_result"
    }
   ],
   "source": [
    "int(float(a))"
   ]
  },
  {
   "cell_type": "code",
   "execution_count": 21,
   "id": "fd430028-cf3f-45ef-abde-ce7a16292887",
   "metadata": {},
   "outputs": [
    {
     "data": {
      "text/plain": [
       "10.99"
      ]
     },
     "execution_count": 21,
     "metadata": {},
     "output_type": "execute_result"
    }
   ],
   "source": [
    "eval(a)"
   ]
  },
  {
   "cell_type": "code",
   "execution_count": 22,
   "id": "8d257d6e-a13b-41be-b65e-850d70c3eb6d",
   "metadata": {},
   "outputs": [
    {
     "data": {
      "text/plain": [
       "10"
      ]
     },
     "execution_count": 22,
     "metadata": {},
     "output_type": "execute_result"
    }
   ],
   "source": [
    "eval(\"10\")"
   ]
  },
  {
   "cell_type": "markdown",
   "id": "f7613d9e-ab26-4d4c-982b-9fab56801e89",
   "metadata": {},
   "source": [
    "# casting of list into: tuple,set, frozenset"
   ]
  },
  {
   "cell_type": "code",
   "execution_count": 1,
   "id": "c9eff76c-7835-47d1-a2f8-07faf834f298",
   "metadata": {},
   "outputs": [],
   "source": [
    "a=[\"krishna\"]"
   ]
  },
  {
   "cell_type": "code",
   "execution_count": 2,
   "id": "831a8385-7f09-469b-8230-7c6d37cdcb8e",
   "metadata": {},
   "outputs": [
    {
     "data": {
      "text/plain": [
       "\"['krishna']\""
      ]
     },
     "execution_count": 2,
     "metadata": {},
     "output_type": "execute_result"
    }
   ],
   "source": [
    "b=str(a)\n",
    "b"
   ]
  },
  {
   "cell_type": "code",
   "execution_count": 3,
   "id": "51a18641-582c-4394-a596-7b5fd4eef77f",
   "metadata": {},
   "outputs": [],
   "source": [
    "c=list(b)"
   ]
  },
  {
   "cell_type": "code",
   "execution_count": 4,
   "id": "3b73451d-b108-44dc-a70a-1b77cb1f6b68",
   "metadata": {},
   "outputs": [
    {
     "data": {
      "text/plain": [
       "['[', \"'\", 'k', 'r', 'i', 's', 'h', 'n', 'a', \"'\", ']']"
      ]
     },
     "execution_count": 4,
     "metadata": {},
     "output_type": "execute_result"
    }
   ],
   "source": [
    "c"
   ]
  },
  {
   "cell_type": "code",
   "execution_count": 5,
   "id": "7f93730f-cd0a-4143-a06f-0c3082d192ce",
   "metadata": {},
   "outputs": [],
   "source": [
    "d=\"\".join(c)"
   ]
  },
  {
   "cell_type": "code",
   "execution_count": 6,
   "id": "955678f7-f5d4-436b-9b02-4930bc3b731a",
   "metadata": {},
   "outputs": [
    {
     "data": {
      "text/plain": [
       "\"['krishna']\""
      ]
     },
     "execution_count": 6,
     "metadata": {},
     "output_type": "execute_result"
    }
   ],
   "source": [
    "d"
   ]
  },
  {
   "cell_type": "code",
   "execution_count": 11,
   "id": "b9474f64-fb1e-4515-aa9d-f06b3e23572a",
   "metadata": {},
   "outputs": [],
   "source": [
    "a=[3,1,2,4,5,6]"
   ]
  },
  {
   "cell_type": "code",
   "execution_count": 12,
   "id": "27f7e4d4-b870-465a-81c4-57214484d4cc",
   "metadata": {
    "tags": []
   },
   "outputs": [
    {
     "name": "stdout",
     "output_type": "stream",
     "text": [
      "<class 'tuple'> (3, 1, 2, 4, 5, 6)\n"
     ]
    }
   ],
   "source": [
    "b=tuple(a)\n",
    "print(type(b),b)"
   ]
  },
  {
   "cell_type": "code",
   "execution_count": 13,
   "id": "bf800389-0412-44fe-b9d9-563ab16a4219",
   "metadata": {
    "tags": []
   },
   "outputs": [
    {
     "name": "stdout",
     "output_type": "stream",
     "text": [
      "{1, 2, 3, 4, 5, 6}\n"
     ]
    }
   ],
   "source": [
    "print(set(a))"
   ]
  },
  {
   "cell_type": "code",
   "execution_count": 14,
   "id": "ec133e58-6a55-4bec-9abd-fa449ccb8aed",
   "metadata": {
    "tags": []
   },
   "outputs": [
    {
     "name": "stdout",
     "output_type": "stream",
     "text": [
      "frozenset({1, 2, 3, 4, 5, 6})\n"
     ]
    }
   ],
   "source": [
    "print(frozenset(a))"
   ]
  },
  {
   "cell_type": "markdown",
   "id": "7728113d-275a-4d8d-bd78-b709fe45cef3",
   "metadata": {},
   "source": [
    "> casting of tuple into : list , set, frozenset"
   ]
  },
  {
   "cell_type": "code",
   "execution_count": 15,
   "id": "e89a5040-0a1c-4dba-b542-57b80a41781f",
   "metadata": {
    "tags": []
   },
   "outputs": [
    {
     "name": "stdout",
     "output_type": "stream",
     "text": [
      "(3, 1, 2, 4, 5, 6)\n"
     ]
    }
   ],
   "source": [
    "print(b)"
   ]
  },
  {
   "cell_type": "code",
   "execution_count": 16,
   "id": "c7ccfd37-deff-42b9-b738-97ced285e4e4",
   "metadata": {
    "tags": []
   },
   "outputs": [
    {
     "name": "stdout",
     "output_type": "stream",
     "text": [
      "[3, 1, 2, 4, 5, 6]\n"
     ]
    }
   ],
   "source": [
    "print(list(b))"
   ]
  },
  {
   "cell_type": "code",
   "execution_count": 17,
   "id": "860e6d7c-235d-4a49-94e7-07695c49f120",
   "metadata": {
    "tags": []
   },
   "outputs": [
    {
     "name": "stdout",
     "output_type": "stream",
     "text": [
      "frozenset({1, 2, 3, 4, 5, 6})\n"
     ]
    }
   ],
   "source": [
    "print(frozenset(b))"
   ]
  },
  {
   "cell_type": "code",
   "execution_count": 18,
   "id": "a7f7eaa9-411c-4ace-8b53-a2286e50d886",
   "metadata": {
    "tags": []
   },
   "outputs": [
    {
     "name": "stdout",
     "output_type": "stream",
     "text": [
      "{1, 2, 3, 4, 5, 6}\n"
     ]
    }
   ],
   "source": [
    "print(set(b))"
   ]
  },
  {
   "cell_type": "markdown",
   "id": "ddc9c0b2-84ae-400f-932d-63088dbea528",
   "metadata": {},
   "source": [
    "> casting of set into : list, tuple,frozenset\n"
   ]
  },
  {
   "cell_type": "code",
   "execution_count": 21,
   "id": "3e95fe00-f308-4220-8067-b85cd4a4bc2e",
   "metadata": {
    "tags": []
   },
   "outputs": [
    {
     "name": "stdout",
     "output_type": "stream",
     "text": [
      "{34, 3, 4, 5, 6, 7, 2, 42, 23}\n"
     ]
    }
   ],
   "source": [
    "c={3,42,4,5,6,7,5,34,3,23,2,34,5,6}\n",
    "print(c)"
   ]
  },
  {
   "cell_type": "code",
   "execution_count": 26,
   "id": "c26b5b42-4756-49f0-b4d4-e871cd0c45f4",
   "metadata": {
    "tags": []
   },
   "outputs": [
    {
     "name": "stdout",
     "output_type": "stream",
     "text": [
      "[34, 3, 4, 5, 6, 7, 2, 42, 23]\n"
     ]
    }
   ],
   "source": [
    "print(list(c))"
   ]
  },
  {
   "cell_type": "code",
   "execution_count": 25,
   "id": "c64b7271-d7e5-4cd5-a133-7d970b88cae1",
   "metadata": {
    "tags": []
   },
   "outputs": [
    {
     "name": "stdout",
     "output_type": "stream",
     "text": [
      "(34, 3, 4, 5, 6, 7, 2, 42, 23)\n"
     ]
    }
   ],
   "source": [
    "print(tuple(c))"
   ]
  },
  {
   "cell_type": "code",
   "execution_count": 24,
   "id": "7afa94f3-5948-426c-bb0d-cbd48879427c",
   "metadata": {
    "tags": []
   },
   "outputs": [
    {
     "name": "stdout",
     "output_type": "stream",
     "text": [
      "frozenset({34, 3, 4, 5, 6, 7, 2, 42, 23})\n"
     ]
    }
   ],
   "source": [
    "print(frozenset(c))"
   ]
  },
  {
   "cell_type": "markdown",
   "id": "ea8d06bb-1eb2-443d-8eaf-e0e718fffb40",
   "metadata": {},
   "source": [
    "> casting of frozenset into : set, tuple, list"
   ]
  },
  {
   "cell_type": "code",
   "execution_count": 27,
   "id": "a3957e19-4587-42c9-b674-99a0bbab6c63",
   "metadata": {
    "tags": []
   },
   "outputs": [],
   "source": [
    "a=frozenset({34, 3, 4, 5, 6, 7, 2, 42, 23})"
   ]
  },
  {
   "cell_type": "code",
   "execution_count": 28,
   "id": "1e3085bf-c2ea-43b8-bed7-40c33d82f853",
   "metadata": {
    "tags": []
   },
   "outputs": [
    {
     "data": {
      "text/plain": [
       "[34, 3, 4, 5, 6, 7, 2, 42, 23]"
      ]
     },
     "execution_count": 28,
     "metadata": {},
     "output_type": "execute_result"
    }
   ],
   "source": [
    "list(a)"
   ]
  },
  {
   "cell_type": "code",
   "execution_count": 29,
   "id": "572448d6-4225-4c57-b1f7-3e222afd432d",
   "metadata": {
    "tags": []
   },
   "outputs": [
    {
     "data": {
      "text/plain": [
       "(34, 3, 4, 5, 6, 7, 2, 42, 23)"
      ]
     },
     "execution_count": 29,
     "metadata": {},
     "output_type": "execute_result"
    }
   ],
   "source": [
    "tuple(a)"
   ]
  },
  {
   "cell_type": "code",
   "execution_count": 30,
   "id": "b54c0035-2eb5-4391-9560-59f97dbca48a",
   "metadata": {
    "tags": []
   },
   "outputs": [
    {
     "data": {
      "text/plain": [
       "{2, 3, 4, 5, 6, 7, 23, 34, 42}"
      ]
     },
     "execution_count": 30,
     "metadata": {},
     "output_type": "execute_result"
    }
   ],
   "source": [
    "set(a)"
   ]
  },
  {
   "cell_type": "code",
   "execution_count": null,
   "id": "d172c7ab-8093-47c1-9494-584b42d1969d",
   "metadata": {},
   "outputs": [],
   "source": []
  }
 ],
 "metadata": {
  "kernelspec": {
   "display_name": "Python 3 (ipykernel)",
   "language": "python",
   "name": "python3"
  },
  "language_info": {
   "codemirror_mode": {
    "name": "ipython",
    "version": 3
   },
   "file_extension": ".py",
   "mimetype": "text/x-python",
   "name": "python",
   "nbconvert_exporter": "python",
   "pygments_lexer": "ipython3",
   "version": "3.11.5"
  }
 },
 "nbformat": 4,
 "nbformat_minor": 5
}
