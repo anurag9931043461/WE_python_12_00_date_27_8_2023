{
 "cells": [
  {
   "cell_type": "raw",
   "id": "f10505f9-d64c-4af6-af78-4742531bb944",
   "metadata": {},
   "source": [
    "> string constructor is str()\n",
    "> string literal is '',\"\",\"\"\"\"\"\",''''''\n",
    "> string support indexing \n",
    "> string support slicing \n",
    "> string is immutable \n",
    "> string support concationation \n",
    "> string methods."
   ]
  },
  {
   "cell_type": "code",
   "execution_count": 10,
   "id": "3beda800-448f-426c-a56b-9827c01f9b3b",
   "metadata": {},
   "outputs": [
    {
     "name": "stdout",
     "output_type": "stream",
     "text": [
      "Hello world\n",
      "Hello world\n"
     ]
    }
   ],
   "source": [
    "print(\"Hello world\")\n",
    "print('Hello world')"
   ]
  },
  {
   "cell_type": "code",
   "execution_count": 12,
   "id": "794ef3d0-7f84-4932-a6cc-3e07be2f5e83",
   "metadata": {},
   "outputs": [
    {
     "name": "stdout",
     "output_type": "stream",
     "text": [
      "hello \n",
      "\n",
      "\n",
      "world\n",
      "hello\n",
      "\n",
      "                     world\n"
     ]
    }
   ],
   "source": [
    "print(\"\"\"hello \n",
    "\n",
    "\n",
    "world\"\"\")\n",
    "print('''hello\n",
    "\n",
    "                     world''')"
   ]
  },
  {
   "cell_type": "code",
   "execution_count": 13,
   "id": "05c3f898-88cc-4ef9-9fcc-7a8b5d56f3f9",
   "metadata": {},
   "outputs": [
    {
     "name": "stdout",
     "output_type": "stream",
     "text": [
      "this is krishna\n",
      "\n",
      "    I am python AI trainer\n",
      "    \n",
      "        In MCA final year\n"
     ]
    }
   ],
   "source": [
    "print(\"\"\"this is krishna\n",
    "\n",
    "    I am python AI trainer\n",
    "    \n",
    "        In MCA final year\"\"\")"
   ]
  },
  {
   "cell_type": "code",
   "execution_count": 14,
   "id": "12465023-b24d-44ea-8296-18b3cd3accb6",
   "metadata": {},
   "outputs": [
    {
     "name": "stdout",
     "output_type": "stream",
     "text": [
      "this is krishna\n",
      "\n",
      "    I am python AI trainer\n",
      "    \n",
      "        In MCA final year\n"
     ]
    }
   ],
   "source": [
    "print('''this is krishna\n",
    "\n",
    "    I am python AI trainer\n",
    "    \n",
    "        In MCA final year''')"
   ]
  },
  {
   "cell_type": "code",
   "execution_count": 15,
   "id": "7b0284e3-60d2-4fee-95ec-586018a004fa",
   "metadata": {},
   "outputs": [],
   "source": [
    "a=\"krishna\""
   ]
  },
  {
   "cell_type": "code",
   "execution_count": 16,
   "id": "6ea2c98e-ab00-4d21-b2c9-88e7d7d4a712",
   "metadata": {},
   "outputs": [
    {
     "name": "stdout",
     "output_type": "stream",
     "text": [
      "krishna\n"
     ]
    }
   ],
   "source": [
    "print(a)"
   ]
  },
  {
   "cell_type": "code",
   "execution_count": 18,
   "id": "9dc4f418-e5a9-4b53-a2a1-b2b50d8553ae",
   "metadata": {},
   "outputs": [
    {
     "data": {
      "text/plain": [
       "'a'"
      ]
     },
     "execution_count": 18,
     "metadata": {},
     "output_type": "execute_result"
    }
   ],
   "source": [
    "a[6]  #positive indexing "
   ]
  },
  {
   "cell_type": "code",
   "execution_count": 19,
   "id": "f5a90dc0-ae6b-41af-b550-96f4643328fa",
   "metadata": {},
   "outputs": [
    {
     "data": {
      "text/plain": [
       "'a'"
      ]
     },
     "execution_count": 19,
     "metadata": {},
     "output_type": "execute_result"
    }
   ],
   "source": [
    "a[-1]  # indexing(negative indexing)"
   ]
  },
  {
   "cell_type": "code",
   "execution_count": 22,
   "id": "04545cbd-9827-4a28-b4b8-13c475b262fc",
   "metadata": {},
   "outputs": [
    {
     "data": {
      "text/plain": [
       "'krish'"
      ]
     },
     "execution_count": 22,
     "metadata": {},
     "output_type": "execute_result"
    }
   ],
   "source": [
    "a[0:5:1]   # slicing "
   ]
  },
  {
   "cell_type": "code",
   "execution_count": 24,
   "id": "23d424bf-fed5-49c2-8d71-757e83bbb498",
   "metadata": {},
   "outputs": [
    {
     "data": {
      "text/plain": [
       "'krishna'"
      ]
     },
     "execution_count": 24,
     "metadata": {},
     "output_type": "execute_result"
    }
   ],
   "source": [
    "a[0:7789749328749823749872398423984792834987:1]"
   ]
  },
  {
   "cell_type": "code",
   "execution_count": 25,
   "id": "53399ea0-cb3f-4da3-ad1b-3ad20c047b9d",
   "metadata": {},
   "outputs": [
    {
     "data": {
      "text/plain": [
       "'krishna'"
      ]
     },
     "execution_count": 25,
     "metadata": {},
     "output_type": "execute_result"
    }
   ],
   "source": [
    "a[0::1]"
   ]
  },
  {
   "cell_type": "code",
   "execution_count": 26,
   "id": "dea3bb17-99a9-4b5a-9847-a69c0fb334d5",
   "metadata": {},
   "outputs": [
    {
     "data": {
      "text/plain": [
       "'krishna'"
      ]
     },
     "execution_count": 26,
     "metadata": {},
     "output_type": "execute_result"
    }
   ],
   "source": [
    "a[0::]"
   ]
  },
  {
   "cell_type": "code",
   "execution_count": 27,
   "id": "56f1a266-7209-4f32-8417-b1f3723572dc",
   "metadata": {},
   "outputs": [
    {
     "data": {
      "text/plain": [
       "'krishna'"
      ]
     },
     "execution_count": 27,
     "metadata": {},
     "output_type": "execute_result"
    }
   ],
   "source": [
    "a[::]"
   ]
  },
  {
   "cell_type": "code",
   "execution_count": 28,
   "id": "f4b56ab4-bbab-4f3a-b00d-36e39b7fa656",
   "metadata": {},
   "outputs": [
    {
     "data": {
      "text/plain": [
       "'krishna'"
      ]
     },
     "execution_count": 28,
     "metadata": {},
     "output_type": "execute_result"
    }
   ],
   "source": [
    "a[:]"
   ]
  },
  {
   "cell_type": "code",
   "execution_count": 29,
   "id": "f62e3a62-31c0-4015-a72f-43bf84b524f8",
   "metadata": {},
   "outputs": [
    {
     "data": {
      "text/plain": [
       "'anhsirk'"
      ]
     },
     "execution_count": 29,
     "metadata": {},
     "output_type": "execute_result"
    }
   ],
   "source": [
    "a[-1:-8:-1]"
   ]
  },
  {
   "cell_type": "code",
   "execution_count": 34,
   "id": "7868d4d5-86fa-4772-a7fb-61fd43321b3a",
   "metadata": {},
   "outputs": [
    {
     "name": "stdout",
     "output_type": "stream",
     "text": [
      "krishna kumarkumar\n"
     ]
    }
   ],
   "source": [
    "print(\"krishna\"+\" \"+\"kumar\"+\"kumar\")"
   ]
  },
  {
   "cell_type": "code",
   "execution_count": 35,
   "id": "05d0cc06-37b8-4d07-b64a-fc2de1c5e065",
   "metadata": {},
   "outputs": [
    {
     "name": "stdout",
     "output_type": "stream",
     "text": [
      "krishna\n"
     ]
    }
   ],
   "source": [
    "print(a)"
   ]
  },
  {
   "cell_type": "code",
   "execution_count": 36,
   "id": "5ba47022-a4b8-4d31-ba34-4422c746ef7c",
   "metadata": {},
   "outputs": [
    {
     "data": {
      "text/plain": [
       "'Krishna'"
      ]
     },
     "execution_count": 36,
     "metadata": {},
     "output_type": "execute_result"
    }
   ],
   "source": [
    "a.capitalize()"
   ]
  },
  {
   "cell_type": "code",
   "execution_count": 37,
   "id": "06fb96ac-0bbe-47ba-97eb-58cb341f1921",
   "metadata": {},
   "outputs": [
    {
     "name": "stdout",
     "output_type": "stream",
     "text": [
      "krishna\n"
     ]
    }
   ],
   "source": [
    "print(a)"
   ]
  },
  {
   "cell_type": "code",
   "execution_count": 38,
   "id": "9a9dd891-8a03-40b7-bb13-6e51283d5995",
   "metadata": {},
   "outputs": [
    {
     "data": {
      "text/plain": [
       "'KRISHNA'"
      ]
     },
     "execution_count": 38,
     "metadata": {},
     "output_type": "execute_result"
    }
   ],
   "source": [
    "a.upper()"
   ]
  },
  {
   "cell_type": "code",
   "execution_count": 39,
   "id": "aab8ad38-8940-46ba-a670-55989994771f",
   "metadata": {},
   "outputs": [
    {
     "name": "stdout",
     "output_type": "stream",
     "text": [
      "krishna\n"
     ]
    }
   ],
   "source": [
    "print(a)"
   ]
  },
  {
   "cell_type": "code",
   "execution_count": 40,
   "id": "dc94f7fe-a340-465d-ab66-1dbd4f8021b0",
   "metadata": {},
   "outputs": [],
   "source": [
    "a=\"     nnkrishna714@gmail.com     \""
   ]
  },
  {
   "cell_type": "code",
   "execution_count": 41,
   "id": "6902b9a6-f004-41bf-9d0b-18f752264bc9",
   "metadata": {},
   "outputs": [
    {
     "data": {
      "text/plain": [
       "'     nnkrishna714@gmail.com     '"
      ]
     },
     "execution_count": 41,
     "metadata": {},
     "output_type": "execute_result"
    }
   ],
   "source": [
    "a"
   ]
  },
  {
   "cell_type": "code",
   "execution_count": 42,
   "id": "8b74e5a2-4eab-488c-8778-bde7cdaaaa41",
   "metadata": {},
   "outputs": [
    {
     "data": {
      "text/plain": [
       "'nnkrishna714@gmail.com'"
      ]
     },
     "execution_count": 42,
     "metadata": {},
     "output_type": "execute_result"
    }
   ],
   "source": [
    "a.strip()"
   ]
  },
  {
   "cell_type": "code",
   "execution_count": null,
   "id": "71f68c09-9861-4e8c-9ed7-ebfe5b669beb",
   "metadata": {},
   "outputs": [],
   "source": []
  }
 ],
 "metadata": {
  "kernelspec": {
   "display_name": "Python 3 (ipykernel)",
   "language": "python",
   "name": "python3"
  },
  "language_info": {
   "codemirror_mode": {
    "name": "ipython",
    "version": 3
   },
   "file_extension": ".py",
   "mimetype": "text/x-python",
   "name": "python",
   "nbconvert_exporter": "python",
   "pygments_lexer": "ipython3",
   "version": "3.11.5"
  }
 },
 "nbformat": 4,
 "nbformat_minor": 5
}
