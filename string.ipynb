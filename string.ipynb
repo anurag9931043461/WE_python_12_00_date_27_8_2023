{
 "cells": [
  {
   "cell_type": "markdown",
   "id": "b74051ca-e0b9-4655-b38e-17498b96ceb5",
   "metadata": {},
   "source": [
    "# String\n",
    "\n",
    "> string constructor is str()\n",
    "\n",
    "> string litral is '',\"\",\"\"\"\"\"\",''''''\n",
    "\n",
    "> string is a set of sequence of charater.\n",
    "\n",
    "> string support indexing \n",
    "\n",
    "> string support slicing \n",
    "\n",
    "> string is immutable(hashable)\n",
    "\n",
    "> string support concatination\n",
    "\n",
    "> string methods."
   ]
  },
  {
   "cell_type": "code",
   "execution_count": 1,
   "id": "2cf58d7a-2496-4f42-ac1f-f5353ede952d",
   "metadata": {},
   "outputs": [],
   "source": [
    "a=\"KRISHNA\""
   ]
  },
  {
   "cell_type": "code",
   "execution_count": 2,
   "id": "33089dfc-f31b-4954-b8e8-f5c5262ce2ab",
   "metadata": {},
   "outputs": [
    {
     "name": "stdout",
     "output_type": "stream",
     "text": [
      "KRISHNA\n"
     ]
    }
   ],
   "source": [
    "print(a)"
   ]
  },
  {
   "cell_type": "code",
   "execution_count": 3,
   "id": "f06220e9-389d-4f6a-9cd9-a50a49e1c2c3",
   "metadata": {},
   "outputs": [
    {
     "name": "stdout",
     "output_type": "stream",
     "text": [
      "hello world\n"
     ]
    }
   ],
   "source": [
    "print(\"hello world\")"
   ]
  },
  {
   "cell_type": "code",
   "execution_count": 4,
   "id": "42f2ec60-25c9-4939-86c9-f37267735ac3",
   "metadata": {},
   "outputs": [
    {
     "name": "stdout",
     "output_type": "stream",
     "text": [
      "hello world\n"
     ]
    }
   ],
   "source": [
    "print('hello world')"
   ]
  },
  {
   "cell_type": "code",
   "execution_count": 5,
   "id": "ed88e40b-a330-4f3d-8c96-bc7c30e7b1ce",
   "metadata": {},
   "outputs": [
    {
     "name": "stdout",
     "output_type": "stream",
     "text": [
      "hello world\n"
     ]
    }
   ],
   "source": [
    "print(\"\"\"hello world\"\"\")"
   ]
  },
  {
   "cell_type": "code",
   "execution_count": 6,
   "id": "b07f71fe-f313-4274-a484-0d107c09fe64",
   "metadata": {},
   "outputs": [
    {
     "name": "stdout",
     "output_type": "stream",
     "text": [
      "hello world\n"
     ]
    }
   ],
   "source": [
    "print('''hello world''')"
   ]
  },
  {
   "cell_type": "code",
   "execution_count": 8,
   "id": "d6727489-8388-4e06-8ffa-bea47783faa3",
   "metadata": {},
   "outputs": [
    {
     "name": "stdout",
     "output_type": "stream",
     "text": [
      "You guys are \"genius\"\n"
     ]
    }
   ],
   "source": [
    "print(\"You guys are \\\"genius\\\"\")"
   ]
  },
  {
   "cell_type": "code",
   "execution_count": 9,
   "id": "1fc4d3df-44a0-4f47-8c07-ff6428673507",
   "metadata": {},
   "outputs": [
    {
     "name": "stdout",
     "output_type": "stream",
     "text": [
      "you guys are \"genius\"\n"
     ]
    }
   ],
   "source": [
    "print('you guys are \"genius\"')"
   ]
  },
  {
   "cell_type": "code",
   "execution_count": 10,
   "id": "8c05c2b5-dd18-4961-8a16-20a7a39e870f",
   "metadata": {},
   "outputs": [],
   "source": [
    "a=\"KRISHNA\""
   ]
  },
  {
   "cell_type": "code",
   "execution_count": 11,
   "id": "332182ba-799e-4804-9229-afaee542605a",
   "metadata": {},
   "outputs": [
    {
     "data": {
      "text/plain": [
       "'S'"
      ]
     },
     "execution_count": 11,
     "metadata": {},
     "output_type": "execute_result"
    }
   ],
   "source": [
    "a[3]"
   ]
  },
  {
   "cell_type": "code",
   "execution_count": 12,
   "id": "d327e8a6-ff23-416c-b7fd-dab9d0d18669",
   "metadata": {},
   "outputs": [
    {
     "data": {
      "text/plain": [
       "'K'"
      ]
     },
     "execution_count": 12,
     "metadata": {},
     "output_type": "execute_result"
    }
   ],
   "source": [
    "a[0]"
   ]
  },
  {
   "cell_type": "code",
   "execution_count": 13,
   "id": "c13cd344-9cb7-497e-b60b-009a422c9f9a",
   "metadata": {},
   "outputs": [
    {
     "data": {
      "text/plain": [
       "'KRIS'"
      ]
     },
     "execution_count": 13,
     "metadata": {},
     "output_type": "execute_result"
    }
   ],
   "source": [
    "a[0:4]"
   ]
  },
  {
   "cell_type": "code",
   "execution_count": 15,
   "id": "5440b456-46cd-414e-b493-2f113b1baca2",
   "metadata": {},
   "outputs": [
    {
     "name": "stdout",
     "output_type": "stream",
     "text": [
      "KRISH\n"
     ]
    }
   ],
   "source": [
    "print(a[0:5])"
   ]
  },
  {
   "cell_type": "code",
   "execution_count": 16,
   "id": "c18334ac-fcc4-4c7c-844d-9699b2efc4ce",
   "metadata": {},
   "outputs": [
    {
     "data": {
      "text/plain": [
       "'KRISHNA'"
      ]
     },
     "execution_count": 16,
     "metadata": {},
     "output_type": "execute_result"
    }
   ],
   "source": [
    "a[0:7]"
   ]
  },
  {
   "cell_type": "code",
   "execution_count": 18,
   "id": "a7193467-cbbd-476c-9c4b-ce1cbe18a088",
   "metadata": {},
   "outputs": [
    {
     "data": {
      "text/plain": [
       "'KRISHNA'"
      ]
     },
     "execution_count": 18,
     "metadata": {},
     "output_type": "execute_result"
    }
   ],
   "source": [
    "a[0:7:1]"
   ]
  },
  {
   "cell_type": "code",
   "execution_count": 19,
   "id": "122bec97-6bae-43c4-a5aa-66fbd1bf99e5",
   "metadata": {},
   "outputs": [
    {
     "data": {
      "text/plain": [
       "'KIHA'"
      ]
     },
     "execution_count": 19,
     "metadata": {},
     "output_type": "execute_result"
    }
   ],
   "source": [
    "a[0:7:2]"
   ]
  },
  {
   "cell_type": "code",
   "execution_count": 17,
   "id": "d50621d0-b895-4ab8-8799-cfc918eca44b",
   "metadata": {},
   "outputs": [
    {
     "name": "stdout",
     "output_type": "stream",
     "text": [
      "KRISHNA\n"
     ]
    }
   ],
   "source": [
    "print(a)"
   ]
  },
  {
   "cell_type": "code",
   "execution_count": 20,
   "id": "17bb1b8a-04d2-4ae3-8cb3-d8767a01d4e6",
   "metadata": {},
   "outputs": [
    {
     "data": {
      "text/plain": [
       "'KRISHNA'"
      ]
     },
     "execution_count": 20,
     "metadata": {},
     "output_type": "execute_result"
    }
   ],
   "source": [
    "a[0:7:1]"
   ]
  },
  {
   "cell_type": "code",
   "execution_count": 21,
   "id": "7571ead9-cfa5-4fc5-a72e-e83ca1c94580",
   "metadata": {},
   "outputs": [
    {
     "data": {
      "text/plain": [
       "'KRISHNA'"
      ]
     },
     "execution_count": 21,
     "metadata": {},
     "output_type": "execute_result"
    }
   ],
   "source": [
    "a[:7:1]"
   ]
  },
  {
   "cell_type": "code",
   "execution_count": 22,
   "id": "ba530c27-5eaa-4655-8b6c-b047f51fcfee",
   "metadata": {},
   "outputs": [
    {
     "data": {
      "text/plain": [
       "'KRISHNA'"
      ]
     },
     "execution_count": 22,
     "metadata": {},
     "output_type": "execute_result"
    }
   ],
   "source": [
    "a[::1]"
   ]
  },
  {
   "cell_type": "code",
   "execution_count": 23,
   "id": "2196a4f4-8f0c-4a76-a9b6-61b5bb8de047",
   "metadata": {},
   "outputs": [
    {
     "data": {
      "text/plain": [
       "'KRISHNA'"
      ]
     },
     "execution_count": 23,
     "metadata": {},
     "output_type": "execute_result"
    }
   ],
   "source": [
    "a[::]"
   ]
  },
  {
   "cell_type": "code",
   "execution_count": 24,
   "id": "aebfd59d-dd4c-431b-8437-cbf06e8a0329",
   "metadata": {},
   "outputs": [
    {
     "data": {
      "text/plain": [
       "'KRISHNA'"
      ]
     },
     "execution_count": 24,
     "metadata": {},
     "output_type": "execute_result"
    }
   ],
   "source": [
    "a[:]"
   ]
  },
  {
   "cell_type": "code",
   "execution_count": 25,
   "id": "6159b591-482f-4116-bfb3-43908545d1cf",
   "metadata": {},
   "outputs": [
    {
     "data": {
      "text/plain": [
       "'KRISHNA'"
      ]
     },
     "execution_count": 25,
     "metadata": {},
     "output_type": "execute_result"
    }
   ],
   "source": [
    "a[-7:]"
   ]
  },
  {
   "cell_type": "code",
   "execution_count": 26,
   "id": "89200e49-185a-4772-ad57-e1faa37d9b11",
   "metadata": {},
   "outputs": [
    {
     "data": {
      "text/plain": [
       "'KRISHNA'"
      ]
     },
     "execution_count": 26,
     "metadata": {},
     "output_type": "execute_result"
    }
   ],
   "source": [
    "a[-7::1]"
   ]
  },
  {
   "cell_type": "code",
   "execution_count": 27,
   "id": "2a21848a-b619-488a-adcc-dc2cd528e189",
   "metadata": {},
   "outputs": [
    {
     "data": {
      "text/plain": [
       "'KIHA'"
      ]
     },
     "execution_count": 27,
     "metadata": {},
     "output_type": "execute_result"
    }
   ],
   "source": [
    "a[-7::2]"
   ]
  },
  {
   "cell_type": "code",
   "execution_count": 30,
   "id": "3eb668da-1076-4123-99c5-f40319baa8fd",
   "metadata": {},
   "outputs": [
    {
     "data": {
      "text/plain": [
       "'ANHSIRK'"
      ]
     },
     "execution_count": 30,
     "metadata": {},
     "output_type": "execute_result"
    }
   ],
   "source": [
    "a[-1:-45345433563463546345624563456:-1]"
   ]
  },
  {
   "cell_type": "code",
   "execution_count": 31,
   "id": "e0ffdd61-7b92-45ee-a5e7-8133ad79ea43",
   "metadata": {},
   "outputs": [
    {
     "data": {
      "text/plain": [
       "'ANHSIRK'"
      ]
     },
     "execution_count": 31,
     "metadata": {},
     "output_type": "execute_result"
    }
   ],
   "source": [
    "a[:-8:-1]"
   ]
  },
  {
   "cell_type": "code",
   "execution_count": 32,
   "id": "08ce2d45-a620-40c8-9553-f78e14c1a5c2",
   "metadata": {},
   "outputs": [
    {
     "data": {
      "text/plain": [
       "'ANHSIRK'"
      ]
     },
     "execution_count": 32,
     "metadata": {},
     "output_type": "execute_result"
    }
   ],
   "source": [
    "a[::-1]"
   ]
  },
  {
   "cell_type": "code",
   "execution_count": 33,
   "id": "f449262e-f50c-4448-a837-0a0a288f56f6",
   "metadata": {},
   "outputs": [
    {
     "data": {
      "text/plain": [
       "'ANHSIR'"
      ]
     },
     "execution_count": 33,
     "metadata": {},
     "output_type": "execute_result"
    }
   ],
   "source": [
    "a[7:0:-1]"
   ]
  },
  {
   "cell_type": "code",
   "execution_count": 34,
   "id": "2a3772f0-f4d2-4165-911c-c1e6d0364aa3",
   "metadata": {},
   "outputs": [
    {
     "data": {
      "text/plain": [
       "'AkshayWedsJuhi'"
      ]
     },
     "execution_count": 34,
     "metadata": {},
     "output_type": "execute_result"
    }
   ],
   "source": [
    "\"Akshay\"+\"Weds\"+\"Juhi\""
   ]
  },
  {
   "cell_type": "code",
   "execution_count": 35,
   "id": "eda19313-0e6d-497d-a8d0-5637e36b5dc1",
   "metadata": {},
   "outputs": [
    {
     "data": {
      "text/plain": [
       "'Akshay Weds Juhi'"
      ]
     },
     "execution_count": 35,
     "metadata": {},
     "output_type": "execute_result"
    }
   ],
   "source": [
    "\"Akshay\"+\" \"+\"Weds\"+\" \"+\"Juhi\""
   ]
  },
  {
   "cell_type": "code",
   "execution_count": 36,
   "id": "b69eb8e2-faf0-4aa4-9e63-184dc89f813e",
   "metadata": {},
   "outputs": [
    {
     "data": {
      "text/plain": [
       "'Akshay Weds Juhi'"
      ]
     },
     "execution_count": 36,
     "metadata": {},
     "output_type": "execute_result"
    }
   ],
   "source": [
    "\"Akshay \"+\"Weds \"+\"Juhi\""
   ]
  },
  {
   "cell_type": "code",
   "execution_count": 37,
   "id": "00bca4ce-773a-4c72-951f-df4c4d2139e7",
   "metadata": {},
   "outputs": [
    {
     "name": "stdout",
     "output_type": "stream",
     "text": [
      "AkshaywedsJuhi\n"
     ]
    }
   ],
   "source": [
    "print(\"Akshay\"\"weds\"\"Juhi\")"
   ]
  },
  {
   "cell_type": "code",
   "execution_count": 38,
   "id": "49a5108c-6c23-4bbd-b1e9-bab63c357483",
   "metadata": {},
   "outputs": [
    {
     "name": "stdout",
     "output_type": "stream",
     "text": [
      "Akshay weds Juhi\n"
     ]
    }
   ],
   "source": [
    "print(\"Akshay\",\"weds\",\"Juhi\")"
   ]
  },
  {
   "cell_type": "code",
   "execution_count": 39,
   "id": "7cb0f7ca-5dcf-41c4-b41c-31bb73339919",
   "metadata": {},
   "outputs": [
    {
     "name": "stdout",
     "output_type": "stream",
     "text": [
      "AkshaywedsJuhi\n"
     ]
    }
   ],
   "source": [
    "print(\"Akshay\",\"weds\",\"Juhi\",sep=\"\")"
   ]
  },
  {
   "cell_type": "markdown",
   "id": "0ddb518d-7ab4-4754-90b3-989b2cc817f5",
   "metadata": {},
   "source": [
    "# string methods."
   ]
  },
  {
   "cell_type": "code",
   "execution_count": 41,
   "id": "c2354aac-71a1-436e-85b8-e7874d652e6c",
   "metadata": {},
   "outputs": [],
   "source": [
    "a=\"akshay\""
   ]
  },
  {
   "cell_type": "code",
   "execution_count": 44,
   "id": "2892053d-9e40-444f-8860-7d7ba5926f68",
   "metadata": {},
   "outputs": [],
   "source": [
    "b=a.capitalize()"
   ]
  },
  {
   "cell_type": "code",
   "execution_count": 43,
   "id": "4a28ac85-a6ed-4a43-a27a-91c764bfe6e3",
   "metadata": {},
   "outputs": [
    {
     "name": "stdout",
     "output_type": "stream",
     "text": [
      "akshay\n"
     ]
    }
   ],
   "source": [
    "print(a)"
   ]
  },
  {
   "cell_type": "code",
   "execution_count": 45,
   "id": "acbe10da-1a5a-4e60-8b86-2f89e924342b",
   "metadata": {},
   "outputs": [
    {
     "name": "stdout",
     "output_type": "stream",
     "text": [
      "Akshay\n"
     ]
    }
   ],
   "source": [
    "print(b)"
   ]
  },
  {
   "cell_type": "code",
   "execution_count": 46,
   "id": "b9c4f702-0d7c-45b2-8507-653de79d56f7",
   "metadata": {},
   "outputs": [
    {
     "name": "stdout",
     "output_type": "stream",
     "text": [
      "akshay\n"
     ]
    }
   ],
   "source": [
    "print(a)"
   ]
  },
  {
   "cell_type": "code",
   "execution_count": 49,
   "id": "85d5e7a1-db15-4331-a81d-9f335b085b9d",
   "metadata": {},
   "outputs": [],
   "source": [
    "b=\"     NnKrisHnA714@GmaiL.Com      \""
   ]
  },
  {
   "cell_type": "code",
   "execution_count": 51,
   "id": "9f0c3a6d-f535-4261-9026-24af9ba64631",
   "metadata": {},
   "outputs": [],
   "source": [
    "c=b.casefold()"
   ]
  },
  {
   "cell_type": "code",
   "execution_count": 53,
   "id": "34668f5e-17cb-4d68-8c23-814778e1a487",
   "metadata": {},
   "outputs": [
    {
     "data": {
      "text/plain": [
       "'     nnkrishna714@gmail.com      '"
      ]
     },
     "execution_count": 53,
     "metadata": {},
     "output_type": "execute_result"
    }
   ],
   "source": [
    "c"
   ]
  },
  {
   "cell_type": "code",
   "execution_count": 55,
   "id": "9afe9d8e-d1b9-42f5-9fd0-b3aefea91577",
   "metadata": {},
   "outputs": [],
   "source": [
    "d=c.strip()"
   ]
  },
  {
   "cell_type": "code",
   "execution_count": 58,
   "id": "7fb27591-9c43-4076-a92a-9a6dadc87b03",
   "metadata": {},
   "outputs": [
    {
     "data": {
      "text/plain": [
       "'nnkrishna714@gmail.com'"
      ]
     },
     "execution_count": 58,
     "metadata": {},
     "output_type": "execute_result"
    }
   ],
   "source": [
    "b.casefold().strip()    #d"
   ]
  },
  {
   "cell_type": "code",
   "execution_count": 60,
   "id": "d63e819a-86e5-4e48-8ea0-42cd30b09eba",
   "metadata": {},
   "outputs": [
    {
     "data": {
      "text/plain": [
       "'     NnKrisHnA714@GmaiL.Com      '"
      ]
     },
     "execution_count": 60,
     "metadata": {},
     "output_type": "execute_result"
    }
   ],
   "source": [
    "b"
   ]
  },
  {
   "cell_type": "code",
   "execution_count": 61,
   "id": "1812205b-2af4-46ba-b822-00434d834f29",
   "metadata": {},
   "outputs": [
    {
     "data": {
      "text/plain": [
       "'     nnkrishna714@gmail.com      '"
      ]
     },
     "execution_count": 61,
     "metadata": {},
     "output_type": "execute_result"
    }
   ],
   "source": [
    "b.lower()"
   ]
  },
  {
   "cell_type": "code",
   "execution_count": 62,
   "id": "6a2d2bd0-221e-40f5-b15b-16b9e6a33982",
   "metadata": {},
   "outputs": [
    {
     "data": {
      "text/plain": [
       "2"
      ]
     },
     "execution_count": 62,
     "metadata": {},
     "output_type": "execute_result"
    }
   ],
   "source": [
    "b.count(\"n\")"
   ]
  },
  {
   "cell_type": "code",
   "execution_count": 63,
   "id": "bc3d38fb-77c7-46b2-a707-76e580ecf31a",
   "metadata": {},
   "outputs": [
    {
     "data": {
      "text/plain": [
       "1"
      ]
     },
     "execution_count": 63,
     "metadata": {},
     "output_type": "execute_result"
    }
   ],
   "source": [
    "b.count(\"KrisH\")"
   ]
  },
  {
   "cell_type": "code",
   "execution_count": 64,
   "id": "1b8f7e52-02b1-4bdc-8b5e-f1ab85a1ef2b",
   "metadata": {},
   "outputs": [
    {
     "data": {
      "text/plain": [
       "6"
      ]
     },
     "execution_count": 64,
     "metadata": {},
     "output_type": "execute_result"
    }
   ],
   "source": [
    "b.find(\"n\")"
   ]
  },
  {
   "cell_type": "code",
   "execution_count": 67,
   "id": "36207eda-7a8a-46f1-b810-6fa8bbf87597",
   "metadata": {},
   "outputs": [
    {
     "data": {
      "text/plain": [
       "True"
      ]
     },
     "execution_count": 67,
     "metadata": {},
     "output_type": "execute_result"
    }
   ],
   "source": [
    "b.endswith(\".Com      \")"
   ]
  },
  {
   "cell_type": "code",
   "execution_count": 65,
   "id": "a6c77037-aff7-4f85-bc42-579c7cfc0dd7",
   "metadata": {},
   "outputs": [
    {
     "data": {
      "text/plain": [
       "'     NnKrisHnA714@GmaiL.Com      '"
      ]
     },
     "execution_count": 65,
     "metadata": {},
     "output_type": "execute_result"
    }
   ],
   "source": [
    "b"
   ]
  },
  {
   "cell_type": "code",
   "execution_count": null,
   "id": "7c96682a-6464-4e30-ba94-db755998c7e5",
   "metadata": {},
   "outputs": [],
   "source": []
  }
 ],
 "metadata": {
  "kernelspec": {
   "display_name": "Python 3 (ipykernel)",
   "language": "python",
   "name": "python3"
  },
  "language_info": {
   "codemirror_mode": {
    "name": "ipython",
    "version": 3
   },
   "file_extension": ".py",
   "mimetype": "text/x-python",
   "name": "python",
   "nbconvert_exporter": "python",
   "pygments_lexer": "ipython3",
   "version": "3.11.5"
  }
 },
 "nbformat": 4,
 "nbformat_minor": 5
}
