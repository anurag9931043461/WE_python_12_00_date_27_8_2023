{
 "cells": [
  {
   "cell_type": "markdown",
   "id": "4d7ab498-2733-451e-a4da-499ff79b193d",
   "metadata": {},
   "source": [
    "# conditional programming\n",
    "\n",
    "> indentation (does python work on {} or not? --> no, it work on indentation)\n",
    "\n",
    "> indented block\n",
    "\n",
    "> if else\n",
    "\n",
    "> nested if else\n",
    "\n",
    "> if elif else\n",
    "\n",
    "> nested if elif else\n",
    "\n",
    "> pass keyword\n",
    "\n",
    "> ternary operator(applyed in if else or nested if else)\n"
   ]
  },
  {
   "cell_type": "code",
   "execution_count": 4,
   "id": "f4023159-91e6-49f8-ba4e-d7d0ad513b20",
   "metadata": {
    "tags": []
   },
   "outputs": [
    {
     "name": "stdout",
     "output_type": "stream",
     "text": [
      "Hello world\n",
      "Hello world\n",
      "Hello world\n",
      "Hello world\n",
      "Hello world\n"
     ]
    }
   ],
   "source": [
    "print(\"Hello world\")\n",
    "print(\"Hello world\")\n",
    "print(\"Hello world\")\n",
    "print(\"Hello world\")\n",
    "print(\"Hello world\")"
   ]
  },
  {
   "cell_type": "code",
   "execution_count": 13,
   "id": "2a34ab26-76e4-4b78-99e6-32cc634ae770",
   "metadata": {
    "tags": []
   },
   "outputs": [
    {
     "ename": "SyntaxError",
     "evalue": "invalid syntax (393232374.py, line 6)",
     "output_type": "error",
     "traceback": [
      "\u001b[1;36m  Cell \u001b[1;32mIn[13], line 6\u001b[1;36m\u001b[0m\n\u001b[1;33m    else:\u001b[0m\n\u001b[1;37m    ^\u001b[0m\n\u001b[1;31mSyntaxError\u001b[0m\u001b[1;31m:\u001b[0m invalid syntax\n"
     ]
    }
   ],
   "source": [
    "user=input(\"Choose a path:\")\n",
    "\n",
    "# if user==\"rishikesh\":\n",
    "#  print(\"I am going to rishikesh\")\n",
    "#  print(\"Bewara shop\")\n",
    "else:\n",
    "    print(\"I am going to hell\")\n",
    "    "
   ]
  },
  {
   "cell_type": "code",
   "execution_count": 1,
   "id": "fc9784c7-1917-4a5e-9acc-85095d3eef16",
   "metadata": {
    "tags": []
   },
   "outputs": [
    {
     "name": "stdin",
     "output_type": "stream",
     "text": [
      "Choose a path: rishikesh\n"
     ]
    },
    {
     "name": "stdout",
     "output_type": "stream",
     "text": [
      "I am going to rishikesh\n",
      "Bewara shop\n"
     ]
    }
   ],
   "source": [
    "user=input(\"Choose a path:\")\n",
    "\n",
    "if user==\"rishikesh\":\n",
    "    print(\"I am going to rishikesh\")\n",
    "    print(\"Bewara shop\")\n",
    "else:\n",
    "    print(\"I am going to hell\")\n"
   ]
  },
  {
   "cell_type": "markdown",
   "id": "cd953e55-9ae9-474d-b9f6-cc7163cd1d9b",
   "metadata": {},
   "source": [
    "# nested if else"
   ]
  },
  {
   "cell_type": "code",
   "execution_count": 5,
   "id": "30b0e90a-053b-48e1-8f5d-425baf3cec1b",
   "metadata": {
    "tags": []
   },
   "outputs": [
    {
     "name": "stdin",
     "output_type": "stream",
     "text": [
      "Babu called shivam: 5\n"
     ]
    },
    {
     "name": "stdout",
     "output_type": "stream",
     "text": [
      "I am free now\n"
     ]
    }
   ],
   "source": [
    "study= eval(input(\"Babu called shivam:\"))\n",
    "if study>6 and study<11:\n",
    "    print(\"I was studying\")\n",
    "else:\n",
    "    print(\"I am free now\")"
   ]
  },
  {
   "cell_type": "code",
   "execution_count": 6,
   "id": "fbc5b52a-154a-43ac-9acd-de213023457b",
   "metadata": {
    "tags": []
   },
   "outputs": [
    {
     "name": "stdin",
     "output_type": "stream",
     "text": [
      "Babu called shivam: 6\n"
     ]
    },
    {
     "name": "stdout",
     "output_type": "stream",
     "text": [
      "I am free now\n"
     ]
    }
   ],
   "source": [
    "study= eval(input(\"Babu called shivam:\"))\n",
    "if study>6 and study<11:\n",
    "    print(\"I was studying\")\n",
    "else:\n",
    "    print(\"I am free now\")"
   ]
  },
  {
   "cell_type": "code",
   "execution_count": 7,
   "id": "b8bae15a-99a8-434d-9c29-6c892f5f792b",
   "metadata": {
    "tags": []
   },
   "outputs": [
    {
     "name": "stdin",
     "output_type": "stream",
     "text": [
      "Babu called shivam: 11\n"
     ]
    },
    {
     "name": "stdout",
     "output_type": "stream",
     "text": [
      "I was studying\n"
     ]
    }
   ],
   "source": [
    "study= eval(input(\"Babu called shivam:\"))\n",
    "if study>=6 and study<=11:\n",
    "    print(\"I was studying\")\n",
    "else:\n",
    "    print(\"I am free now\")"
   ]
  },
  {
   "cell_type": "code",
   "execution_count": 9,
   "id": "866bc7ba-fa19-4867-aec0-6d1d67ea95ba",
   "metadata": {
    "tags": []
   },
   "outputs": [
    {
     "name": "stdin",
     "output_type": "stream",
     "text": [
      "Babu called shivam: 10\n"
     ]
    },
    {
     "name": "stdout",
     "output_type": "stream",
     "text": [
      "I was studying\n",
      "I am studying now\n"
     ]
    }
   ],
   "source": [
    "study= eval(input(\"Babu called shivam:\"))\n",
    "if study>=6 and study<=11:\n",
    "    print(\"I was studying\")\n",
    "    if study>=8 and study<=9:\n",
    "        print(\"I am on break i can entertain you\")\n",
    "    else:\n",
    "        print(\"I am studying now\")\n",
    "else:\n",
    "    print(\"I am free now\")"
   ]
  },
  {
   "cell_type": "code",
   "execution_count": 11,
   "id": "6708e6f1-8cda-4875-9c0b-92c655be7162",
   "metadata": {
    "tags": []
   },
   "outputs": [
    {
     "name": "stdin",
     "output_type": "stream",
     "text": [
      "Babu called shivam: 14\n"
     ]
    },
    {
     "name": "stdout",
     "output_type": "stream",
     "text": [
      "I am free now\n"
     ]
    }
   ],
   "source": [
    "study= eval(input(\"Babu called shivam:\"))\n",
    "if study>=6 and study<=11:\n",
    "    print(\"I was studying\")\n",
    "    if study>=8 and study<=9:\n",
    "        print(\"I am on break i can entertain you\")\n",
    "    else:\n",
    "        print(\"I am studying now\")\n",
    "else:\n",
    "    if study<12 and study>13:\n",
    "        print(\"Papa just enter in the house\")\n",
    "    else:\n",
    "        print(\"I am free now\")\n",
    "    "
   ]
  },
  {
   "cell_type": "code",
   "execution_count": 13,
   "id": "aa5cd5d4-9b73-4d03-8a5b-c294bd82d4e4",
   "metadata": {
    "tags": []
   },
   "outputs": [
    {
     "name": "stdin",
     "output_type": "stream",
     "text": [
      "Babu called shivam: 12.50\n"
     ]
    },
    {
     "name": "stdout",
     "output_type": "stream",
     "text": [
      "Papa just enter in the house\n"
     ]
    }
   ],
   "source": [
    "study= eval(input(\"Babu called shivam:\"))\n",
    "if study>=6 and study<=11:\n",
    "    print(\"I was studying\")\n",
    "    if study>=8 and study<=9:\n",
    "        print(\"I am on break i can entertain you\")\n",
    "    else:\n",
    "        print(\"I am studying now\")\n",
    "else:\n",
    "    if study>12 and study<13:\n",
    "        print(\"Papa just enter in the house\")\n",
    "    else:\n",
    "        print(\"I am free now\")"
   ]
  },
  {
   "cell_type": "code",
   "execution_count": null,
   "id": "12839dc0-a54c-48ad-ab92-3e6477b68c54",
   "metadata": {},
   "outputs": [],
   "source": [
    "study= eval(input(\"Babu called shivam:\"))\n",
    "if study>=6 and study<=11:\n",
    "    print(\"I was studying\")\n",
    "    if study>=8 and study<=9:\n",
    "        print(\"I am on break i can entertain you\")\n",
    "    else:\n",
    "        print(\"I am studying now\")\n",
    "else:\n",
    "    if study>12 and study<13:\n",
    "        print(\"Papa just enter in the house\")\n",
    "    else:\n",
    "        print(\"I am free now\")"
   ]
  },
  {
   "cell_type": "code",
   "execution_count": 14,
   "id": "6e04868c-c114-4ba4-a815-d9bff88a8362",
   "metadata": {
    "tags": []
   },
   "outputs": [
    {
     "name": "stdin",
     "output_type": "stream",
     "text": [
      "Enter a number: 10\n"
     ]
    },
    {
     "name": "stdout",
     "output_type": "stream",
     "text": [
      "even\n"
     ]
    }
   ],
   "source": [
    "user =eval(input(\"Enter a number:\")) #10\n",
    "if user%2==0:\n",
    "    print(\"even\")\n",
    "else:\n",
    "    print(\"odd\")"
   ]
  },
  {
   "cell_type": "code",
   "execution_count": 15,
   "id": "968f1355-37bd-40e0-a26c-33f7f39d7560",
   "metadata": {
    "tags": []
   },
   "outputs": [
    {
     "name": "stdin",
     "output_type": "stream",
     "text": [
      "Enter a number: -10\n"
     ]
    },
    {
     "name": "stdout",
     "output_type": "stream",
     "text": [
      "even\n",
      "Negative\n"
     ]
    }
   ],
   "source": [
    "user =eval(input(\"Enter a number:\")) #-10\n",
    "if user%2==0:\n",
    "    print(\"even\")\n",
    "    if user<0:\n",
    "        print(\"Negative\")\n",
    "    else:\n",
    "        print(\"Positive\")\n",
    "else:\n",
    "    print(\"odd\")\n",
    "    if user<0:\n",
    "        print(\"Negative\")\n",
    "    else:\n",
    "        print(\"Positive\")"
   ]
  },
  {
   "cell_type": "code",
   "execution_count": 16,
   "id": "b04cad20-18e8-4ba8-b0c9-27096ec0c5b3",
   "metadata": {
    "tags": []
   },
   "outputs": [
    {
     "name": "stdin",
     "output_type": "stream",
     "text": [
      "Enter a number: 11\n"
     ]
    },
    {
     "name": "stdout",
     "output_type": "stream",
     "text": [
      "odd\n",
      "Positive\n"
     ]
    }
   ],
   "source": [
    "user =eval(input(\"Enter a number:\")) #11\n",
    "if user%2==0:\n",
    "    print(\"even\")\n",
    "    if user<0:\n",
    "        print(\"Negative\")\n",
    "    else:\n",
    "        print(\"Positive\")\n",
    "else:\n",
    "    print(\"odd\")\n",
    "    if user<0:\n",
    "        print(\"Negative\")\n",
    "    else:\n",
    "        print(\"Positive\")"
   ]
  },
  {
   "cell_type": "code",
   "execution_count": 17,
   "id": "28a39e0f-52e6-4625-8064-9950cd6515a3",
   "metadata": {
    "tags": []
   },
   "outputs": [
    {
     "name": "stdin",
     "output_type": "stream",
     "text": [
      "Enter a number: -11\n"
     ]
    },
    {
     "name": "stdout",
     "output_type": "stream",
     "text": [
      "odd\n",
      "Negative\n"
     ]
    }
   ],
   "source": [
    "user =eval(input(\"Enter a number:\")) #-11\n",
    "if user%2==0:\n",
    "    print(\"even\")\n",
    "    if user<0:\n",
    "        print(\"Negative\")\n",
    "    else:\n",
    "        print(\"Positive\")\n",
    "else:\n",
    "    print(\"odd\")\n",
    "    if user<0:\n",
    "        print(\"Negative\")\n",
    "    else:\n",
    "        print(\"Positive\")"
   ]
  },
  {
   "cell_type": "markdown",
   "id": "3eb4ce48-8c08-4ea7-a4e9-7722194c030a",
   "metadata": {},
   "source": [
    "# if elif else"
   ]
  },
  {
   "cell_type": "code",
   "execution_count": 22,
   "id": "b761e759-8866-47bc-9c99-e76e786a48b5",
   "metadata": {
    "tags": []
   },
   "outputs": [
    {
     "name": "stdin",
     "output_type": "stream",
     "text": [
      "Choose one option : h\n"
     ]
    },
    {
     "name": "stdout",
     "output_type": "stream",
     "text": [
      "Go to hell\n"
     ]
    }
   ],
   "source": [
    "vinay= input(\"Choose one option :\")\n",
    "if vinay==\"A\":\n",
    "    print(\"Option A\")\n",
    "elif vinay==\"B\":\n",
    "    print(\"Option B\")\n",
    "elif vinay==\"C\":\n",
    "    print(\"Option C\")\n",
    "elif vinay==\"D\":\n",
    "    print(\"Option D\")\n",
    "else:\n",
    "    print(\"Go to hell\")"
   ]
  },
  {
   "cell_type": "code",
   "execution_count": 23,
   "id": "3d916eba-bf8a-482d-9888-95ca13c8d4d2",
   "metadata": {
    "tags": []
   },
   "outputs": [
    {
     "name": "stdin",
     "output_type": "stream",
     "text": [
      "Choose one option : A\n"
     ]
    },
    {
     "name": "stdout",
     "output_type": "stream",
     "text": [
      "Option A\n"
     ]
    }
   ],
   "source": [
    "vinay= input(\"Choose one option :\")\n",
    "if vinay==\"A\":\n",
    "    print(\"Option A\")\n",
    "elif vinay==\"A\":\n",
    "    print(\"Option B\")\n",
    "elif vinay==\"C\":\n",
    "    print(\"Option C\")\n",
    "elif vinay==\"D\":\n",
    "    print(\"Option D\")\n",
    "else:\n",
    "    print(\"Go to hell\")"
   ]
  },
  {
   "cell_type": "code",
   "execution_count": 26,
   "id": "f7a84cfa-675c-4695-a94b-4709117d9b2c",
   "metadata": {
    "tags": []
   },
   "outputs": [
    {
     "name": "stdin",
     "output_type": "stream",
     "text": [
      "Choose one option : A\n"
     ]
    },
    {
     "name": "stdout",
     "output_type": "stream",
     "text": [
      "Option A\n"
     ]
    }
   ],
   "source": [
    "vinay= input(\"Choose one option :\")\n",
    "if vinay==\"A\":\n",
    "    print(\"Option A\")\n",
    "elif vinay==\"A\":\n",
    "    print(\"Option B\")\n",
    "elif vinay==\"C\":\n",
    "    print(\"Option C\")\n",
    "elif vinay==\"D\":\n",
    "    print(\"Option D\")\n",
    "else:\n",
    "    print(\"Go to hell\")"
   ]
  },
  {
   "cell_type": "code",
   "execution_count": 4,
   "id": "8c16287f-354d-4429-9fc9-bd89a7745bab",
   "metadata": {},
   "outputs": [
    {
     "name": "stdin",
     "output_type": "stream",
     "text": [
      "After your 10th standard you can pick any course mentioned below\n",
      "1: PCM,\n",
      "2: PCB\n",
      "3: Quit\n",
      " 3\n"
     ]
    },
    {
     "name": "stdout",
     "output_type": "stream",
     "text": [
      "You picked to be a king\n"
     ]
    }
   ],
   "source": [
    "user =input(\"\"\"After your 10th standard you can pick any course mentioned below\n",
    "1: PCM,\n",
    "2: PCB\n",
    "3: Quit\n",
    "\"\"\")\n",
    "if user==\"1\":\n",
    "    print(\"You picked PCM\")\n",
    "    user2=input(\"\"\"Do you want to become a : \n",
    "    1. scientist\n",
    "    2. Faltu\"\"\")\n",
    "    if user2==\"1\":\n",
    "        print(\"You will become scientist\")\n",
    "    else:\n",
    "        print(\"You will become owner of a college called FALTU\")\n",
    "elif user==\"2\":\n",
    "    print(\"You picked PCB\")\n",
    "    user2=input(\"\"\"Do you want to become a : \n",
    "    1. Doctor\n",
    "    2. CMO\n",
    "    3. compounder\"\"\")\n",
    "    if user2==\"1\":\n",
    "        print(\"You will become a doctor\")\n",
    "    elif user2==\"2\":\n",
    "        print(\"YOu will become a CMO\")\n",
    "    elif user2==\"3\":\n",
    "        print(\"YOu will become a compounder\")\n",
    "    else:\n",
    "        print(\"Kindly choose a valid option \")\n",
    "elif user==\"3\":\n",
    "    print(\"You picked to be a king\")\n",
    "    \n",
    "    "
   ]
  },
  {
   "cell_type": "code",
   "execution_count": 10,
   "id": "47b3ecdc-6779-49dc-aff5-cab678a88d62",
   "metadata": {
    "tags": []
   },
   "outputs": [
    {
     "name": "stdin",
     "output_type": "stream",
     "text": [
      "After your 10th standard you can pick any course mentioned below\n",
      "1: PCM,\n",
      "2: PCB\n",
      "3: Quit\n",
      " 2\n"
     ]
    }
   ],
   "source": [
    "user =input(\"\"\"After your 10th standard you can pick any course mentioned below\n",
    "1: PCM,\n",
    "2: PCB\n",
    "3: Quit\n",
    "\"\"\")\n",
    "if user==\"1\":\n",
    "    print(\"You picked PCM\")\n",
    "    user2=input(\"\"\"Do you want to become a : \n",
    "    1. scientist\n",
    "    2. Faltu\"\"\")\n",
    "    if user2==\"1\":\n",
    "        print(\"You will become scientist\")\n",
    "    else:\n",
    "        print(\"You will become owner of a college called FALTU\")\n",
    "elif user==\"2\":\n",
    "    pass\n",
    "    \n",
    "elif user==\"3\":\n",
    "    print(\"You picked to be a king\")"
   ]
  },
  {
   "cell_type": "code",
   "execution_count": 13,
   "id": "cce5b4d2-4c99-45b5-8ee0-bf125b950c08",
   "metadata": {
    "tags": []
   },
   "outputs": [
    {
     "name": "stdin",
     "output_type": "stream",
     "text": [
      "Enter a number: 2\n"
     ]
    },
    {
     "name": "stdout",
     "output_type": "stream",
     "text": [
      "even\n"
     ]
    }
   ],
   "source": [
    "user=eval(input(\"Enter a number:\"))\n",
    "if user%2==0:\n",
    "    print(\"even\")\n",
    "else:\n",
    "    print(\"odd\")"
   ]
  },
  {
   "cell_type": "code",
   "execution_count": null,
   "id": "593913be-e476-4dad-800c-4dedd9675ccc",
   "metadata": {},
   "outputs": [],
   "source": []
  },
  {
   "cell_type": "code",
   "execution_count": 14,
   "id": "d9a4cf88-b5c5-4b7b-8d81-2ed0fe3d2e49",
   "metadata": {
    "tags": []
   },
   "outputs": [
    {
     "name": "stdin",
     "output_type": "stream",
     "text": [
      "Enter a number: 2\n"
     ]
    },
    {
     "name": "stdout",
     "output_type": "stream",
     "text": [
      "even\n"
     ]
    }
   ],
   "source": [
    "user=eval(input(\"Enter a number:\"))\n",
    "if user%2==0:\n",
    "    print(\"even\")\n",
    "else:\n",
    "    print(\"odd\")"
   ]
  },
  {
   "cell_type": "code",
   "execution_count": null,
   "id": "1b346bf7-3354-41f2-a35c-913783e24fd3",
   "metadata": {},
   "outputs": [],
   "source": [
    "#ternary operator\n",
    "\n",
    "> it only work on if else\n",
    "\n",
    "> if else block contain maximum  1 statment "
   ]
  },
  {
   "cell_type": "code",
   "execution_count": 17,
   "id": "a8fecc35-353e-4dee-bee2-cae115daae1d",
   "metadata": {
    "tags": []
   },
   "outputs": [
    {
     "name": "stdin",
     "output_type": "stream",
     "text": [
      "Enter a number: 2\n"
     ]
    },
    {
     "name": "stdout",
     "output_type": "stream",
     "text": [
      "even\n"
     ]
    }
   ],
   "source": [
    "\n",
    "user=eval(input(\"Enter a number:\"))\n",
    "print(\"even\") if user%2==0 else print(\"odd\")"
   ]
  },
  {
   "cell_type": "code",
   "execution_count": 21,
   "id": "22850316-d95c-49b9-9fef-9f7997f47f1e",
   "metadata": {
    "tags": []
   },
   "outputs": [
    {
     "name": "stdin",
     "output_type": "stream",
     "text": [
      "Enter a number: -10\n"
     ]
    },
    {
     "name": "stdout",
     "output_type": "stream",
     "text": [
      "Negative , even\n"
     ]
    }
   ],
   "source": [
    "user =eval(input(\"Enter a number:\")) #-10\n",
    "if user%2==0:\n",
    "    if user<0:\n",
    "        print(\"Negative , even\")\n",
    "    else:\n",
    "        print(\"Positive, even\")\n",
    "else:\n",
    "    if user<0:\n",
    "        print(\"Negative, odd\")\n",
    "    else:\n",
    "        print(\"Positive, odd\")"
   ]
  },
  {
   "cell_type": "code",
   "execution_count": 22,
   "id": "9a342b86-3b0b-4771-85c5-d32467ec68a5",
   "metadata": {
    "tags": []
   },
   "outputs": [
    {
     "name": "stdin",
     "output_type": "stream",
     "text": [
      "Enter a number: 10\n"
     ]
    },
    {
     "name": "stdout",
     "output_type": "stream",
     "text": [
      "Positive, even\n"
     ]
    }
   ],
   "source": [
    "user =eval(input(\"Enter a number:\")) #-10\n",
    "if user%2==0:\n",
    "    print(\"Negative , even\") if user<0 else print(\"Positive, even\")\n",
    "else:\n",
    "    print(\"Negative, odd\") if user<0 else print(\"Positive, odd\")"
   ]
  },
  {
   "cell_type": "code",
   "execution_count": 27,
   "id": "75a3c3fa-1654-4a52-ab83-f21eecf3e16f",
   "metadata": {
    "tags": []
   },
   "outputs": [
    {
     "name": "stdin",
     "output_type": "stream",
     "text": [
      "Enter a number: -2\n"
     ]
    },
    {
     "name": "stdout",
     "output_type": "stream",
     "text": [
      "Negative , even\n"
     ]
    }
   ],
   "source": [
    "user =eval(input(\"Enter a number:\"))\n",
    "(print(\"Negative , even\") if user<0 else print(\"Positive, even\")) if user%2==0 else (print(\"Negative, odd\") if user<0 else print(\"Positive, odd\"))"
   ]
  },
  {
   "cell_type": "code",
   "execution_count": null,
   "id": "d9a3f830-2118-4c64-b1ef-3716dcb3b090",
   "metadata": {},
   "outputs": [],
   "source": []
  }
 ],
 "metadata": {
  "kernelspec": {
   "display_name": "Python 3 (ipykernel)",
   "language": "python",
   "name": "python3"
  },
  "language_info": {
   "codemirror_mode": {
    "name": "ipython",
    "version": 3
   },
   "file_extension": ".py",
   "mimetype": "text/x-python",
   "name": "python",
   "nbconvert_exporter": "python",
   "pygments_lexer": "ipython3",
   "version": "3.11.5"
  }
 },
 "nbformat": 4,
 "nbformat_minor": 5
}
