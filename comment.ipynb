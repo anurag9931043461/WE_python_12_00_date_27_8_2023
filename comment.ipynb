{
 "cells": [
  {
   "cell_type": "markdown",
   "id": "07a54cba-63b7-4b31-abd7-56cc0207fb82",
   "metadata": {},
   "source": [
    "comment:\n",
    "\n",
    "> comment is used as marker \n",
    "\n",
    "> comment is used to test our code.\n",
    "\n",
    "> comment start with a symbole called "
   ]
  },
  {
   "cell_type": "code",
   "execution_count": 2,
   "id": "aca22c48-8b6d-4f9c-9b86-8e071123b677",
   "metadata": {},
   "outputs": [
    {
     "name": "stdout",
     "output_type": "stream",
     "text": [
      "Hello world\n"
     ]
    }
   ],
   "source": [
    "print(\"Hello world\")   # print() is used to echo something on the screen"
   ]
  },
  {
   "cell_type": "code",
   "execution_count": 12,
   "id": "8378c484-6772-4bfb-a922-4440eb636c3a",
   "metadata": {},
   "outputs": [
    {
     "name": "stdout",
     "output_type": "stream",
     "text": [
      "hello world\n",
      "hello world\n",
      "hello world\n",
      "hello world\n",
      "hello world\n",
      "hello world\n"
     ]
    }
   ],
   "source": [
    "print(\"hello world\")\n",
    "print(\"hello world\")\n",
    "print(\"hello world\")\n",
    "print(\"hello world\")\n",
    "print(\"hello world\")\n",
    "print(\"hello world\")\n"
   ]
  },
  {
   "cell_type": "code",
   "execution_count": null,
   "id": "8515e13f-28f8-41f8-8ed6-e9edfd437aca",
   "metadata": {},
   "outputs": [],
   "source": []
  }
 ],
 "metadata": {
  "kernelspec": {
   "display_name": "Python 3 (ipykernel)",
   "language": "python",
   "name": "python3"
  },
  "language_info": {
   "codemirror_mode": {
    "name": "ipython",
    "version": 3
   },
   "file_extension": ".py",
   "mimetype": "text/x-python",
   "name": "python",
   "nbconvert_exporter": "python",
   "pygments_lexer": "ipython3",
   "version": "3.11.5"
  }
 },
 "nbformat": 4,
 "nbformat_minor": 5
}
