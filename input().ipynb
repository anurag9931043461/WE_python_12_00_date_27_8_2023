{
 "cells": [
  {
   "cell_type": "markdown",
   "id": "8a0d68c1-eb21-439e-8682-48dc880c3696",
   "metadata": {},
   "source": [
    "# input():\n",
    "\n",
    "it help use to interact to a machine\n",
    "\n",
    "> input() store data in the from of string datatype, we chnage data type according to our requirment using casting  "
   ]
  },
  {
   "cell_type": "code",
   "execution_count": 1,
   "id": "7fbaadac-b634-4abd-8005-e5b5d51c26b1",
   "metadata": {
    "tags": []
   },
   "outputs": [
    {
     "name": "stdin",
     "output_type": "stream",
     "text": [
      " 0.50\n"
     ]
    }
   ],
   "source": [
    "a=input()"
   ]
  },
  {
   "cell_type": "code",
   "execution_count": 2,
   "id": "d7737279-35a5-42f6-843f-e1dbbe680146",
   "metadata": {
    "tags": []
   },
   "outputs": [
    {
     "name": "stdout",
     "output_type": "stream",
     "text": [
      "0.50\n"
     ]
    }
   ],
   "source": [
    "print(a)"
   ]
  },
  {
   "cell_type": "code",
   "execution_count": 3,
   "id": "df210074-16f5-4368-9442-a38b5055bd9a",
   "metadata": {
    "tags": []
   },
   "outputs": [
    {
     "name": "stdin",
     "output_type": "stream",
     "text": [
      "Enter your 4 digit atm pin: 9807\n"
     ]
    }
   ],
   "source": [
    "a=input(\"Enter your 4 digit atm pin:\")"
   ]
  },
  {
   "cell_type": "code",
   "execution_count": 4,
   "id": "57b7149a-9ea6-456a-8baf-68d3856da71a",
   "metadata": {
    "tags": []
   },
   "outputs": [
    {
     "name": "stdout",
     "output_type": "stream",
     "text": [
      "9807\n"
     ]
    }
   ],
   "source": [
    "print(a)"
   ]
  },
  {
   "cell_type": "code",
   "execution_count": 6,
   "id": "3610d57c-2e8c-4dcd-b7c8-47fac3793d4c",
   "metadata": {
    "tags": []
   },
   "outputs": [
    {
     "name": "stdin",
     "output_type": "stream",
     "text": [
      "Enter your name: Krishna Kumar\n"
     ]
    }
   ],
   "source": [
    "b=input(\"Enter your name:\")"
   ]
  },
  {
   "cell_type": "code",
   "execution_count": 7,
   "id": "a5394d6d-24bb-41a2-8aa9-00f14805b393",
   "metadata": {
    "tags": []
   },
   "outputs": [
    {
     "name": "stdout",
     "output_type": "stream",
     "text": [
      "Krishna Kumar\n"
     ]
    }
   ],
   "source": [
    "print(b)"
   ]
  },
  {
   "cell_type": "code",
   "execution_count": 8,
   "id": "955991e7-f18e-461b-a936-f183c5094470",
   "metadata": {
    "tags": []
   },
   "outputs": [
    {
     "name": "stdin",
     "output_type": "stream",
     "text": [
      "Enter a number: 10\n",
      "Enter 2nd number: 20\n"
     ]
    },
    {
     "name": "stdout",
     "output_type": "stream",
     "text": [
      "1020\n"
     ]
    }
   ],
   "source": [
    "num1=input(\"Enter a number:\")\n",
    "num2=input(\"Enter 2nd number:\")\n",
    "print(num1+num2)"
   ]
  },
  {
   "cell_type": "code",
   "execution_count": 9,
   "id": "1772b109-b733-4e2f-84a0-06ceb42d953f",
   "metadata": {
    "tags": []
   },
   "outputs": [
    {
     "name": "stdin",
     "output_type": "stream",
     "text": [
      "Enter a number: 10\n",
      "Enter 2nd number: 20\n"
     ]
    },
    {
     "name": "stdout",
     "output_type": "stream",
     "text": [
      "30\n"
     ]
    }
   ],
   "source": [
    "num1=input(\"Enter a number:\")\n",
    "b=int(num1)\n",
    "num2=input(\"Enter 2nd number:\")\n",
    "c=int(num2)\n",
    "print(b+c)"
   ]
  },
  {
   "cell_type": "code",
   "execution_count": 10,
   "id": "b7c61479-fce9-426d-a0ee-1d4f076bb295",
   "metadata": {
    "tags": []
   },
   "outputs": [
    {
     "name": "stdin",
     "output_type": "stream",
     "text": [
      "Enter a number: 10\n",
      "Enter 2nd number: 20\n"
     ]
    },
    {
     "name": "stdout",
     "output_type": "stream",
     "text": [
      "30\n"
     ]
    }
   ],
   "source": [
    "b=int(input(\"Enter a number:\"))\n",
    "c=int(input(\"Enter 2nd number:\"))\n",
    "print(b+c)"
   ]
  },
  {
   "cell_type": "code",
   "execution_count": 11,
   "id": "c5ee1e39-682e-46dc-a5cf-623eb5f3e211",
   "metadata": {
    "tags": []
   },
   "outputs": [
    {
     "name": "stdin",
     "output_type": "stream",
     "text": [
      "Enter a number: 10\n",
      "Enter 2nd number: 20\n"
     ]
    },
    {
     "name": "stdout",
     "output_type": "stream",
     "text": [
      "30\n"
     ]
    }
   ],
   "source": [
    "print(int(input(\"Enter a number:\"))+int(input(\"Enter 2nd number:\")))"
   ]
  },
  {
   "cell_type": "code",
   "execution_count": 13,
   "id": "2251ec9b-88de-40dc-b986-25c06c73886e",
   "metadata": {
    "tags": []
   },
   "outputs": [
    {
     "name": "stdin",
     "output_type": "stream",
     "text": [
      "Enter a number: 10.25\n"
     ]
    },
    {
     "ename": "ValueError",
     "evalue": "invalid literal for int() with base 10: '10.25'",
     "output_type": "error",
     "traceback": [
      "\u001b[1;31m---------------------------------------------------------------------------\u001b[0m",
      "\u001b[1;31mValueError\u001b[0m                                Traceback (most recent call last)",
      "Cell \u001b[1;32mIn[13], line 1\u001b[0m\n\u001b[1;32m----> 1\u001b[0m b\u001b[38;5;241m=\u001b[39m\u001b[38;5;28mint\u001b[39m(\u001b[38;5;28minput\u001b[39m(\u001b[38;5;124m\"\u001b[39m\u001b[38;5;124mEnter a number:\u001b[39m\u001b[38;5;124m\"\u001b[39m))\n\u001b[0;32m      2\u001b[0m c\u001b[38;5;241m=\u001b[39m\u001b[38;5;28mint\u001b[39m(\u001b[38;5;28minput\u001b[39m(\u001b[38;5;124m\"\u001b[39m\u001b[38;5;124mEnter 2nd number:\u001b[39m\u001b[38;5;124m\"\u001b[39m))\n\u001b[0;32m      3\u001b[0m \u001b[38;5;28mprint\u001b[39m(b\u001b[38;5;241m+\u001b[39mc)\n",
      "\u001b[1;31mValueError\u001b[0m: invalid literal for int() with base 10: '10.25'"
     ]
    }
   ],
   "source": [
    "b=int(input(\"Enter a number:\"))\n",
    "c=int(input(\"Enter 2nd number:\"))\n",
    "print(b+c)"
   ]
  },
  {
   "cell_type": "code",
   "execution_count": 14,
   "id": "c32e858b-0fe8-4e42-9e1f-c6f0a7826256",
   "metadata": {
    "tags": []
   },
   "outputs": [
    {
     "name": "stdin",
     "output_type": "stream",
     "text": [
      "Enter a number: 10.25\n",
      "Enter 2nd number: 20.25\n"
     ]
    },
    {
     "name": "stdout",
     "output_type": "stream",
     "text": [
      "30.5\n"
     ]
    }
   ],
   "source": [
    "b=float(input(\"Enter a number:\"))\n",
    "c=float(input(\"Enter 2nd number:\"))\n",
    "print(b+c)"
   ]
  },
  {
   "cell_type": "code",
   "execution_count": 17,
   "id": "57dae059-37ce-4c7e-8351-54e8053a4ea8",
   "metadata": {
    "tags": []
   },
   "outputs": [
    {
     "name": "stdin",
     "output_type": "stream",
     "text": [
      "Enter a number 10\n"
     ]
    },
    {
     "name": "stdout",
     "output_type": "stream",
     "text": [
      "10 <class 'int'>\n"
     ]
    },
    {
     "name": "stdin",
     "output_type": "stream",
     "text": [
      "Enter 2nd number: 20\n"
     ]
    },
    {
     "name": "stdout",
     "output_type": "stream",
     "text": [
      "20 <class 'int'>\n",
      "30\n"
     ]
    }
   ],
   "source": [
    "b=eval(input(\"Enter a number\"))\n",
    "print(b,type(b))\n",
    "c=eval(input(\"Enter 2nd number:\"))\n",
    "print(c,type(c))\n",
    "print(b+c)"
   ]
  },
  {
   "cell_type": "code",
   "execution_count": null,
   "id": "5d216086-c6fe-4a12-b602-a796bc442075",
   "metadata": {},
   "outputs": [],
   "source": []
  }
 ],
 "metadata": {
  "kernelspec": {
   "display_name": "Python 3 (ipykernel)",
   "language": "python",
   "name": "python3"
  },
  "language_info": {
   "codemirror_mode": {
    "name": "ipython",
    "version": 3
   },
   "file_extension": ".py",
   "mimetype": "text/x-python",
   "name": "python",
   "nbconvert_exporter": "python",
   "pygments_lexer": "ipython3",
   "version": "3.11.5"
  }
 },
 "nbformat": 4,
 "nbformat_minor": 5
}
