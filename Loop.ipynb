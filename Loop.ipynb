{
 "cells": [
  {
   "cell_type": "markdown",
   "id": "08530b32-284d-4c56-92d6-33164ba1dde4",
   "metadata": {},
   "source": [
    "# loop:\n",
    "    > for loop\n",
    "        > single for loop \n",
    "        > single for loop for pattern\n",
    "        > nested for loop \n",
    "        > nested for loop for pattern\n",
    "        > keywords\n",
    "            > continue\n",
    "            > break\n",
    "            > pass\n",
    "        > comprehension\n",
    "            > list comprehension \n",
    "            > set comprehension \n",
    "            > frozenset comprehension \n",
    "            > tuple comprehension(generator)\n",
    "            > dictionary comprehension            \n",
    "    > while loop \n",
    "        > single while loop \n",
    "        > single while loop for pattern \n",
    "        > nested while loop \n",
    "        > nested while loop for pattern\n",
    "        > keywords\n",
    "            > break\n",
    "            > continue\n",
    "            > pass\n",
    " "
   ]
  },
  {
   "cell_type": "code",
   "execution_count": 4,
   "id": "855cf07f-81ba-4c9a-8ef6-6f77fd702f27",
   "metadata": {
    "tags": []
   },
   "outputs": [
    {
     "name": "stdout",
     "output_type": "stream",
     "text": [
      "1 hello world\n",
      "2 hello world\n",
      "3 hello world\n",
      "4 hello world\n",
      "5 hello world\n",
      "6 hello world\n",
      "7 hello world\n",
      "8 hello world\n",
      "9 hello world\n",
      "10 hello world\n"
     ]
    }
   ],
   "source": [
    "i=1\n",
    "while i<=10:\n",
    "    print(i,\"hello world\")\n",
    "    i=i+1"
   ]
  },
  {
   "cell_type": "code",
   "execution_count": 5,
   "id": "7e0d2145-a196-4b6c-8b5a-ea21c4d6dd35",
   "metadata": {
    "tags": []
   },
   "outputs": [
    {
     "name": "stdout",
     "output_type": "stream",
     "text": [
      "10 hello world\n",
      "9 hello world\n",
      "8 hello world\n",
      "7 hello world\n",
      "6 hello world\n",
      "5 hello world\n",
      "4 hello world\n",
      "3 hello world\n",
      "2 hello world\n",
      "1 hello world\n"
     ]
    }
   ],
   "source": [
    "i=10\n",
    "while i>=1:\n",
    "    print(i,\"hello world\")\n",
    "    i=i-1"
   ]
  },
  {
   "cell_type": "code",
   "execution_count": null,
   "id": "158e3e0f-f368-4923-9740-5c952aff4fed",
   "metadata": {},
   "outputs": [],
   "source": []
  }
 ],
 "metadata": {
  "kernelspec": {
   "display_name": "Python 3 (ipykernel)",
   "language": "python",
   "name": "python3"
  },
  "language_info": {
   "codemirror_mode": {
    "name": "ipython",
    "version": 3
   },
   "file_extension": ".py",
   "mimetype": "text/x-python",
   "name": "python",
   "nbconvert_exporter": "python",
   "pygments_lexer": "ipython3",
   "version": "3.11.5"
  }
 },
 "nbformat": 4,
 "nbformat_minor": 5
}
