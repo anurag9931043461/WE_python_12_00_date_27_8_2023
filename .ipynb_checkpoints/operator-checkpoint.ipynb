{
 "cells": [
  {
   "cell_type": "markdown",
   "id": "7a973e6a-db74-4af7-be26-0de752afe711",
   "metadata": {},
   "source": [
    "# operator in python:\n",
    "\n",
    "> Arithmetic operator\n",
    "\n",
    "> Comparision operator\n",
    "\n",
    "> Assigment operator \n",
    "\n",
    "> Logical operator \n",
    "    \n",
    "> memebership operator \n",
    "\n",
    "> Identity operator \n",
    "\n",
    "> bitwise operator"
   ]
  },
  {
   "cell_type": "markdown",
   "id": "215c8f35-a9bf-48b7-b327-ce29cee1873f",
   "metadata": {},
   "source": [
    "# Arithmetic operator\n",
    "\n",
    "+,-,/,*,**,//,%"
   ]
  },
  {
   "cell_type": "code",
   "execution_count": 14,
   "id": "ba9d43ff-2665-41cd-a2f7-89d48bea2a99",
   "metadata": {},
   "outputs": [
    {
     "name": "stdout",
     "output_type": "stream",
     "text": [
      "20.0\n"
     ]
    }
   ],
   "source": [
    "print(10+10.0)   # addition operator"
   ]
  },
  {
   "cell_type": "code",
   "execution_count": 4,
   "id": "3c595cf5-aee1-4e06-b25d-0a2f482990d1",
   "metadata": {},
   "outputs": [
    {
     "name": "stdout",
     "output_type": "stream",
     "text": [
      "0\n"
     ]
    }
   ],
   "source": [
    "print(10-10)  # subtraction"
   ]
  },
  {
   "cell_type": "code",
   "execution_count": 6,
   "id": "c585affa-e009-43ef-a166-d2d7bbe4688c",
   "metadata": {},
   "outputs": [
    {
     "name": "stdout",
     "output_type": "stream",
     "text": [
      "1.0\n"
     ]
    }
   ],
   "source": [
    "print(10/10)  #division"
   ]
  },
  {
   "cell_type": "code",
   "execution_count": 8,
   "id": "ad7a8ee0-6cbd-4d00-ad9f-2666060582c1",
   "metadata": {},
   "outputs": [
    {
     "name": "stdout",
     "output_type": "stream",
     "text": [
      "3.3333333333333335\n"
     ]
    }
   ],
   "source": [
    "print(10/3) "
   ]
  },
  {
   "cell_type": "code",
   "execution_count": 9,
   "id": "b01d667b-25a5-4011-8096-c26f3f6e7cc4",
   "metadata": {},
   "outputs": [
    {
     "name": "stdout",
     "output_type": "stream",
     "text": [
      "3\n"
     ]
    }
   ],
   "source": [
    "print(10//3)"
   ]
  },
  {
   "cell_type": "code",
   "execution_count": 11,
   "id": "038975fb-a9c4-4eab-b8af-41c3f8c5e7bd",
   "metadata": {},
   "outputs": [
    {
     "name": "stdout",
     "output_type": "stream",
     "text": [
      "1\n"
     ]
    }
   ],
   "source": [
    "print(10%3)"
   ]
  },
  {
   "cell_type": "code",
   "execution_count": 12,
   "id": "61ffbea5-1abe-4f28-8eda-b4e7668ae515",
   "metadata": {},
   "outputs": [
    {
     "data": {
      "text/plain": [
       "100"
      ]
     },
     "execution_count": 12,
     "metadata": {},
     "output_type": "execute_result"
    }
   ],
   "source": [
    "10**2"
   ]
  },
  {
   "cell_type": "code",
   "execution_count": 13,
   "id": "7d2f423b-710b-4e7a-89e9-2cb257af1766",
   "metadata": {},
   "outputs": [
    {
     "data": {
      "text/plain": [
       "10000000000"
      ]
     },
     "execution_count": 13,
     "metadata": {},
     "output_type": "execute_result"
    }
   ],
   "source": [
    "10**10"
   ]
  },
  {
   "cell_type": "markdown",
   "id": "32169c41-34c6-44ab-a6cd-25c4dd6cf372",
   "metadata": {},
   "source": [
    "# Comparision operator\n",
    "\n",
    "<,>,>=,<=,==,!="
   ]
  },
  {
   "cell_type": "code",
   "execution_count": 15,
   "id": "478df4b5-ebbc-4254-8b0f-5b4a4206d440",
   "metadata": {},
   "outputs": [
    {
     "data": {
      "text/plain": [
       "False"
      ]
     },
     "execution_count": 15,
     "metadata": {},
     "output_type": "execute_result"
    }
   ],
   "source": [
    "10<10"
   ]
  },
  {
   "cell_type": "code",
   "execution_count": 16,
   "id": "574c006b-e14a-46d2-89d6-468d2dd52328",
   "metadata": {},
   "outputs": [
    {
     "data": {
      "text/plain": [
       "False"
      ]
     },
     "execution_count": 16,
     "metadata": {},
     "output_type": "execute_result"
    }
   ],
   "source": [
    "10>10"
   ]
  },
  {
   "cell_type": "code",
   "execution_count": 17,
   "id": "a718dd7b-b749-42b3-919c-6afbbd96b9d4",
   "metadata": {},
   "outputs": [
    {
     "data": {
      "text/plain": [
       "True"
      ]
     },
     "execution_count": 17,
     "metadata": {},
     "output_type": "execute_result"
    }
   ],
   "source": [
    "10==10"
   ]
  },
  {
   "cell_type": "code",
   "execution_count": 19,
   "id": "f4630632-40ca-4c62-a789-e611a432db2a",
   "metadata": {},
   "outputs": [
    {
     "data": {
      "text/plain": [
       "True"
      ]
     },
     "execution_count": 19,
     "metadata": {},
     "output_type": "execute_result"
    }
   ],
   "source": [
    "10<=10"
   ]
  },
  {
   "cell_type": "code",
   "execution_count": 20,
   "id": "f2793dcb-3cfb-4e93-9693-2d1fdea16a88",
   "metadata": {
    "jp-MarkdownHeadingCollapsed": true
   },
   "outputs": [
    {
     "data": {
      "text/plain": [
       "True"
      ]
     },
     "execution_count": 20,
     "metadata": {},
     "output_type": "execute_result"
    }
   ],
   "source": [
    "10>=10"
   ]
  },
  {
   "cell_type": "code",
   "execution_count": 21,
   "id": "f427904b-1b35-4ddf-88d1-6bc6277cb23c",
   "metadata": {},
   "outputs": [
    {
     "data": {
      "text/plain": [
       "False"
      ]
     },
     "execution_count": 21,
     "metadata": {},
     "output_type": "execute_result"
    }
   ],
   "source": [
    "10!=10"
   ]
  },
  {
   "cell_type": "markdown",
   "id": "80ae843d-c37f-4270-aad7-7967f4714bbe",
   "metadata": {},
   "source": [
    "# Assignment Operator\n",
    "\n",
    "=, +=,-= , /= , //= , *= , **= , %="
   ]
  },
  {
   "cell_type": "code",
   "execution_count": 22,
   "id": "e6f6230c-3683-4d12-b84d-316a157e0656",
   "metadata": {},
   "outputs": [],
   "source": [
    "a=10"
   ]
  },
  {
   "cell_type": "code",
   "execution_count": 23,
   "id": "305e1cf0-c826-4965-ada3-25bdd9c771d2",
   "metadata": {},
   "outputs": [
    {
     "data": {
      "text/plain": [
       "11"
      ]
     },
     "execution_count": 23,
     "metadata": {},
     "output_type": "execute_result"
    }
   ],
   "source": [
    "a+1"
   ]
  },
  {
   "cell_type": "code",
   "execution_count": 24,
   "id": "ac6a25e1-1369-4df3-83d4-0214a6143902",
   "metadata": {},
   "outputs": [
    {
     "name": "stdout",
     "output_type": "stream",
     "text": [
      "10\n"
     ]
    }
   ],
   "source": [
    "print(a)"
   ]
  },
  {
   "cell_type": "code",
   "execution_count": 31,
   "id": "8c5a0748-1316-440d-bdb4-dda6b68c41af",
   "metadata": {},
   "outputs": [],
   "source": [
    "a+=1    # short hand"
   ]
  },
  {
   "cell_type": "code",
   "execution_count": 32,
   "id": "0e62daa0-e4cd-4e60-991f-1c9ed032e4e6",
   "metadata": {},
   "outputs": [
    {
     "name": "stdout",
     "output_type": "stream",
     "text": [
      "14\n"
     ]
    }
   ],
   "source": [
    "print(a)"
   ]
  },
  {
   "cell_type": "code",
   "execution_count": 33,
   "id": "531a00f6-4117-4ac3-909a-31f7224a4998",
   "metadata": {},
   "outputs": [],
   "source": [
    "a-=4     #a=a-4"
   ]
  },
  {
   "cell_type": "code",
   "execution_count": 34,
   "id": "09857943-68e8-4113-a374-a56abdbe7dae",
   "metadata": {},
   "outputs": [
    {
     "name": "stdout",
     "output_type": "stream",
     "text": [
      "10\n"
     ]
    }
   ],
   "source": [
    "print(a)"
   ]
  },
  {
   "cell_type": "code",
   "execution_count": 36,
   "id": "14d6db2b-9520-4343-ad05-5a4afc38105b",
   "metadata": {},
   "outputs": [],
   "source": [
    "a/=2       #a=a/2"
   ]
  },
  {
   "cell_type": "code",
   "execution_count": 37,
   "id": "9181387e-e544-4c3b-8ec8-2d32d98d0241",
   "metadata": {},
   "outputs": [
    {
     "name": "stdout",
     "output_type": "stream",
     "text": [
      "5.0\n"
     ]
    }
   ],
   "source": [
    "print(a)"
   ]
  },
  {
   "cell_type": "code",
   "execution_count": 38,
   "id": "d709fa14-f664-4571-963a-e8000d6210d8",
   "metadata": {},
   "outputs": [],
   "source": [
    "a*=2     #a=a*2"
   ]
  },
  {
   "cell_type": "code",
   "execution_count": 39,
   "id": "75813473-0504-4846-9b5a-cf349ae912ae",
   "metadata": {},
   "outputs": [
    {
     "name": "stdout",
     "output_type": "stream",
     "text": [
      "10.0\n"
     ]
    }
   ],
   "source": [
    "print(a)"
   ]
  },
  {
   "cell_type": "code",
   "execution_count": 40,
   "id": "c3032652-2a91-45ba-a882-1cee879e217e",
   "metadata": {},
   "outputs": [],
   "source": [
    "a//=3     #a=a//3"
   ]
  },
  {
   "cell_type": "code",
   "execution_count": 41,
   "id": "82eae84e-6a98-4645-b075-47f442a661d3",
   "metadata": {},
   "outputs": [
    {
     "name": "stdout",
     "output_type": "stream",
     "text": [
      "3.0\n"
     ]
    }
   ],
   "source": [
    "print(a)"
   ]
  },
  {
   "cell_type": "code",
   "execution_count": 42,
   "id": "356baa14-296c-425a-800c-6d6952611dd0",
   "metadata": {},
   "outputs": [],
   "source": [
    "a%=2    #a=a%2"
   ]
  },
  {
   "cell_type": "code",
   "execution_count": 43,
   "id": "e4caf831-0dd6-4378-a851-7f5a33e00046",
   "metadata": {},
   "outputs": [
    {
     "name": "stdout",
     "output_type": "stream",
     "text": [
      "1.0\n"
     ]
    }
   ],
   "source": [
    "print(a)"
   ]
  },
  {
   "cell_type": "code",
   "execution_count": 44,
   "id": "25f83576-1b5e-402c-ad6b-dfaf26d29262",
   "metadata": {},
   "outputs": [],
   "source": [
    "a**=10      #a=a**10"
   ]
  },
  {
   "cell_type": "code",
   "execution_count": 45,
   "id": "51eec503-d5fe-4793-adb0-511d0f3fd862",
   "metadata": {},
   "outputs": [
    {
     "name": "stdout",
     "output_type": "stream",
     "text": [
      "1.0\n"
     ]
    }
   ],
   "source": [
    "print(a)"
   ]
  },
  {
   "cell_type": "markdown",
   "id": "215220ac-8ad3-4a40-9b5a-877b0db0ab5a",
   "metadata": {},
   "source": [
    "# Logical operators\n",
    "\n",
    "and, or , not"
   ]
  },
  {
   "cell_type": "code",
   "execution_count": 46,
   "id": "98ec5ec0-26d7-4992-b5c4-79157c57a31a",
   "metadata": {},
   "outputs": [
    {
     "data": {
      "text/plain": [
       "True"
      ]
     },
     "execution_count": 46,
     "metadata": {},
     "output_type": "execute_result"
    }
   ],
   "source": [
    "10==10 "
   ]
  },
  {
   "cell_type": "code",
   "execution_count": 47,
   "id": "a771ae55-b06a-4aba-84dd-c706491a692e",
   "metadata": {},
   "outputs": [
    {
     "data": {
      "text/plain": [
       "True"
      ]
     },
     "execution_count": 47,
     "metadata": {},
     "output_type": "execute_result"
    }
   ],
   "source": [
    "11==11"
   ]
  },
  {
   "cell_type": "code",
   "execution_count": 53,
   "id": "b51e0928-3a55-417d-9c11-548e24528de7",
   "metadata": {},
   "outputs": [
    {
     "data": {
      "text/plain": [
       "True"
      ]
     },
     "execution_count": 53,
     "metadata": {},
     "output_type": "execute_result"
    }
   ],
   "source": [
    "11==11 and 10==10"
   ]
  },
  {
   "cell_type": "code",
   "execution_count": 49,
   "id": "ba14b4b1-b158-4de5-b94c-2abd9f8ec902",
   "metadata": {},
   "outputs": [
    {
     "data": {
      "text/plain": [
       "False"
      ]
     },
     "execution_count": 49,
     "metadata": {},
     "output_type": "execute_result"
    }
   ],
   "source": [
    "11==11 and 10!=10 "
   ]
  },
  {
   "cell_type": "code",
   "execution_count": 50,
   "id": "eca64cae-462e-491c-bd28-e6a6fb98ec8b",
   "metadata": {},
   "outputs": [
    {
     "data": {
      "text/plain": [
       "False"
      ]
     },
     "execution_count": 50,
     "metadata": {},
     "output_type": "execute_result"
    }
   ],
   "source": [
    "11!=11 and 10==10"
   ]
  },
  {
   "cell_type": "code",
   "execution_count": 51,
   "id": "0ac74936-f56a-4017-8755-1143868f5912",
   "metadata": {},
   "outputs": [
    {
     "data": {
      "text/plain": [
       "False"
      ]
     },
     "execution_count": 51,
     "metadata": {},
     "output_type": "execute_result"
    }
   ],
   "source": [
    "11!=11 and 10!=10"
   ]
  },
  {
   "cell_type": "code",
   "execution_count": 54,
   "id": "f94bc19e-e1a7-4229-8056-24b3eddc955d",
   "metadata": {},
   "outputs": [
    {
     "data": {
      "text/plain": [
       "True"
      ]
     },
     "execution_count": 54,
     "metadata": {},
     "output_type": "execute_result"
    }
   ],
   "source": [
    "11==11 or 10==10"
   ]
  },
  {
   "cell_type": "code",
   "execution_count": 55,
   "id": "0d64d035-528b-4fe7-9ea8-94a67b2c9fce",
   "metadata": {},
   "outputs": [
    {
     "data": {
      "text/plain": [
       "True"
      ]
     },
     "execution_count": 55,
     "metadata": {},
     "output_type": "execute_result"
    }
   ],
   "source": [
    "11==11 or 10!=10"
   ]
  },
  {
   "cell_type": "code",
   "execution_count": 56,
   "id": "4885aed5-a9b1-443b-9ffe-4f79ba5feed9",
   "metadata": {},
   "outputs": [
    {
     "data": {
      "text/plain": [
       "True"
      ]
     },
     "execution_count": 56,
     "metadata": {},
     "output_type": "execute_result"
    }
   ],
   "source": [
    "11!=11 or 10==10"
   ]
  },
  {
   "cell_type": "code",
   "execution_count": 57,
   "id": "5ab00cfc-34c1-4318-8a68-d161969d4732",
   "metadata": {},
   "outputs": [
    {
     "data": {
      "text/plain": [
       "False"
      ]
     },
     "execution_count": 57,
     "metadata": {},
     "output_type": "execute_result"
    }
   ],
   "source": [
    "11!=11 or 10!=10"
   ]
  },
  {
   "cell_type": "code",
   "execution_count": 60,
   "id": "bc3a7c6f-5c15-45b5-b15a-4f4bdb87025f",
   "metadata": {},
   "outputs": [
    {
     "data": {
      "text/plain": [
       "True"
      ]
     },
     "execution_count": 60,
     "metadata": {},
     "output_type": "execute_result"
    }
   ],
   "source": [
    "not(11!=11 or 10!=10)"
   ]
  },
  {
   "cell_type": "code",
   "execution_count": 64,
   "id": "93f25037-8ee6-4c1a-9624-937552771cd5",
   "metadata": {},
   "outputs": [
    {
     "data": {
      "text/plain": [
       "False"
      ]
     },
     "execution_count": 64,
     "metadata": {},
     "output_type": "execute_result"
    }
   ],
   "source": [
    "11==11 and not 10==10"
   ]
  },
  {
   "cell_type": "code",
   "execution_count": 66,
   "id": "fee05a9f-f75c-4925-9f82-f1cd2b86733a",
   "metadata": {},
   "outputs": [
    {
     "data": {
      "text/plain": [
       "False"
      ]
     },
     "execution_count": 66,
     "metadata": {},
     "output_type": "execute_result"
    }
   ],
   "source": [
    "not 11==11 and 10==10"
   ]
  },
  {
   "cell_type": "code",
   "execution_count": 68,
   "id": "c34585f6-326b-49ad-91e4-6884dbe7aae7",
   "metadata": {},
   "outputs": [
    {
     "data": {
      "text/plain": [
       "False"
      ]
     },
     "execution_count": 68,
     "metadata": {},
     "output_type": "execute_result"
    }
   ],
   "source": [
    "not(11==11 and 10==10)"
   ]
  },
  {
   "cell_type": "code",
   "execution_count": 75,
   "id": "42f10028-be67-4e7e-af26-91a1126780d8",
   "metadata": {},
   "outputs": [
    {
     "data": {
      "text/plain": [
       "True"
      ]
     },
     "execution_count": 75,
     "metadata": {},
     "output_type": "execute_result"
    }
   ],
   "source": [
    "10==10 and 11!=12 or 13!=13 and 11!=11  #doubt"
   ]
  },
  {
   "cell_type": "code",
   "execution_count": 76,
   "id": "28a527be-a7e0-4949-ac01-2ef30545df62",
   "metadata": {},
   "outputs": [
    {
     "data": {
      "text/plain": [
       "True"
      ]
     },
     "execution_count": 76,
     "metadata": {},
     "output_type": "execute_result"
    }
   ],
   "source": [
    "11!=12"
   ]
  },
  {
   "cell_type": "code",
   "execution_count": 77,
   "id": "e6e6e60b-a9d4-4fce-bf39-db7af61a31a3",
   "metadata": {},
   "outputs": [
    {
     "data": {
      "text/plain": [
       "True"
      ]
     },
     "execution_count": 77,
     "metadata": {},
     "output_type": "execute_result"
    }
   ],
   "source": [
    "10==10 "
   ]
  },
  {
   "cell_type": "code",
   "execution_count": 78,
   "id": "81a6bc26-530f-484f-b420-27b71160161d",
   "metadata": {},
   "outputs": [
    {
     "data": {
      "text/plain": [
       "False"
      ]
     },
     "execution_count": 78,
     "metadata": {},
     "output_type": "execute_result"
    }
   ],
   "source": [
    "13!=13"
   ]
  },
  {
   "cell_type": "code",
   "execution_count": 79,
   "id": "0575a05d-d282-4d09-8a13-c9685f6d0dca",
   "metadata": {},
   "outputs": [
    {
     "data": {
      "text/plain": [
       "False"
      ]
     },
     "execution_count": 79,
     "metadata": {},
     "output_type": "execute_result"
    }
   ],
   "source": [
    "11!=11"
   ]
  },
  {
   "cell_type": "code",
   "execution_count": 81,
   "id": "d30f1e50-8e49-40fa-bc0b-921a17945541",
   "metadata": {},
   "outputs": [
    {
     "data": {
      "text/plain": [
       "True"
      ]
     },
     "execution_count": 81,
     "metadata": {},
     "output_type": "execute_result"
    }
   ],
   "source": [
    "10==10 and 11!=12 and 13!=13 or not 11!=11"
   ]
  },
  {
   "cell_type": "code",
   "execution_count": 82,
   "id": "695d2a16-53bc-4ab5-ab14-39df7062a022",
   "metadata": {},
   "outputs": [],
   "source": [
    "a=10"
   ]
  },
  {
   "cell_type": "code",
   "execution_count": 83,
   "id": "25796526-1a47-4bc7-a09c-811ac982048d",
   "metadata": {},
   "outputs": [
    {
     "data": {
      "text/plain": [
       "140718486709320"
      ]
     },
     "execution_count": 83,
     "metadata": {},
     "output_type": "execute_result"
    }
   ],
   "source": [
    "id(a)"
   ]
  },
  {
   "cell_type": "code",
   "execution_count": 84,
   "id": "6386387d-f278-4bbc-aab3-765177125ddd",
   "metadata": {},
   "outputs": [
    {
     "data": {
      "text/plain": [
       "140718486709320"
      ]
     },
     "execution_count": 84,
     "metadata": {},
     "output_type": "execute_result"
    }
   ],
   "source": [
    "id(a)"
   ]
  },
  {
   "cell_type": "code",
   "execution_count": 88,
   "id": "5cd795da-611c-421b-8e98-cd11c89525cc",
   "metadata": {},
   "outputs": [],
   "source": [
    "a=a+1"
   ]
  },
  {
   "cell_type": "code",
   "execution_count": 89,
   "id": "c8859ba6-1ede-4032-9cf5-486d7ca8cb34",
   "metadata": {},
   "outputs": [
    {
     "name": "stdout",
     "output_type": "stream",
     "text": [
      "11\n"
     ]
    }
   ],
   "source": [
    "print(a)"
   ]
  },
  {
   "cell_type": "code",
   "execution_count": 90,
   "id": "6e556eb5-cca3-4114-840b-38bac617b940",
   "metadata": {},
   "outputs": [
    {
     "data": {
      "text/plain": [
       "140718486709352"
      ]
     },
     "execution_count": 90,
     "metadata": {},
     "output_type": "execute_result"
    }
   ],
   "source": [
    "id(a)"
   ]
  },
  {
   "cell_type": "code",
   "execution_count": 91,
   "id": "2fc91d88-02bd-4f09-87e6-adf4da5b0bb3",
   "metadata": {},
   "outputs": [],
   "source": [
    "a=[1,2,3,4]"
   ]
  },
  {
   "cell_type": "code",
   "execution_count": 92,
   "id": "57d0e7d3-3255-4fa9-9ef8-bb1110d6f98e",
   "metadata": {},
   "outputs": [
    {
     "data": {
      "text/plain": [
       "2305351019072"
      ]
     },
     "execution_count": 92,
     "metadata": {},
     "output_type": "execute_result"
    }
   ],
   "source": [
    "id(a)"
   ]
  },
  {
   "cell_type": "code",
   "execution_count": 93,
   "id": "5f72f36a-3469-4d85-9c53-ca81eb5f4cf4",
   "metadata": {},
   "outputs": [],
   "source": [
    "a.append(10)"
   ]
  },
  {
   "cell_type": "code",
   "execution_count": 94,
   "id": "343673bb-066a-4470-89a4-767017e4f049",
   "metadata": {},
   "outputs": [
    {
     "name": "stdout",
     "output_type": "stream",
     "text": [
      "[1, 2, 3, 4, 10]\n"
     ]
    }
   ],
   "source": [
    "print(a)"
   ]
  },
  {
   "cell_type": "code",
   "execution_count": 95,
   "id": "678f5f09-180b-4b9f-bc8e-f4702ccf1e6f",
   "metadata": {},
   "outputs": [
    {
     "data": {
      "text/plain": [
       "2305351019072"
      ]
     },
     "execution_count": 95,
     "metadata": {},
     "output_type": "execute_result"
    }
   ],
   "source": [
    "id(a)"
   ]
  },
  {
   "cell_type": "markdown",
   "id": "70a0ae55-151d-4d25-a737-ce8f245ea171",
   "metadata": {},
   "source": [
    "# memebership operator\n",
    "\n",
    "in , not in"
   ]
  },
  {
   "cell_type": "code",
   "execution_count": 3,
   "id": "e9a2e3c2-d565-4741-bf1e-6951e5b379a8",
   "metadata": {},
   "outputs": [],
   "source": [
    "b=11\n",
    "\n",
    "a=[19,10,20,30,40,50]"
   ]
  },
  {
   "cell_type": "code",
   "execution_count": 4,
   "id": "b55c04fa-decc-488a-a2b6-6a4e7f22e7d2",
   "metadata": {},
   "outputs": [
    {
     "data": {
      "text/plain": [
       "False"
      ]
     },
     "execution_count": 4,
     "metadata": {},
     "output_type": "execute_result"
    }
   ],
   "source": [
    "b in a"
   ]
  },
  {
   "cell_type": "code",
   "execution_count": 5,
   "id": "19838251-164d-4397-a9bc-9206f3ed7c56",
   "metadata": {},
   "outputs": [
    {
     "data": {
      "text/plain": [
       "True"
      ]
     },
     "execution_count": 5,
     "metadata": {},
     "output_type": "execute_result"
    }
   ],
   "source": [
    "b not in a"
   ]
  },
  {
   "cell_type": "code",
   "execution_count": 6,
   "id": "5e38d559-9ba6-419a-a56b-2466632972df",
   "metadata": {},
   "outputs": [
    {
     "data": {
      "text/plain": [
       "False"
      ]
     },
     "execution_count": 6,
     "metadata": {},
     "output_type": "execute_result"
    }
   ],
   "source": [
    "\"python\" in \"Python is funny language\""
   ]
  },
  {
   "cell_type": "code",
   "execution_count": 7,
   "id": "23cf5eab-8dc1-43e5-abf1-1585cd1e7026",
   "metadata": {},
   "outputs": [
    {
     "data": {
      "text/plain": [
       "True"
      ]
     },
     "execution_count": 7,
     "metadata": {},
     "output_type": "execute_result"
    }
   ],
   "source": [
    "\"python\" in \"python is funny language\""
   ]
  },
  {
   "cell_type": "code",
   "execution_count": 9,
   "id": "4b8b8b66-1f45-474c-9b3d-9c1f1ea39290",
   "metadata": {},
   "outputs": [
    {
     "data": {
      "text/plain": [
       "True"
      ]
     },
     "execution_count": 9,
     "metadata": {},
     "output_type": "execute_result"
    }
   ],
   "source": [
    "{10,11,12} in ({10,11,12},13,15,16)"
   ]
  },
  {
   "cell_type": "code",
   "execution_count": 11,
   "id": "d807b7fe-f28d-4893-885b-0af820ccf0a0",
   "metadata": {},
   "outputs": [
    {
     "data": {
      "text/plain": [
       "True"
      ]
     },
     "execution_count": 11,
     "metadata": {},
     "output_type": "execute_result"
    }
   ],
   "source": [
    "{10,12,11} in ({10,11,12},13,15,16)   # there is not any sequence in set "
   ]
  },
  {
   "cell_type": "code",
   "execution_count": 13,
   "id": "12f2e35b-103c-45cd-829f-7f93c96f5f01",
   "metadata": {},
   "outputs": [
    {
     "data": {
      "text/plain": [
       "False"
      ]
     },
     "execution_count": 13,
     "metadata": {},
     "output_type": "execute_result"
    }
   ],
   "source": [
    "[10,12,11] in ([10,11,12],13,15,16)   # there is a proper sequence in list hence returning false."
   ]
  },
  {
   "cell_type": "code",
   "execution_count": 14,
   "id": "35faec94-a9c4-469c-a401-7ca79df05e0f",
   "metadata": {},
   "outputs": [
    {
     "data": {
      "text/plain": [
       "True"
      ]
     },
     "execution_count": 14,
     "metadata": {},
     "output_type": "execute_result"
    }
   ],
   "source": [
    "[10,12,11] not in ([10,11,12],13,15,16) "
   ]
  },
  {
   "cell_type": "markdown",
   "id": "6b3fa0f2-e36b-404f-b130-a8855cefaa45",
   "metadata": {},
   "source": [
    "# Identity operator \n",
    "\n",
    "is, is not "
   ]
  },
  {
   "cell_type": "code",
   "execution_count": 16,
   "id": "276d0bf1-2ab0-4f04-8c3a-9a798ccc9392",
   "metadata": {},
   "outputs": [
    {
     "name": "stderr",
     "output_type": "stream",
     "text": [
      "<>:1: SyntaxWarning: \"is\" with a literal. Did you mean \"==\"?\n",
      "<>:1: SyntaxWarning: \"is\" with a literal. Did you mean \"==\"?\n",
      "C:\\Users\\nnkri\\AppData\\Local\\Temp\\ipykernel_6460\\1485948548.py:1: SyntaxWarning: \"is\" with a literal. Did you mean \"==\"?\n",
      "  \"Python\" is \"Python\"\n"
     ]
    },
    {
     "data": {
      "text/plain": [
       "True"
      ]
     },
     "execution_count": 16,
     "metadata": {},
     "output_type": "execute_result"
    }
   ],
   "source": [
    "\"Python\" is \"Python\""
   ]
  },
  {
   "cell_type": "code",
   "execution_count": 17,
   "id": "ec5a8f54-014a-436c-a9e8-5fded520113c",
   "metadata": {},
   "outputs": [
    {
     "name": "stderr",
     "output_type": "stream",
     "text": [
      "<>:1: SyntaxWarning: \"is\" with a literal. Did you mean \"==\"?\n",
      "<>:1: SyntaxWarning: \"is\" with a literal. Did you mean \"==\"?\n",
      "C:\\Users\\nnkri\\AppData\\Local\\Temp\\ipykernel_6460\\2119203212.py:1: SyntaxWarning: \"is\" with a literal. Did you mean \"==\"?\n",
      "  \"Python \" is \"Python\"\n"
     ]
    },
    {
     "data": {
      "text/plain": [
       "False"
      ]
     },
     "execution_count": 17,
     "metadata": {},
     "output_type": "execute_result"
    }
   ],
   "source": [
    "\"Python \" is \"Python\""
   ]
  },
  {
   "cell_type": "code",
   "execution_count": 18,
   "id": "242827f6-cae0-4998-889f-b00ce9636834",
   "metadata": {},
   "outputs": [
    {
     "name": "stderr",
     "output_type": "stream",
     "text": [
      "<>:1: SyntaxWarning: \"is\" with a literal. Did you mean \"==\"?\n",
      "<>:1: SyntaxWarning: \"is\" with a literal. Did you mean \"==\"?\n",
      "C:\\Users\\nnkri\\AppData\\Local\\Temp\\ipykernel_6460\\3948792514.py:1: SyntaxWarning: \"is\" with a literal. Did you mean \"==\"?\n",
      "  \"Python \" is \"Python \"\n"
     ]
    },
    {
     "data": {
      "text/plain": [
       "True"
      ]
     },
     "execution_count": 18,
     "metadata": {},
     "output_type": "execute_result"
    }
   ],
   "source": [
    "\"Python \" is \"Python \""
   ]
  },
  {
   "cell_type": "code",
   "execution_count": 19,
   "id": "15bff45e-eb45-4fe7-8ccd-2ea9c683b95b",
   "metadata": {},
   "outputs": [
    {
     "name": "stderr",
     "output_type": "stream",
     "text": [
      "<>:1: SyntaxWarning: \"is\" with a literal. Did you mean \"==\"?\n",
      "<>:1: SyntaxWarning: \"is\" with a literal. Did you mean \"==\"?\n",
      "C:\\Users\\nnkri\\AppData\\Local\\Temp\\ipykernel_6460\\52630089.py:1: SyntaxWarning: \"is\" with a literal. Did you mean \"==\"?\n",
      "  (11) is (11.0)\n"
     ]
    },
    {
     "data": {
      "text/plain": [
       "False"
      ]
     },
     "execution_count": 19,
     "metadata": {},
     "output_type": "execute_result"
    }
   ],
   "source": [
    "(11) is (11.0)"
   ]
  },
  {
   "cell_type": "code",
   "execution_count": 21,
   "id": "ede76a90-be30-4052-84d8-39feeec8fa9a",
   "metadata": {},
   "outputs": [
    {
     "name": "stderr",
     "output_type": "stream",
     "text": [
      "<>:1: SyntaxWarning: \"is not\" with a literal. Did you mean \"!=\"?\n",
      "<>:1: SyntaxWarning: \"is not\" with a literal. Did you mean \"!=\"?\n",
      "C:\\Users\\nnkri\\AppData\\Local\\Temp\\ipykernel_6460\\2253698611.py:1: SyntaxWarning: \"is not\" with a literal. Did you mean \"!=\"?\n",
      "  11 is not 12\n"
     ]
    },
    {
     "data": {
      "text/plain": [
       "True"
      ]
     },
     "execution_count": 21,
     "metadata": {},
     "output_type": "execute_result"
    }
   ],
   "source": [
    "11 is not 12"
   ]
  },
  {
   "cell_type": "code",
   "execution_count": 22,
   "id": "dad1966f-fb97-402e-b282-7914dae50bef",
   "metadata": {},
   "outputs": [
    {
     "data": {
      "text/plain": [
       "True"
      ]
     },
     "execution_count": 22,
     "metadata": {},
     "output_type": "execute_result"
    }
   ],
   "source": [
    "11!=12"
   ]
  },
  {
   "cell_type": "markdown",
   "id": "878317bb-780d-4857-9035-f364e77049f3",
   "metadata": {},
   "source": [
    "# bitwise operator\n",
    "\n",
    "~, >>,<<,&,|"
   ]
  },
  {
   "cell_type": "code",
   "execution_count": 24,
   "id": "1da82d9b-5cf8-4e58-a13c-e36039dd5225",
   "metadata": {},
   "outputs": [
    {
     "data": {
      "text/plain": [
       "-11"
      ]
     },
     "execution_count": 24,
     "metadata": {},
     "output_type": "execute_result"
    }
   ],
   "source": [
    "~10"
   ]
  },
  {
   "cell_type": "code",
   "execution_count": 25,
   "id": "2cf56f8d-8940-4f40-9fe1-893aa641661d",
   "metadata": {},
   "outputs": [
    {
     "data": {
      "text/plain": [
       "2"
      ]
     },
     "execution_count": 25,
     "metadata": {},
     "output_type": "execute_result"
    }
   ],
   "source": [
    "10>>2"
   ]
  },
  {
   "cell_type": "code",
   "execution_count": 26,
   "id": "326a3dc8-d73c-4565-a6ae-1cbc9a4f9c8a",
   "metadata": {},
   "outputs": [
    {
     "data": {
      "text/plain": [
       "40"
      ]
     },
     "execution_count": 26,
     "metadata": {},
     "output_type": "execute_result"
    }
   ],
   "source": [
    "10<<2"
   ]
  },
  {
   "cell_type": "code",
   "execution_count": 27,
   "id": "56e4e3cf-2799-4c63-94bb-9edbfa6cd730",
   "metadata": {},
   "outputs": [
    {
     "data": {
      "text/plain": [
       "10"
      ]
     },
     "execution_count": 27,
     "metadata": {},
     "output_type": "execute_result"
    }
   ],
   "source": [
    "10&11"
   ]
  },
  {
   "cell_type": "code",
   "execution_count": 28,
   "id": "64f28dd2-8022-4a55-875b-e8246441f61a",
   "metadata": {},
   "outputs": [
    {
     "data": {
      "text/plain": [
       "11"
      ]
     },
     "execution_count": 28,
     "metadata": {},
     "output_type": "execute_result"
    }
   ],
   "source": [
    "10|11"
   ]
  },
  {
   "cell_type": "code",
   "execution_count": null,
   "id": "7ab797c1-251c-45ba-9f88-3f798849f778",
   "metadata": {},
   "outputs": [],
   "source": []
  }
 ],
 "metadata": {
  "kernelspec": {
   "display_name": "Python 3 (ipykernel)",
   "language": "python",
   "name": "python3"
  },
  "language_info": {
   "codemirror_mode": {
    "name": "ipython",
    "version": 3
   },
   "file_extension": ".py",
   "mimetype": "text/x-python",
   "name": "python",
   "nbconvert_exporter": "python",
   "pygments_lexer": "ipython3",
   "version": "3.11.5"
  }
 },
 "nbformat": 4,
 "nbformat_minor": 5
}
