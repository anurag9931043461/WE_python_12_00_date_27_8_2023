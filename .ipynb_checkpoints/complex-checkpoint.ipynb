{
 "cells": [
  {
   "cell_type": "raw",
   "id": "d73cc103-be72-42b1-aa12-8bfe7e921bdb",
   "metadata": {},
   "source": [
    "Complex number:\n",
    "---------------\n",
    "> sqrt(-1) is called iota , representing uisng i.\n",
    "\n",
    "equation is equal to 0\n",
    "ex: 2x +3y =0\n",
    "expression \n",
    "example: 2x +3y\n",
    "\n",
    "> expression of iota:\n",
    "    > a+bi(expression of imaginary number)\n",
    "    > a is called real number and b is called imaginary number\n",
    "      (beacuse value of i is not defined)\n",
    "\n",
    "> In python iota is defined using j:\n",
    "example : 2j,0j,(2+4j)\n",
    "\n",
    "> complex datatype construct complex()\n",
    "> complex datatype literal is 0j.\n"
   ]
  },
  {
   "cell_type": "code",
   "execution_count": 3,
   "id": "cb99fd26-f93f-49d0-bf5f-e552f129fba1",
   "metadata": {},
   "outputs": [
    {
     "name": "stdout",
     "output_type": "stream",
     "text": [
      "<class 'complex'>\n",
      "0j\n"
     ]
    }
   ],
   "source": [
    "a=complex()\n",
    "print(type(a))\n",
    "print(a)"
   ]
  },
  {
   "cell_type": "code",
   "execution_count": 4,
   "id": "aad698ad-f31e-4dd9-aee4-32290dceecf9",
   "metadata": {},
   "outputs": [
    {
     "name": "stdout",
     "output_type": "stream",
     "text": [
      "<class 'complex'>\n",
      "0j\n"
     ]
    }
   ],
   "source": [
    "b=0j\n",
    "print(type(b))\n",
    "print(b)"
   ]
  },
  {
   "cell_type": "code",
   "execution_count": 5,
   "id": "bdce94fc-619b-4bc1-8228-d027a78b27be",
   "metadata": {},
   "outputs": [
    {
     "name": "stdout",
     "output_type": "stream",
     "text": [
      "(2+0j)\n"
     ]
    }
   ],
   "source": [
    "c=complex(2)\n",
    "print(c)"
   ]
  },
  {
   "cell_type": "code",
   "execution_count": 6,
   "id": "a57cd75c-7191-4d52-9fdb-621bfe25bda0",
   "metadata": {},
   "outputs": [
    {
     "name": "stdout",
     "output_type": "stream",
     "text": [
      "(2+4j)\n"
     ]
    }
   ],
   "source": [
    "d=complex(2,4)\n",
    "print(d)"
   ]
  },
  {
   "cell_type": "code",
   "execution_count": 7,
   "id": "7bacab58-809f-493d-8a3e-2b165e958dce",
   "metadata": {},
   "outputs": [
    {
     "name": "stdout",
     "output_type": "stream",
     "text": [
      "(2+4.435j)\n"
     ]
    }
   ],
   "source": [
    "d=complex(2,4.435)\n",
    "print(d)"
   ]
  },
  {
   "cell_type": "code",
   "execution_count": 8,
   "id": "d3c765a4-ba04-4abf-b9ca-36b59c0dbcd8",
   "metadata": {},
   "outputs": [
    {
     "data": {
      "text/plain": [
       "(2+4.435j)"
      ]
     },
     "execution_count": 8,
     "metadata": {},
     "output_type": "execute_result"
    }
   ],
   "source": [
    "d"
   ]
  },
  {
   "cell_type": "code",
   "execution_count": 9,
   "id": "543e6977-254c-4594-9194-978e8019fa35",
   "metadata": {},
   "outputs": [],
   "source": [
    "e=complex(2,3)"
   ]
  },
  {
   "cell_type": "code",
   "execution_count": 10,
   "id": "4f4b698b-1a13-470a-8e44-9e7646bf022c",
   "metadata": {},
   "outputs": [
    {
     "name": "stdout",
     "output_type": "stream",
     "text": [
      "(2+3j)\n"
     ]
    }
   ],
   "source": [
    "print(e)"
   ]
  },
  {
   "cell_type": "code",
   "execution_count": 11,
   "id": "30988788-3cfd-4164-adb8-585f1bb63a96",
   "metadata": {},
   "outputs": [
    {
     "data": {
      "text/plain": [
       "(-9.305+14.87j)"
      ]
     },
     "execution_count": 11,
     "metadata": {},
     "output_type": "execute_result"
    }
   ],
   "source": [
    "d*e"
   ]
  },
  {
   "cell_type": "code",
   "execution_count": 12,
   "id": "11c3c426-160d-43c6-9ca2-b11d14985353",
   "metadata": {},
   "outputs": [
    {
     "data": {
      "text/plain": [
       "1.4349999999999996j"
      ]
     },
     "execution_count": 12,
     "metadata": {},
     "output_type": "execute_result"
    }
   ],
   "source": [
    "d-e"
   ]
  },
  {
   "cell_type": "code",
   "execution_count": null,
   "id": "53bc4ff7-7700-4c4c-9adc-09892e4c68c5",
   "metadata": {},
   "outputs": [],
   "source": []
  }
 ],
 "metadata": {
  "kernelspec": {
   "display_name": "Python 3 (ipykernel)",
   "language": "python",
   "name": "python3"
  },
  "language_info": {
   "codemirror_mode": {
    "name": "ipython",
    "version": 3
   },
   "file_extension": ".py",
   "mimetype": "text/x-python",
   "name": "python",
   "nbconvert_exporter": "python",
   "pygments_lexer": "ipython3",
   "version": "3.11.5"
  }
 },
 "nbformat": 4,
 "nbformat_minor": 5
}
