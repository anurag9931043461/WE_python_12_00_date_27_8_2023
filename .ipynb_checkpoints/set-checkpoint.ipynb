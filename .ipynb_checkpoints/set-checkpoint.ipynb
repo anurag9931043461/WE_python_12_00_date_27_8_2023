{
 "cells": [
  {
   "cell_type": "markdown",
   "id": "0488a309-c532-47b4-8079-dc4ee871719a",
   "metadata": {},
   "source": [
    "Set:\n",
    "\n",
    "> set constructor is set()\n",
    "\n",
    "> set literal is not available.\n",
    "\n",
    "> set is an unordered set of sequence of elements.\n",
    "\n",
    "> Set doenot support indexing\n",
    "\n",
    "> Set doesnot support slicing\n",
    "\n",
    "> set doesnot support duplicate values.\n",
    "\n",
    "> set remove duplicacy using hashing table(on the basis of element id it remove duplicacy).\n",
    "\n",
    "> set doenot support concatination\n",
    "\n",
    "> Set doenot support nested set.\n",
    "\n",
    "> Set always allowed immutable datatype.\n",
    "    \n",
    "> set is mutable(unhashable)\n",
    "\n",
    "> set methods."
   ]
  },
  {
   "cell_type": "code",
   "execution_count": 3,
   "id": "00742c68-9180-421f-91bf-e99a1d39fc51",
   "metadata": {},
   "outputs": [],
   "source": [
    "a=set()"
   ]
  },
  {
   "cell_type": "code",
   "execution_count": 4,
   "id": "1e24b829-d75e-4ba9-ad03-6e9e2ba5dd72",
   "metadata": {},
   "outputs": [
    {
     "name": "stdout",
     "output_type": "stream",
     "text": [
      "set()\n"
     ]
    }
   ],
   "source": [
    "print(a)"
   ]
  },
  {
   "cell_type": "code",
   "execution_count": 7,
   "id": "fa088046-cc4e-46d7-8ce0-83cb1c160751",
   "metadata": {},
   "outputs": [],
   "source": [
    "a={1,1,1,1,1,2,2,2,2,3,3,3,3,2,2,2,1,1,11,1,1,1}"
   ]
  },
  {
   "cell_type": "code",
   "execution_count": 8,
   "id": "e6077c4a-c891-412d-b723-8b3ee74ddb75",
   "metadata": {},
   "outputs": [
    {
     "name": "stdout",
     "output_type": "stream",
     "text": [
      "{3, 1, 2, 11}\n"
     ]
    }
   ],
   "source": [
    "print(a)"
   ]
  },
  {
   "cell_type": "code",
   "execution_count": 9,
   "id": "7bffef45-2713-479f-aa79-1445be58a6f3",
   "metadata": {},
   "outputs": [
    {
     "ename": "TypeError",
     "evalue": "'set' object is not subscriptable",
     "output_type": "error",
     "traceback": [
      "\u001b[1;31m---------------------------------------------------------------------------\u001b[0m",
      "\u001b[1;31mTypeError\u001b[0m                                 Traceback (most recent call last)",
      "Cell \u001b[1;32mIn[9], line 1\u001b[0m\n\u001b[1;32m----> 1\u001b[0m \u001b[43ma\u001b[49m\u001b[43m[\u001b[49m\u001b[38;5;241;43m0\u001b[39;49m\u001b[43m]\u001b[49m\n",
      "\u001b[1;31mTypeError\u001b[0m: 'set' object is not subscriptable"
     ]
    }
   ],
   "source": [
    "a[0]"
   ]
  },
  {
   "cell_type": "code",
   "execution_count": 11,
   "id": "3ed448c1-b0c7-4ae1-a043-8834b41f3c7c",
   "metadata": {},
   "outputs": [],
   "source": [
    "a=10\n",
    "b=10"
   ]
  },
  {
   "cell_type": "code",
   "execution_count": 12,
   "id": "2a24b5e4-fee6-4d91-b1d5-0ae8d172b7cf",
   "metadata": {},
   "outputs": [
    {
     "name": "stdout",
     "output_type": "stream",
     "text": [
      "a <class 'int'> 140725650252872\n",
      "b <class 'int'> 140725650252872\n"
     ]
    }
   ],
   "source": [
    "print(\"a\",type(a),id(a))\n",
    "print(\"b\",type(b),id(b))"
   ]
  },
  {
   "cell_type": "code",
   "execution_count": 14,
   "id": "7f2d726f-4464-40e3-950f-a14a4af1307f",
   "metadata": {},
   "outputs": [],
   "source": [
    "z={a,b}"
   ]
  },
  {
   "cell_type": "code",
   "execution_count": 15,
   "id": "99be31af-d6cb-4d01-b5b5-f1c660fa5177",
   "metadata": {},
   "outputs": [
    {
     "name": "stdout",
     "output_type": "stream",
     "text": [
      "{10}\n"
     ]
    }
   ],
   "source": [
    "print(z)"
   ]
  },
  {
   "cell_type": "code",
   "execution_count": 16,
   "id": "13fd5774-f77d-41bf-972d-9b576fc450eb",
   "metadata": {},
   "outputs": [
    {
     "data": {
      "text/plain": [
       "[1, 2, 3, 2, 3, 4]"
      ]
     },
     "execution_count": 16,
     "metadata": {},
     "output_type": "execute_result"
    }
   ],
   "source": [
    "[1,2,3]+[2,3,4]"
   ]
  },
  {
   "cell_type": "code",
   "execution_count": 17,
   "id": "2766dfed-f848-4d51-a5e1-4f8a6928a12a",
   "metadata": {},
   "outputs": [
    {
     "ename": "TypeError",
     "evalue": "unsupported operand type(s) for +: 'set' and 'set'",
     "output_type": "error",
     "traceback": [
      "\u001b[1;31m---------------------------------------------------------------------------\u001b[0m",
      "\u001b[1;31mTypeError\u001b[0m                                 Traceback (most recent call last)",
      "Cell \u001b[1;32mIn[17], line 1\u001b[0m\n\u001b[1;32m----> 1\u001b[0m \u001b[43m{\u001b[49m\u001b[38;5;241;43m1\u001b[39;49m\u001b[43m,\u001b[49m\u001b[38;5;241;43m2\u001b[39;49m\u001b[43m,\u001b[49m\u001b[38;5;241;43m3\u001b[39;49m\u001b[43m}\u001b[49m\u001b[38;5;241;43m+\u001b[39;49m\u001b[43m{\u001b[49m\u001b[38;5;241;43m2\u001b[39;49m\u001b[43m,\u001b[49m\u001b[38;5;241;43m3\u001b[39;49m\u001b[43m,\u001b[49m\u001b[38;5;241;43m4\u001b[39;49m\u001b[43m}\u001b[49m\n",
      "\u001b[1;31mTypeError\u001b[0m: unsupported operand type(s) for +: 'set' and 'set'"
     ]
    }
   ],
   "source": [
    "{1,2,3}+{2,3,4}"
   ]
  },
  {
   "cell_type": "code",
   "execution_count": 1,
   "id": "4f6fb5ee-a86b-4baa-b7bb-d12abc3a02ce",
   "metadata": {},
   "outputs": [],
   "source": [
    "# set methods"
   ]
  },
  {
   "cell_type": "code",
   "execution_count": 2,
   "id": "9faefb91-1644-4ca2-b1bb-55b9c3408da6",
   "metadata": {},
   "outputs": [],
   "source": [
    "a=set()"
   ]
  },
  {
   "cell_type": "code",
   "execution_count": 4,
   "id": "d2ed73b4-8e9d-4f2b-a5de-02ffc1cc8e1e",
   "metadata": {},
   "outputs": [
    {
     "name": "stdout",
     "output_type": "stream",
     "text": [
      "0\n"
     ]
    }
   ],
   "source": [
    "print(len(a))"
   ]
  },
  {
   "cell_type": "raw",
   "id": "aef7b144-6c65-4957-bfd1-586e81b3b134",
   "metadata": {},
   "source": [
    "# int,float,str,list,tuple,set\n",
    "# mutable datatype:-list , set,dict\n",
    "# immutable datatype:- int , float,str,tuple, frozenset,complex, boolean"
   ]
  },
  {
   "cell_type": "code",
   "execution_count": 5,
   "id": "ffd06a36-235a-4497-ab82-57a92eddf3b2",
   "metadata": {},
   "outputs": [],
   "source": [
    "a.add(10)"
   ]
  },
  {
   "cell_type": "code",
   "execution_count": 6,
   "id": "0a05e633-6651-408b-a8e6-c42daa5c487c",
   "metadata": {},
   "outputs": [
    {
     "name": "stdout",
     "output_type": "stream",
     "text": [
      "{10}\n"
     ]
    }
   ],
   "source": [
    "print(a)"
   ]
  },
  {
   "cell_type": "code",
   "execution_count": 8,
   "id": "56afd07c-b560-4314-8e4d-2e64fec2987b",
   "metadata": {},
   "outputs": [],
   "source": [
    "a.add(10.99)"
   ]
  },
  {
   "cell_type": "code",
   "execution_count": 9,
   "id": "e7cc1339-c024-4114-833f-57f6df2423d5",
   "metadata": {},
   "outputs": [
    {
     "name": "stdout",
     "output_type": "stream",
     "text": [
      "{10, 10.99}\n"
     ]
    }
   ],
   "source": [
    "print(a)"
   ]
  },
  {
   "cell_type": "code",
   "execution_count": 10,
   "id": "60525a73-7a9d-40ec-97a2-e6313997d01e",
   "metadata": {},
   "outputs": [],
   "source": [
    "a.add(\"krishna\")"
   ]
  },
  {
   "cell_type": "code",
   "execution_count": 11,
   "id": "7946ddc3-eae7-420b-99e9-ff2e90f39291",
   "metadata": {},
   "outputs": [
    {
     "name": "stdout",
     "output_type": "stream",
     "text": [
      "{10, 10.99, 'krishna'}\n"
     ]
    }
   ],
   "source": [
    "print(a)"
   ]
  },
  {
   "cell_type": "code",
   "execution_count": 12,
   "id": "ab860c2f-93f3-4291-b331-811af69821e6",
   "metadata": {},
   "outputs": [],
   "source": [
    "a.add((1,))"
   ]
  },
  {
   "cell_type": "code",
   "execution_count": 13,
   "id": "a4dc6101-cc27-4287-9c7d-91131b3e1813",
   "metadata": {},
   "outputs": [
    {
     "name": "stdout",
     "output_type": "stream",
     "text": [
      "{(1,), 10, 10.99, 'krishna'}\n"
     ]
    }
   ],
   "source": [
    "print(a)"
   ]
  },
  {
   "cell_type": "code",
   "execution_count": 14,
   "id": "db3b4f71-f137-4c6b-8ec6-72e2cd46e0ee",
   "metadata": {},
   "outputs": [],
   "source": [
    "a.clear()"
   ]
  },
  {
   "cell_type": "code",
   "execution_count": 15,
   "id": "b3e01db1-d983-43df-b37a-6ee9d65654e2",
   "metadata": {},
   "outputs": [
    {
     "name": "stdout",
     "output_type": "stream",
     "text": [
      "set()\n"
     ]
    }
   ],
   "source": [
    "print(a)"
   ]
  },
  {
   "cell_type": "code",
   "execution_count": 16,
   "id": "c056fc3c-02b2-477d-b3fb-d946dc04da51",
   "metadata": {},
   "outputs": [],
   "source": [
    "a.add((1,2,3,4,5,6))"
   ]
  },
  {
   "cell_type": "code",
   "execution_count": 17,
   "id": "2c93a261-3e8a-4098-ac0c-211644945b90",
   "metadata": {},
   "outputs": [
    {
     "name": "stdout",
     "output_type": "stream",
     "text": [
      "{(1, 2, 3, 4, 5, 6)}\n"
     ]
    }
   ],
   "source": [
    "print(a)"
   ]
  },
  {
   "cell_type": "code",
   "execution_count": 18,
   "id": "f90b4899-36e4-4327-9c1e-ddc1e589fe36",
   "metadata": {},
   "outputs": [],
   "source": [
    "a.update((1,2,3,4,4,5,6))"
   ]
  },
  {
   "cell_type": "code",
   "execution_count": 19,
   "id": "15639890-da27-497d-abad-4cdff7e900af",
   "metadata": {},
   "outputs": [
    {
     "name": "stdout",
     "output_type": "stream",
     "text": [
      "{1, 2, 3, 4, 5, 6, (1, 2, 3, 4, 5, 6)}\n"
     ]
    }
   ],
   "source": [
    "print(a)"
   ]
  },
  {
   "cell_type": "code",
   "execution_count": 20,
   "id": "47cc054a-87e7-4d14-8cd5-c95aada2cfea",
   "metadata": {},
   "outputs": [],
   "source": [
    "a.update(\"krishna\")"
   ]
  },
  {
   "cell_type": "code",
   "execution_count": 21,
   "id": "44604df7-b6a4-4f2e-9742-f0c97817507e",
   "metadata": {},
   "outputs": [
    {
     "name": "stdout",
     "output_type": "stream",
     "text": [
      "{1, 2, 3, 4, 5, 6, 'r', 'n', 'a', 's', (1, 2, 3, 4, 5, 6), 'i', 'k', 'h'}\n"
     ]
    }
   ],
   "source": [
    "print(a)"
   ]
  },
  {
   "cell_type": "code",
   "execution_count": 24,
   "id": "cfa7a78d-0381-4051-86f0-b29d8c5388d9",
   "metadata": {},
   "outputs": [],
   "source": [
    "a.update([\"krishna\",\"krish\"])"
   ]
  },
  {
   "cell_type": "code",
   "execution_count": 25,
   "id": "c1427819-a38a-45f7-9933-4debaf46485a",
   "metadata": {},
   "outputs": [
    {
     "name": "stdout",
     "output_type": "stream",
     "text": [
      "{1, 2, 3, 4, 5, 6, 'r', 'n', 'a', 'krishna', 's', (1, 2, 3, 4, 5, 6), 'i', 'k', 'krish', 'h'}\n"
     ]
    }
   ],
   "source": [
    "print(a)"
   ]
  },
  {
   "cell_type": "code",
   "execution_count": 26,
   "id": "47f15611-a5c6-4a22-b8d1-8112a325badd",
   "metadata": {},
   "outputs": [
    {
     "name": "stdout",
     "output_type": "stream",
     "text": [
      "2066244590656\n"
     ]
    }
   ],
   "source": [
    "print(id(a))"
   ]
  },
  {
   "cell_type": "code",
   "execution_count": 27,
   "id": "713167aa-923e-4ba8-a9da-f3bef5692932",
   "metadata": {},
   "outputs": [],
   "source": [
    "b=a"
   ]
  },
  {
   "cell_type": "code",
   "execution_count": 28,
   "id": "0409c858-91f1-44ca-b987-d637896d4e51",
   "metadata": {},
   "outputs": [
    {
     "name": "stdout",
     "output_type": "stream",
     "text": [
      "{1, 2, 3, 4, 5, 6, 'r', 'n', 'a', 'krishna', 's', (1, 2, 3, 4, 5, 6), 'i', 'k', 'krish', 'h'}\n"
     ]
    }
   ],
   "source": [
    "print(b)"
   ]
  },
  {
   "cell_type": "code",
   "execution_count": 29,
   "id": "50386477-2cca-42e3-b115-b8f00135be98",
   "metadata": {},
   "outputs": [
    {
     "name": "stdout",
     "output_type": "stream",
     "text": [
      "2066244590656\n"
     ]
    }
   ],
   "source": [
    "print(id(b))"
   ]
  },
  {
   "cell_type": "code",
   "execution_count": 30,
   "id": "d0aa9d38-841a-4b68-beaf-f4d8502578f3",
   "metadata": {},
   "outputs": [],
   "source": [
    "a.add(10000)"
   ]
  },
  {
   "cell_type": "code",
   "execution_count": 31,
   "id": "8809c989-3c75-49ce-bfaf-e53bbebf29c9",
   "metadata": {},
   "outputs": [
    {
     "name": "stdout",
     "output_type": "stream",
     "text": [
      "{1, 2, 3, 4, 5, 6, 'r', 'n', 'a', 'krishna', 's', 10000, (1, 2, 3, 4, 5, 6), 'i', 'k', 'krish', 'h'}\n"
     ]
    }
   ],
   "source": [
    "print(a)"
   ]
  },
  {
   "cell_type": "code",
   "execution_count": 32,
   "id": "0171ecb4-e597-4759-914b-962536401145",
   "metadata": {},
   "outputs": [
    {
     "name": "stdout",
     "output_type": "stream",
     "text": [
      "{1, 2, 3, 4, 5, 6, 'r', 'n', 'a', 'krishna', 's', 10000, (1, 2, 3, 4, 5, 6), 'i', 'k', 'krish', 'h'}\n"
     ]
    }
   ],
   "source": [
    "print(b)"
   ]
  },
  {
   "cell_type": "code",
   "execution_count": 33,
   "id": "eb85ade8-6528-4e62-9e45-d926310da8d3",
   "metadata": {},
   "outputs": [],
   "source": [
    "c=a.copy()"
   ]
  },
  {
   "cell_type": "code",
   "execution_count": 36,
   "id": "9f104319-35dd-4cec-99ac-cc4961693ceb",
   "metadata": {},
   "outputs": [
    {
     "name": "stdout",
     "output_type": "stream",
     "text": [
      "{1, 2, 3, 4, 5, 6, 'r', 'a', 's', 10000, 'i', 'n', 'krishna', (1, 2, 3, 4, 5, 6), 'k', 'krish', 'h'} 2066257679008\n"
     ]
    }
   ],
   "source": [
    "print(c,id(c))"
   ]
  },
  {
   "cell_type": "code",
   "execution_count": 37,
   "id": "3d39df2c-4e8a-44d9-9ff3-df36f078b257",
   "metadata": {},
   "outputs": [
    {
     "name": "stdout",
     "output_type": "stream",
     "text": [
      "{1, 2, 3, 4, 5, 6, 'r', 'n', 'a', 'krishna', 's', 10000, (1, 2, 3, 4, 5, 6), 'i', 'k', 'krish', 'h'} 2066244590656\n"
     ]
    }
   ],
   "source": [
    "print(a,id(a))"
   ]
  },
  {
   "cell_type": "code",
   "execution_count": 38,
   "id": "c389a59b-c3fa-4865-add7-baf231afbf15",
   "metadata": {},
   "outputs": [],
   "source": [
    "a.add(99999)"
   ]
  },
  {
   "cell_type": "code",
   "execution_count": 39,
   "id": "18e4747b-f40b-429e-ab57-ff4730c76489",
   "metadata": {},
   "outputs": [
    {
     "name": "stdout",
     "output_type": "stream",
     "text": [
      "{1, 2, 3, 4, 5, 6, 'r', 'n', 'a', 'krishna', 's', 10000, (1, 2, 3, 4, 5, 6), 'i', 'k', 'krish', 'h', 99999}\n"
     ]
    }
   ],
   "source": [
    "print(a)"
   ]
  },
  {
   "cell_type": "code",
   "execution_count": 40,
   "id": "6031baca-31d0-439a-b6cc-8bd929170e43",
   "metadata": {},
   "outputs": [
    {
     "name": "stdout",
     "output_type": "stream",
     "text": [
      "{1, 2, 3, 4, 5, 6, 'r', 'a', 's', 10000, 'i', 'n', 'krishna', (1, 2, 3, 4, 5, 6), 'k', 'krish', 'h'}\n"
     ]
    }
   ],
   "source": [
    "print(c)"
   ]
  },
  {
   "cell_type": "code",
   "execution_count": 41,
   "id": "66433073-f811-4ee7-84b2-6876183a8ba5",
   "metadata": {},
   "outputs": [
    {
     "data": {
      "text/plain": [
       "1"
      ]
     },
     "execution_count": 41,
     "metadata": {},
     "output_type": "execute_result"
    }
   ],
   "source": [
    "a.pop()"
   ]
  },
  {
   "cell_type": "code",
   "execution_count": 42,
   "id": "fa9d7d75-218a-4de5-8781-f9ff65b7b100",
   "metadata": {},
   "outputs": [
    {
     "name": "stdout",
     "output_type": "stream",
     "text": [
      "{2, 3, 4, 5, 6, 'r', 'n', 'a', 'krishna', 's', 10000, (1, 2, 3, 4, 5, 6), 'i', 'k', 'krish', 'h', 99999}\n"
     ]
    }
   ],
   "source": [
    "print(a)"
   ]
  },
  {
   "cell_type": "code",
   "execution_count": 43,
   "id": "f5fd5ed5-f341-4517-b940-8b6b359c01ac",
   "metadata": {},
   "outputs": [
    {
     "data": {
      "text/plain": [
       "2"
      ]
     },
     "execution_count": 43,
     "metadata": {},
     "output_type": "execute_result"
    }
   ],
   "source": [
    "a.pop()"
   ]
  },
  {
   "cell_type": "code",
   "execution_count": 44,
   "id": "7ba97dc9-4923-4095-9066-68273bd61e0a",
   "metadata": {},
   "outputs": [
    {
     "name": "stdout",
     "output_type": "stream",
     "text": [
      "{3, 4, 5, 6, 'r', 'n', 'a', 'krishna', 's', 10000, (1, 2, 3, 4, 5, 6), 'i', 'k', 'krish', 'h', 99999}\n"
     ]
    }
   ],
   "source": [
    "print(a)"
   ]
  },
  {
   "cell_type": "code",
   "execution_count": 45,
   "id": "d0fa7a72-4fd1-40b4-b508-f56d7a3ca0db",
   "metadata": {},
   "outputs": [],
   "source": [
    "a.remove(\"krishna\")"
   ]
  },
  {
   "cell_type": "code",
   "execution_count": 46,
   "id": "9d9d9aa3-4ae8-40b1-a989-dd5e542cd908",
   "metadata": {},
   "outputs": [
    {
     "name": "stdout",
     "output_type": "stream",
     "text": [
      "{3, 4, 5, 6, 'r', 'n', 'a', 's', 10000, (1, 2, 3, 4, 5, 6), 'i', 'k', 'krish', 'h', 99999}\n"
     ]
    }
   ],
   "source": [
    "print(a)"
   ]
  },
  {
   "cell_type": "code",
   "execution_count": 47,
   "id": "55a02569-906d-4f4e-8a5b-af2da302fbf9",
   "metadata": {},
   "outputs": [
    {
     "ename": "KeyError",
     "evalue": "'krishna'",
     "output_type": "error",
     "traceback": [
      "\u001b[1;31m---------------------------------------------------------------------------\u001b[0m",
      "\u001b[1;31mKeyError\u001b[0m                                  Traceback (most recent call last)",
      "Cell \u001b[1;32mIn[47], line 1\u001b[0m\n\u001b[1;32m----> 1\u001b[0m \u001b[43ma\u001b[49m\u001b[38;5;241;43m.\u001b[39;49m\u001b[43mremove\u001b[49m\u001b[43m(\u001b[49m\u001b[38;5;124;43m\"\u001b[39;49m\u001b[38;5;124;43mkrishna\u001b[39;49m\u001b[38;5;124;43m\"\u001b[39;49m\u001b[43m)\u001b[49m\n",
      "\u001b[1;31mKeyError\u001b[0m: 'krishna'"
     ]
    }
   ],
   "source": [
    "a.remove(\"krishna\")"
   ]
  },
  {
   "cell_type": "code",
   "execution_count": 48,
   "id": "73197157-5605-44e0-86a9-b50f0b2beffb",
   "metadata": {},
   "outputs": [],
   "source": [
    "a={1,2,3,4,5}\n",
    "b={4,5,6,7,8}\n",
    "c={-1,4,5,9}"
   ]
  },
  {
   "cell_type": "code",
   "execution_count": 49,
   "id": "a6fbb9c2-9e66-42b1-a203-e580429d3851",
   "metadata": {},
   "outputs": [
    {
     "data": {
      "text/plain": [
       "{4, 5}"
      ]
     },
     "execution_count": 49,
     "metadata": {},
     "output_type": "execute_result"
    }
   ],
   "source": [
    "a.intersection(b,c)"
   ]
  },
  {
   "cell_type": "code",
   "execution_count": 50,
   "id": "68c81143-70b0-42f5-9888-1bf6ef8c62f2",
   "metadata": {},
   "outputs": [
    {
     "name": "stdout",
     "output_type": "stream",
     "text": [
      "{1, 2, 3, 4, 5}\n"
     ]
    }
   ],
   "source": [
    "print(a)"
   ]
  },
  {
   "cell_type": "code",
   "execution_count": 51,
   "id": "a3e87ff5-1197-4f02-90ce-8b1ddd1a7f2f",
   "metadata": {},
   "outputs": [],
   "source": [
    "a.intersection_update(b,c)"
   ]
  },
  {
   "cell_type": "code",
   "execution_count": 52,
   "id": "3096ac63-d62f-4cb7-ad79-ee82ac18804d",
   "metadata": {},
   "outputs": [
    {
     "name": "stdout",
     "output_type": "stream",
     "text": [
      "{4, 5}\n"
     ]
    }
   ],
   "source": [
    "print(a)"
   ]
  },
  {
   "cell_type": "code",
   "execution_count": 53,
   "id": "0776a8aa-11a8-4dbc-9bcc-0f550cd6fe2b",
   "metadata": {},
   "outputs": [
    {
     "name": "stdout",
     "output_type": "stream",
     "text": [
      "{4, 5, 6, 7, 8}\n"
     ]
    }
   ],
   "source": [
    "print(b)"
   ]
  },
  {
   "cell_type": "code",
   "execution_count": 54,
   "id": "1532db04-8b62-4335-ab8b-d54effc93e2a",
   "metadata": {},
   "outputs": [
    {
     "name": "stdout",
     "output_type": "stream",
     "text": [
      "{9, 4, 5, -1}\n"
     ]
    }
   ],
   "source": [
    "print(c)"
   ]
  },
  {
   "cell_type": "code",
   "execution_count": 55,
   "id": "d062ca4c-bfc2-4df4-838d-a57ed8d0e675",
   "metadata": {},
   "outputs": [],
   "source": [
    "a={1,2,3,4,5}\n",
    "b={4,5,6,7,8}\n",
    "c={-1,4,5,9}"
   ]
  },
  {
   "cell_type": "code",
   "execution_count": 56,
   "id": "b80ada38-845e-4fb1-a342-88257e3c31c5",
   "metadata": {},
   "outputs": [
    {
     "data": {
      "text/plain": [
       "{1, 2, 3}"
      ]
     },
     "execution_count": 56,
     "metadata": {},
     "output_type": "execute_result"
    }
   ],
   "source": [
    "a.difference(b)"
   ]
  },
  {
   "cell_type": "code",
   "execution_count": 57,
   "id": "8aaae431-7eae-4fb1-82d3-2e8b21d3c134",
   "metadata": {},
   "outputs": [],
   "source": [
    "a.difference_update(b)"
   ]
  },
  {
   "cell_type": "code",
   "execution_count": 58,
   "id": "fd261555-0170-4d08-ad1b-9515dfa14899",
   "metadata": {},
   "outputs": [
    {
     "name": "stdout",
     "output_type": "stream",
     "text": [
      "{1, 2, 3}\n"
     ]
    }
   ],
   "source": [
    "print(a)"
   ]
  },
  {
   "cell_type": "code",
   "execution_count": 59,
   "id": "7e20dd66-75dd-425d-8a83-d497da3aa236",
   "metadata": {},
   "outputs": [],
   "source": [
    "a={1,2,3,4,5}\n",
    "b={4,5,6,7,8}\n",
    "c={-1,4,5,9}"
   ]
  },
  {
   "cell_type": "code",
   "execution_count": 60,
   "id": "5260100f-57c9-4b0a-8094-b00c7cdd932e",
   "metadata": {},
   "outputs": [],
   "source": [
    "a.remove(5)"
   ]
  },
  {
   "cell_type": "code",
   "execution_count": 61,
   "id": "3cfa44dd-4d95-4cca-8fe8-81390b2f05e9",
   "metadata": {},
   "outputs": [
    {
     "name": "stdout",
     "output_type": "stream",
     "text": [
      "{1, 2, 3, 4}\n"
     ]
    }
   ],
   "source": [
    "print(a)"
   ]
  },
  {
   "cell_type": "code",
   "execution_count": 62,
   "id": "3445a74e-9d7e-4ae1-82ec-ab761f9b154d",
   "metadata": {},
   "outputs": [
    {
     "ename": "KeyError",
     "evalue": "5",
     "output_type": "error",
     "traceback": [
      "\u001b[1;31m---------------------------------------------------------------------------\u001b[0m",
      "\u001b[1;31mKeyError\u001b[0m                                  Traceback (most recent call last)",
      "Cell \u001b[1;32mIn[62], line 1\u001b[0m\n\u001b[1;32m----> 1\u001b[0m \u001b[43ma\u001b[49m\u001b[38;5;241;43m.\u001b[39;49m\u001b[43mremove\u001b[49m\u001b[43m(\u001b[49m\u001b[38;5;241;43m5\u001b[39;49m\u001b[43m)\u001b[49m\n",
      "\u001b[1;31mKeyError\u001b[0m: 5"
     ]
    }
   ],
   "source": [
    "a.remove(5)"
   ]
  },
  {
   "cell_type": "code",
   "execution_count": 63,
   "id": "4c410ae6-57db-4f8b-9ddc-5c34a64b83ac",
   "metadata": {},
   "outputs": [],
   "source": [
    "a.discard(4)"
   ]
  },
  {
   "cell_type": "code",
   "execution_count": 64,
   "id": "52d68bd5-13db-4aa3-9481-5b8c3eee264d",
   "metadata": {},
   "outputs": [
    {
     "name": "stdout",
     "output_type": "stream",
     "text": [
      "{1, 2, 3}\n"
     ]
    }
   ],
   "source": [
    "print(a)"
   ]
  },
  {
   "cell_type": "code",
   "execution_count": 65,
   "id": "9165678d-44bc-48b6-80bb-d0c36094f9a9",
   "metadata": {},
   "outputs": [],
   "source": [
    "a.discard(4)"
   ]
  },
  {
   "cell_type": "code",
   "execution_count": 66,
   "id": "c0d9c6fa-daba-4ce3-bbe9-0377c3a4de71",
   "metadata": {},
   "outputs": [],
   "source": [
    "a={1,2,3,4,5}\n",
    "b={4,5,6,7,8}\n",
    "c={-1,4,5,9}"
   ]
  },
  {
   "cell_type": "code",
   "execution_count": 67,
   "id": "23f5b248-7ece-487a-b63d-f45874b12584",
   "metadata": {},
   "outputs": [
    {
     "data": {
      "text/plain": [
       "False"
      ]
     },
     "execution_count": 67,
     "metadata": {},
     "output_type": "execute_result"
    }
   ],
   "source": [
    "a.isdisjoint(b)"
   ]
  },
  {
   "cell_type": "code",
   "execution_count": 68,
   "id": "08cfd405-3100-4267-8c44-7b5be8aec932",
   "metadata": {},
   "outputs": [],
   "source": [
    "a={1,2,3}\n",
    "b={1,2}"
   ]
  },
  {
   "cell_type": "code",
   "execution_count": 69,
   "id": "a265471e-b3c3-4dc5-9eba-85d3bc1842c2",
   "metadata": {},
   "outputs": [
    {
     "data": {
      "text/plain": [
       "True"
      ]
     },
     "execution_count": 69,
     "metadata": {},
     "output_type": "execute_result"
    }
   ],
   "source": [
    "a.issuperset(b)"
   ]
  },
  {
   "cell_type": "code",
   "execution_count": 70,
   "id": "4cafe7b8-f5c0-4922-8f4e-55c430982c6d",
   "metadata": {},
   "outputs": [
    {
     "data": {
      "text/plain": [
       "False"
      ]
     },
     "execution_count": 70,
     "metadata": {},
     "output_type": "execute_result"
    }
   ],
   "source": [
    "b.issuperset(a)"
   ]
  },
  {
   "cell_type": "code",
   "execution_count": 71,
   "id": "45a91163-5e73-4958-8087-d9a56a978c88",
   "metadata": {},
   "outputs": [
    {
     "data": {
      "text/plain": [
       "True"
      ]
     },
     "execution_count": 71,
     "metadata": {},
     "output_type": "execute_result"
    }
   ],
   "source": [
    "b.issubset(a)"
   ]
  },
  {
   "cell_type": "code",
   "execution_count": 72,
   "id": "8b9bb70f-f916-441f-85ca-952ee9d1a048",
   "metadata": {},
   "outputs": [],
   "source": [
    "a={1,2,3,4,5}\n",
    "b={4,5,6,7,8}"
   ]
  },
  {
   "cell_type": "code",
   "execution_count": 73,
   "id": "2f26aae7-a002-4485-ac4b-5be305cab7f2",
   "metadata": {},
   "outputs": [
    {
     "data": {
      "text/plain": [
       "{1, 2, 3}"
      ]
     },
     "execution_count": 73,
     "metadata": {},
     "output_type": "execute_result"
    }
   ],
   "source": [
    "a.difference(b)"
   ]
  },
  {
   "cell_type": "code",
   "execution_count": 74,
   "id": "ffdda6b0-aa02-4d73-8bb2-e8f968b89814",
   "metadata": {},
   "outputs": [
    {
     "data": {
      "text/plain": [
       "{1, 2, 3, 6, 7, 8}"
      ]
     },
     "execution_count": 74,
     "metadata": {},
     "output_type": "execute_result"
    }
   ],
   "source": [
    "a.symmetric_difference(b)"
   ]
  },
  {
   "cell_type": "code",
   "execution_count": 75,
   "id": "82ab0dae-4fa8-454d-b4af-a013af44c426",
   "metadata": {},
   "outputs": [],
   "source": [
    "a.symmetric_difference_update(b)"
   ]
  },
  {
   "cell_type": "code",
   "execution_count": 76,
   "id": "7c1a587c-1acf-4aa8-99e2-743d28c04bca",
   "metadata": {},
   "outputs": [
    {
     "name": "stdout",
     "output_type": "stream",
     "text": [
      "{1, 2, 3, 6, 7, 8}\n"
     ]
    }
   ],
   "source": [
    "print(a)"
   ]
  },
  {
   "cell_type": "code",
   "execution_count": 77,
   "id": "9181390f-1197-47d7-93cc-7db032177b3e",
   "metadata": {},
   "outputs": [
    {
     "name": "stdout",
     "output_type": "stream",
     "text": [
      "{4, 5, 6, 7, 8}\n"
     ]
    }
   ],
   "source": [
    "print(b)"
   ]
  },
  {
   "cell_type": "code",
   "execution_count": 78,
   "id": "c1f6f6ea-4970-49a6-9fb6-bd0759b62023",
   "metadata": {},
   "outputs": [],
   "source": [
    "a={1,2,3,4,5}\n",
    "b={4,5,6,7,8}\n",
    "c={-1,4,5,9}"
   ]
  },
  {
   "cell_type": "code",
   "execution_count": 79,
   "id": "c8f7147c-fdd9-464a-b7fe-2167395590ce",
   "metadata": {},
   "outputs": [
    {
     "data": {
      "text/plain": [
       "{-1, 1, 2, 3, 4, 5, 6, 7, 8, 9}"
      ]
     },
     "execution_count": 79,
     "metadata": {},
     "output_type": "execute_result"
    }
   ],
   "source": [
    "a.union(b,c)"
   ]
  },
  {
   "cell_type": "code",
   "execution_count": 80,
   "id": "99159702-3ab5-4316-b192-900f7b2f89bd",
   "metadata": {},
   "outputs": [],
   "source": [
    "a={1,2,3,4,5}\n",
    "b={4,5,6,7,8}\n",
    "c={-1,4,5,9}"
   ]
  },
  {
   "cell_type": "code",
   "execution_count": 81,
   "id": "ca0aef42-9ef6-4c2d-a88b-38323112de59",
   "metadata": {},
   "outputs": [
    {
     "data": {
      "text/plain": [
       "{1, 2, 3, 6, 7, 8}"
      ]
     },
     "execution_count": 81,
     "metadata": {},
     "output_type": "execute_result"
    }
   ],
   "source": [
    "a.symmetric_difference(b)"
   ]
  },
  {
   "cell_type": "code",
   "execution_count": 82,
   "id": "34f9a1d3-7330-4ff9-bfa8-e954bdfe760c",
   "metadata": {},
   "outputs": [
    {
     "data": {
      "text/plain": [
       "{1, 2, 3}"
      ]
     },
     "execution_count": 82,
     "metadata": {},
     "output_type": "execute_result"
    }
   ],
   "source": [
    "a.difference(b)"
   ]
  },
  {
   "cell_type": "code",
   "execution_count": null,
   "id": "4a95ac30-346a-484d-984e-fbb1658cf2a5",
   "metadata": {},
   "outputs": [],
   "source": [
    "  "
   ]
  }
 ],
 "metadata": {
  "kernelspec": {
   "display_name": "Python 3 (ipykernel)",
   "language": "python",
   "name": "python3"
  },
  "language_info": {
   "codemirror_mode": {
    "name": "ipython",
    "version": 3
   },
   "file_extension": ".py",
   "mimetype": "text/x-python",
   "name": "python",
   "nbconvert_exporter": "python",
   "pygments_lexer": "ipython3",
   "version": "3.11.5"
  }
 },
 "nbformat": 4,
 "nbformat_minor": 5
}
