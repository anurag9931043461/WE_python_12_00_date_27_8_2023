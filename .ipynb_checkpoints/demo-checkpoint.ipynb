{
 "cells": [
  {
   "cell_type": "code",
   "execution_count": 1,
   "id": "a2fb6129-48f3-4d39-b440-b5f8144a3391",
   "metadata": {},
   "outputs": [
    {
     "name": "stdout",
     "output_type": "stream",
     "text": [
      "hello world\n"
     ]
    }
   ],
   "source": [
    "print(\"hello world\")"
   ]
  },
  {
   "cell_type": "code",
   "execution_count": 2,
   "id": "f9e8ca49-8e55-494c-bea7-a3d90fe5449f",
   "metadata": {},
   "outputs": [
    {
     "name": "stdout",
     "output_type": "stream",
     "text": [
      "hello world\n",
      "hello world\n",
      "hello world\n",
      "hello world\n",
      "hello world\n"
     ]
    }
   ],
   "source": [
    "print(\"hello world\")\n",
    "print(\"hello world\")\n",
    "print(\"hello world\")\n",
    "print(\"hello world\")\n",
    "print(\"hello world\")"
   ]
  },
  {
   "cell_type": "code",
   "execution_count": 4,
   "id": "a1320a0f-4304-4d36-ad3b-0c4cf6d3e376",
   "metadata": {},
   "outputs": [
    {
     "name": "stdout",
     "output_type": "stream",
     "text": [
      "hello world\n"
     ]
    }
   ],
   "source": [
    "print(\"hello world\")"
   ]
  },
  {
   "cell_type": "code",
   "execution_count": 7,
   "id": "ee0c4d69-0836-449d-86d5-4350efced058",
   "metadata": {},
   "outputs": [
    {
     "name": "stdout",
     "output_type": "stream",
     "text": [
      "Hello world\n"
     ]
    }
   ],
   "source": [
    "print(\"Hello world\")  # print() use to echo something"
   ]
  },
  {
   "cell_type": "code",
   "execution_count": 12,
   "id": "303b4fb1-b088-46c6-9d4c-99b8161b8e36",
   "metadata": {},
   "outputs": [
    {
     "name": "stdout",
     "output_type": "stream",
     "text": [
      "Hello world\n"
     ]
    }
   ],
   "source": [
    "print(\"Hello world\")   #print() use to echo something\n",
    "#dfsdfsdfsdfsdf       lkndflkmnsdlksedfisedojpsdf"
   ]
  },
  {
   "cell_type": "code",
   "execution_count": 14,
   "id": "48c137c8-8980-4649-b9fa-1f154e2b3a80",
   "metadata": {},
   "outputs": [
    {
     "name": "stdout",
     "output_type": "stream",
     "text": [
      "hello world Hello world Hello world\n"
     ]
    }
   ],
   "source": [
    "print(\"hello world\",\"Hello world\",\"Hello world\",sep=\" \")"
   ]
  },
  {
   "cell_type": "code",
   "execution_count": 15,
   "id": "1a1413ab-f9db-4f71-9b8e-050ecdf08ae9",
   "metadata": {},
   "outputs": [
    {
     "name": "stdout",
     "output_type": "stream",
     "text": [
      "hello world,Hello world,Hello world\n"
     ]
    }
   ],
   "source": [
    "print(\"hello world\",\"Hello world\",\"Hello world\",sep=\",\")"
   ]
  },
  {
   "cell_type": "code",
   "execution_count": 16,
   "id": "8534ee5b-5e9e-4d13-9926-abc88c08aae4",
   "metadata": {},
   "outputs": [
    {
     "name": "stdout",
     "output_type": "stream",
     "text": [
      "hello world$Hello world$Hello world\n"
     ]
    }
   ],
   "source": [
    "print(\"hello world\",\"Hello world\",\"Hello world\",sep=\"$\")"
   ]
  },
  {
   "cell_type": "code",
   "execution_count": 18,
   "id": "d5cadc11-fb32-4804-ad6a-2329ea09dbb5",
   "metadata": {},
   "outputs": [
    {
     "name": "stdout",
     "output_type": "stream",
     "text": [
      "hello world^Hello world^Hello world\n"
     ]
    }
   ],
   "source": [
    "print(\"hello world\",\"Hello world\",\"Hello world\",sep=\"^\")"
   ]
  },
  {
   "cell_type": "code",
   "execution_count": 21,
   "id": "695b0873-cbad-4ff3-99cd-e443d15c8163",
   "metadata": {},
   "outputs": [
    {
     "name": "stdout",
     "output_type": "stream",
     "text": [
      "hello world\n",
      "hello world\n"
     ]
    }
   ],
   "source": [
    "print(\"hello world\");\n",
    "print(\"hello world\");"
   ]
  },
  {
   "cell_type": "code",
   "execution_count": 23,
   "id": "71208854-1fee-4010-99fe-d32dc4d381dd",
   "metadata": {},
   "outputs": [
    {
     "name": "stdout",
     "output_type": "stream",
     "text": [
      "hello world\n",
      "hello world\n"
     ]
    }
   ],
   "source": [
    "print(\"hello world\",end=\"\\n\");print(\"hello world\",end=\"\\n\")"
   ]
  },
  {
   "cell_type": "code",
   "execution_count": 24,
   "id": "db5ed839-2f30-455d-81e4-83c5e525b966",
   "metadata": {},
   "outputs": [
    {
     "name": "stdout",
     "output_type": "stream",
     "text": [
      "hello worldhello world\n"
     ]
    }
   ],
   "source": [
    "print(\"hello world\",end=\"\");print(\"hello world\",end=\"\\n\")"
   ]
  },
  {
   "cell_type": "code",
   "execution_count": 30,
   "id": "c8ead4ec-c87d-44e9-a8a5-f7106d7c4985",
   "metadata": {},
   "outputs": [
    {
     "name": "stdout",
     "output_type": "stream",
     "text": [
      "pine apple apple mango pine apple apple mango pine apple apple mango hello\n"
     ]
    }
   ],
   "source": [
    "print(\"pine apple\",\"apple\",\"mango\",end=\" \")\n",
    "print(\"pine apple\",\"apple\",\"mango\",end=\" \")\n",
    "print(\"pine apple\",\"apple\",\"mango\",end=\" \")\n",
    "print(\"hello\")"
   ]
  },
  {
   "cell_type": "code",
   "execution_count": 31,
   "id": "c9092570-14ff-460a-a120-fddb413f4b9c",
   "metadata": {},
   "outputs": [
    {
     "name": "stdout",
     "output_type": "stream",
     "text": [
      "pine apple\n",
      "apple\n",
      "mango\n"
     ]
    }
   ],
   "source": [
    "print(\"pine apple\",\"apple\",\"mango\",sep=\"\\n\")"
   ]
  },
  {
   "cell_type": "code",
   "execution_count": 38,
   "id": "baf68794-c1c8-43e9-a338-8a8fed54353f",
   "metadata": {},
   "outputs": [
    {
     "name": "stdout",
     "output_type": "stream",
     "text": [
      "hello world\n",
      "hello world\n"
     ]
    }
   ],
   "source": [
    "print(\"hello world\")\n",
    "print('hello world')"
   ]
  },
  {
   "cell_type": "code",
   "execution_count": 40,
   "id": "9895133e-3b6d-4357-bb83-5bdaa8963fa4",
   "metadata": {},
   "outputs": [
    {
     "name": "stdout",
     "output_type": "stream",
     "text": [
      "hello world\n",
      "I hate everything main marne ja raha hu\n",
      "\n",
      "kyuki mujhe country ne discard kar diya\n",
      "hello\n",
      "\n",
      "\n",
      "\n",
      "\n",
      "\n",
      "world\n"
     ]
    }
   ],
   "source": [
    "print(\"\"\"hello world\n",
    "I hate everything main marne ja raha hu\n",
    "\n",
    "kyuki mujhe country ne discard kar diya\"\"\")\n",
    "print('''hello\n",
    "\n",
    "\n",
    "\n",
    "\n",
    "\n",
    "world''')"
   ]
  },
  {
   "cell_type": "code",
   "execution_count": null,
   "id": "795496eb-1874-4a58-a26d-f97c22d0c52a",
   "metadata": {},
   "outputs": [],
   "source": []
  }
 ],
 "metadata": {
  "kernelspec": {
   "display_name": "Python 3 (ipykernel)",
   "language": "python",
   "name": "python3"
  },
  "language_info": {
   "codemirror_mode": {
    "name": "ipython",
    "version": 3
   },
   "file_extension": ".py",
   "mimetype": "text/x-python",
   "name": "python",
   "nbconvert_exporter": "python",
   "pygments_lexer": "ipython3",
   "version": "3.11.4"
  }
 },
 "nbformat": 4,
 "nbformat_minor": 5
}
