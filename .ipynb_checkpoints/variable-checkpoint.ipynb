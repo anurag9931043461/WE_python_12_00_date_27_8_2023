{
 "cells": [
  {
   "cell_type": "markdown",
   "id": "c0a1dc9a-010a-4c7a-aaa6-58d8d5e52af9",
   "metadata": {},
   "source": [
    "variable:\n",
    "\n",
    "> variable is a container which store our data for further use.\n",
    "\n",
    "> variable container size change dynamically\n",
    "\n",
    "\n",
    "> Rule:1 : Variable name never start with a number\n",
    "\n",
    "> Rule: 2: Variable name never contain special character except underscore(_)\n",
    "            !\"#$%&\\'()*+,-./:;<=>?@[\\\\]^`{|}~\n",
    "\n",
    "> Rule: 3: Variable name must be readable.\n",
    "\n",
    "> Variable : container,identifer,argument,object\n",
    "\n",
    "> Python is case sensitive language\n",
    "\n",
    "> Variable never contain space between it.\n",
    "> "
   ]
  },
  {
   "cell_type": "code",
   "execution_count": 1,
   "id": "bf2fc4de-9c01-4cc6-bd8b-57dbc36ef650",
   "metadata": {},
   "outputs": [],
   "source": [
    "jordan=10"
   ]
  },
  {
   "cell_type": "code",
   "execution_count": 3,
   "id": "1105e806-83f2-4465-bdd9-186661da5fa0",
   "metadata": {},
   "outputs": [
    {
     "name": "stdout",
     "output_type": "stream",
     "text": [
      "jordan\n"
     ]
    }
   ],
   "source": [
    "print(\"jordan\")"
   ]
  },
  {
   "cell_type": "code",
   "execution_count": 4,
   "id": "24b03071-36c7-401a-b393-2608d9b43e32",
   "metadata": {},
   "outputs": [
    {
     "name": "stdout",
     "output_type": "stream",
     "text": [
      "10\n"
     ]
    }
   ],
   "source": [
    "print(jordan)"
   ]
  },
  {
   "cell_type": "code",
   "execution_count": 5,
   "id": "80d31c27-fa37-46f3-85e7-72c4370c81e9",
   "metadata": {},
   "outputs": [
    {
     "ename": "SyntaxError",
     "evalue": "invalid imaginary literal (1062473389.py, line 1)",
     "output_type": "error",
     "traceback": [
      "\u001b[1;36m  Cell \u001b[1;32mIn[5], line 1\u001b[1;36m\u001b[0m\n\u001b[1;33m    1jordan=20\u001b[0m\n\u001b[1;37m     ^\u001b[0m\n\u001b[1;31mSyntaxError\u001b[0m\u001b[1;31m:\u001b[0m invalid imaginary literal\n"
     ]
    }
   ],
   "source": [
    "1jordan=20"
   ]
  },
  {
   "cell_type": "code",
   "execution_count": 6,
   "id": "e0410e28-769b-48be-941b-869859f67932",
   "metadata": {},
   "outputs": [],
   "source": [
    "jordan1=20"
   ]
  },
  {
   "cell_type": "code",
   "execution_count": 7,
   "id": "ab5bac7d-219f-426e-8762-6f5571c92a21",
   "metadata": {},
   "outputs": [
    {
     "name": "stdout",
     "output_type": "stream",
     "text": [
      "20\n"
     ]
    }
   ],
   "source": [
    "print(jordan1)"
   ]
  },
  {
   "cell_type": "code",
   "execution_count": 8,
   "id": "751df234-da26-42b9-9abd-d0622381ed50",
   "metadata": {},
   "outputs": [],
   "source": [
    "jordan1kumar=30"
   ]
  },
  {
   "cell_type": "code",
   "execution_count": 9,
   "id": "8e4866e5-2d03-45e2-a56f-4e3c24082a9d",
   "metadata": {},
   "outputs": [
    {
     "name": "stdout",
     "output_type": "stream",
     "text": [
      "30\n"
     ]
    }
   ],
   "source": [
    "print(jordan1kumar)"
   ]
  },
  {
   "cell_type": "code",
   "execution_count": 12,
   "id": "e1ea6b94-78be-49b9-8111-b4ddccb38572",
   "metadata": {},
   "outputs": [],
   "source": [
    "eugen_broadman=20"
   ]
  },
  {
   "cell_type": "code",
   "execution_count": 13,
   "id": "47ca0b95-1a57-4575-82c2-4cfecce3f7d2",
   "metadata": {},
   "outputs": [],
   "source": [
    "branda_rodrigus=20"
   ]
  },
  {
   "cell_type": "code",
   "execution_count": 15,
   "id": "440d05c6-2309-445a-86b4-ae2e50b35443",
   "metadata": {},
   "outputs": [],
   "source": [
    "ram_gopal_verma=20    # snake case"
   ]
  },
  {
   "cell_type": "code",
   "execution_count": 16,
   "id": "7aa40f41-d883-441c-8062-8e6f794f243e",
   "metadata": {},
   "outputs": [],
   "source": [
    "RamGopalVerma=20       #Pascal case"
   ]
  },
  {
   "cell_type": "code",
   "execution_count": 17,
   "id": "72aec449-2e2a-4be4-948e-ede6b32506fb",
   "metadata": {},
   "outputs": [],
   "source": [
    "ramGopalVerma=30    #camel case"
   ]
  },
  {
   "cell_type": "code",
   "execution_count": 18,
   "id": "b6442731-0a01-485a-9927-7f463600e018",
   "metadata": {},
   "outputs": [
    {
     "ename": "SyntaxError",
     "evalue": "cannot assign to expression here. Maybe you meant '==' instead of '='? (3189472223.py, line 1)",
     "output_type": "error",
     "traceback": [
      "\u001b[1;36m  Cell \u001b[1;32mIn[18], line 1\u001b[1;36m\u001b[0m\n\u001b[1;33m    ram@GopalVerma=20\u001b[0m\n\u001b[1;37m    ^\u001b[0m\n\u001b[1;31mSyntaxError\u001b[0m\u001b[1;31m:\u001b[0m cannot assign to expression here. Maybe you meant '==' instead of '='?\n"
     ]
    }
   ],
   "source": [
    "ram@GopalVerma=20"
   ]
  },
  {
   "cell_type": "code",
   "execution_count": null,
   "id": "078914ae-00eb-44e2-9633-9369b8d155a5",
   "metadata": {},
   "outputs": [],
   "source": []
  },
  {
   "cell_type": "code",
   "execution_count": null,
   "id": "9d7f006a-d89a-4d0a-92bc-96d192c321d4",
   "metadata": {},
   "outputs": [],
   "source": []
  }
 ],
 "metadata": {
  "kernelspec": {
   "display_name": "Python 3 (ipykernel)",
   "language": "python",
   "name": "python3"
  },
  "language_info": {
   "codemirror_mode": {
    "name": "ipython",
    "version": 3
   },
   "file_extension": ".py",
   "mimetype": "text/x-python",
   "name": "python",
   "nbconvert_exporter": "python",
   "pygments_lexer": "ipython3",
   "version": "3.11.5"
  }
 },
 "nbformat": 4,
 "nbformat_minor": 5
}
