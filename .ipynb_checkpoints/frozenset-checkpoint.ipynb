{
 "cells": [
  {
   "cell_type": "markdown",
   "id": "199e3000-15dc-455b-a9ae-f9562e60890d",
   "metadata": {},
   "source": [
    "frozenset:\n",
    "\n",
    "> frozenset constructor is frozenset()\n",
    "\n",
    "> frozenset literal is not available.\n",
    "\n",
    "> frozenset is an unordered set of sequence of elements.\n",
    "\n",
    "> frozenset doenot support indexing\n",
    "\n",
    "> frozenset doesnot support slicing\n",
    "\n",
    "> frozenset doesnot support duplicate values.\n",
    "\n",
    "> frozenset remove duplicacy using hashing table(on the basis of element id it remove duplicacy).\n",
    "\n",
    "> frozenset doesnot support concatination\n",
    "\n",
    "> frozenset support nested frozenset.\n",
    "\n",
    "> frozenset always allowed immutable datatype.\n",
    "    \n",
    "> frozenset is immutable(hashable)\n",
    "\n",
    "> frozenset methods."
   ]
  },
  {
   "cell_type": "code",
   "execution_count": 3,
   "id": "d81af762-a8fc-4f38-a8ff-0feadf3ab36d",
   "metadata": {},
   "outputs": [],
   "source": [
    "a=frozenset()"
   ]
  },
  {
   "cell_type": "code",
   "execution_count": 4,
   "id": "6853e7c2-b52f-4734-b220-e6438f2b3047",
   "metadata": {},
   "outputs": [
    {
     "name": "stdout",
     "output_type": "stream",
     "text": [
      "frozenset()\n"
     ]
    }
   ],
   "source": [
    "print(a)"
   ]
  },
  {
   "cell_type": "code",
   "execution_count": 5,
   "id": "620bfcab-4b4e-43d1-a8ea-e3906041e764",
   "metadata": {},
   "outputs": [],
   "source": [
    "a=frozenset({1,1,1,1,2,2,2,3,3,3,4,4,4,5,5,6})"
   ]
  },
  {
   "cell_type": "code",
   "execution_count": 6,
   "id": "43af2dc1-ea1f-428a-b2f3-3bdd2e12b398",
   "metadata": {},
   "outputs": [
    {
     "name": "stdout",
     "output_type": "stream",
     "text": [
      "frozenset({1, 2, 3, 4, 5, 6})\n"
     ]
    }
   ],
   "source": [
    "print(a)"
   ]
  },
  {
   "cell_type": "code",
   "execution_count": 7,
   "id": "cf6c9b38-decc-436b-beca-4ccd3f4f6dfb",
   "metadata": {},
   "outputs": [],
   "source": [
    "b=frozenset((1,2,2,2,2,2,3,3,3,4,4,4,5))"
   ]
  },
  {
   "cell_type": "code",
   "execution_count": 8,
   "id": "66310ea3-fd4a-44f7-8f41-29f7e2ce0728",
   "metadata": {},
   "outputs": [
    {
     "name": "stdout",
     "output_type": "stream",
     "text": [
      "frozenset({1, 2, 3, 4, 5})\n"
     ]
    }
   ],
   "source": [
    "print(b)"
   ]
  },
  {
   "cell_type": "code",
   "execution_count": 9,
   "id": "5cf86229-220f-40c1-aa43-85dc7cd518c7",
   "metadata": {},
   "outputs": [],
   "source": [
    "c=frozenset([1,2,3,3,33,3,3,4,4,5,65,67])"
   ]
  },
  {
   "cell_type": "code",
   "execution_count": 10,
   "id": "935d2a86-07a7-449b-9a9d-38d59efa7d01",
   "metadata": {},
   "outputs": [
    {
     "name": "stdout",
     "output_type": "stream",
     "text": [
      "frozenset({1, 2, 3, 4, 33, 5, 65, 67})\n"
     ]
    }
   ],
   "source": [
    "print(c)"
   ]
  },
  {
   "cell_type": "code",
   "execution_count": 11,
   "id": "275f2932-4eee-45a1-8694-7713d969b018",
   "metadata": {},
   "outputs": [],
   "source": [
    "a=frozenset({1,2,3,4,5})\n",
    "b=frozenset({4,5,6,7,8})\n",
    "c=frozenset({-1,10,5,4})"
   ]
  },
  {
   "cell_type": "code",
   "execution_count": 13,
   "id": "9f2ee2d0-fafc-438e-abb7-ede23585c733",
   "metadata": {},
   "outputs": [
    {
     "data": {
      "text/plain": [
       "frozenset({1, 2, 3})"
      ]
     },
     "execution_count": 13,
     "metadata": {},
     "output_type": "execute_result"
    }
   ],
   "source": [
    "a.difference(b,c)"
   ]
  },
  {
   "cell_type": "code",
   "execution_count": 14,
   "id": "cef5d0a6-a2eb-44cc-b8ff-7a2b8245af88",
   "metadata": {},
   "outputs": [
    {
     "data": {
      "text/plain": [
       "frozenset({4, 5})"
      ]
     },
     "execution_count": 14,
     "metadata": {},
     "output_type": "execute_result"
    }
   ],
   "source": [
    "a.intersection(b,c)"
   ]
  },
  {
   "cell_type": "code",
   "execution_count": 15,
   "id": "f4a46266-89df-41da-bd31-0d4d75e2e441",
   "metadata": {},
   "outputs": [
    {
     "data": {
      "text/plain": [
       "False"
      ]
     },
     "execution_count": 15,
     "metadata": {},
     "output_type": "execute_result"
    }
   ],
   "source": [
    "a.isdisjoint(b)"
   ]
  },
  {
   "cell_type": "code",
   "execution_count": 16,
   "id": "161d5508-06a1-4673-b454-0c6af29fa6a4",
   "metadata": {},
   "outputs": [
    {
     "data": {
      "text/plain": [
       "False"
      ]
     },
     "execution_count": 16,
     "metadata": {},
     "output_type": "execute_result"
    }
   ],
   "source": [
    "a.issubset(b)"
   ]
  },
  {
   "cell_type": "code",
   "execution_count": 17,
   "id": "2002aab1-a39f-4819-b1aa-b5b5a569d809",
   "metadata": {},
   "outputs": [
    {
     "data": {
      "text/plain": [
       "False"
      ]
     },
     "execution_count": 17,
     "metadata": {},
     "output_type": "execute_result"
    }
   ],
   "source": [
    "a.issuperset(b)"
   ]
  },
  {
   "cell_type": "code",
   "execution_count": 20,
   "id": "f0f67ff3-2de5-4cdb-a79c-aef0eef61368",
   "metadata": {},
   "outputs": [
    {
     "data": {
      "text/plain": [
       "frozenset({1, 2, 3, 6, 7, 8})"
      ]
     },
     "execution_count": 20,
     "metadata": {},
     "output_type": "execute_result"
    }
   ],
   "source": [
    "a.symmetric_difference(b)"
   ]
  },
  {
   "cell_type": "code",
   "execution_count": 21,
   "id": "d572423e-d474-494e-9470-69c9d0dbe37d",
   "metadata": {},
   "outputs": [
    {
     "data": {
      "text/plain": [
       "frozenset({1, 2, 3})"
      ]
     },
     "execution_count": 21,
     "metadata": {},
     "output_type": "execute_result"
    }
   ],
   "source": [
    "a-b"
   ]
  },
  {
   "cell_type": "code",
   "execution_count": null,
   "id": "9e53c1c3-1c6a-4eb0-89de-2989747869a8",
   "metadata": {},
   "outputs": [],
   "source": []
  }
 ],
 "metadata": {
  "kernelspec": {
   "display_name": "Python 3 (ipykernel)",
   "language": "python",
   "name": "python3"
  },
  "language_info": {
   "codemirror_mode": {
    "name": "ipython",
    "version": 3
   },
   "file_extension": ".py",
   "mimetype": "text/x-python",
   "name": "python",
   "nbconvert_exporter": "python",
   "pygments_lexer": "ipython3",
   "version": "3.11.5"
  }
 },
 "nbformat": 4,
 "nbformat_minor": 5
}
