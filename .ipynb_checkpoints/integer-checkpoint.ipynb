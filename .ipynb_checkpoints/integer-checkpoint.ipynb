{
 "cells": [
  {
   "cell_type": "markdown",
   "id": "be158574-5381-4338-8f5c-d7a832baee10",
   "metadata": {},
   "source": [
    "integer datatype:\n",
    "\n",
    "> integer constructor is int()\n",
    "\n",
    "> integer literal is 0\n",
    "\n",
    "> integer contain 0-9 to create a integer value.\n",
    "\n",
    "> integer base is 10.\n"
   ]
  },
  {
   "cell_type": "code",
   "execution_count": 1,
   "id": "5c279e10-11b4-41e8-9cfc-b7bf718c98f8",
   "metadata": {},
   "outputs": [],
   "source": [
    "a=10"
   ]
  },
  {
   "cell_type": "code",
   "execution_count": 2,
   "id": "3fa7dd99-20c9-4eb7-8e13-9fc073967ba5",
   "metadata": {},
   "outputs": [],
   "source": [
    "b=20"
   ]
  },
  {
   "cell_type": "code",
   "execution_count": 3,
   "id": "7568696f-eefa-45a4-a811-888e85a88851",
   "metadata": {},
   "outputs": [],
   "source": [
    "add=a+b"
   ]
  },
  {
   "cell_type": "code",
   "execution_count": 4,
   "id": "2376e1b2-1831-4f04-855f-79e90a7e4ff5",
   "metadata": {},
   "outputs": [
    {
     "name": "stdout",
     "output_type": "stream",
     "text": [
      "30\n"
     ]
    }
   ],
   "source": [
    "print(add)"
   ]
  },
  {
   "cell_type": "code",
   "execution_count": 6,
   "id": "15707014-9edf-43ce-b957-ca992af03e75",
   "metadata": {},
   "outputs": [
    {
     "name": "stdout",
     "output_type": "stream",
     "text": [
      "<class 'int'>\n"
     ]
    }
   ],
   "source": [
    "print(type(a))"
   ]
  },
  {
   "cell_type": "code",
   "execution_count": 7,
   "id": "da6c10eb-1d49-4e28-a6e0-573a72e1e890",
   "metadata": {},
   "outputs": [
    {
     "name": "stdout",
     "output_type": "stream",
     "text": [
      "0\n"
     ]
    }
   ],
   "source": [
    "a=int()\n",
    "print(a)"
   ]
  },
  {
   "cell_type": "code",
   "execution_count": 8,
   "id": "b2cbe669-1767-45d8-a2bb-9f51c1d61cd7",
   "metadata": {},
   "outputs": [
    {
     "name": "stdout",
     "output_type": "stream",
     "text": [
      "0\n"
     ]
    }
   ],
   "source": [
    "b=0\n",
    "print(b)"
   ]
  },
  {
   "cell_type": "code",
   "execution_count": 9,
   "id": "b3ac78b3-fe49-4bfc-b29c-3a4bf270ca69",
   "metadata": {},
   "outputs": [
    {
     "ename": "SyntaxError",
     "evalue": "leading zeros in decimal integer literals are not permitted; use an 0o prefix for octal integers (160492604.py, line 1)",
     "output_type": "error",
     "traceback": [
      "\u001b[1;36m  Cell \u001b[1;32mIn[9], line 1\u001b[1;36m\u001b[0m\n\u001b[1;33m    c=0167576\u001b[0m\n\u001b[1;37m      ^\u001b[0m\n\u001b[1;31mSyntaxError\u001b[0m\u001b[1;31m:\u001b[0m leading zeros in decimal integer literals are not permitted; use an 0o prefix for octal integers\n"
     ]
    }
   ],
   "source": [
    "c=0167576"
   ]
  },
  {
   "cell_type": "code",
   "execution_count": null,
   "id": "51b87125-7b53-40e0-8e29-929e969ad0a0",
   "metadata": {},
   "outputs": [],
   "source": []
  }
 ],
 "metadata": {
  "kernelspec": {
   "display_name": "Python 3 (ipykernel)",
   "language": "python",
   "name": "python3"
  },
  "language_info": {
   "codemirror_mode": {
    "name": "ipython",
    "version": 3
   },
   "file_extension": ".py",
   "mimetype": "text/x-python",
   "name": "python",
   "nbconvert_exporter": "python",
   "pygments_lexer": "ipython3",
   "version": "3.11.5"
  }
 },
 "nbformat": 4,
 "nbformat_minor": 5
}
