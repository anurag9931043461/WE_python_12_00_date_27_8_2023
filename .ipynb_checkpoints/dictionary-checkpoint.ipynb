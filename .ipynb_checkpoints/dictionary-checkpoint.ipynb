{
 "cells": [
  {
   "cell_type": "raw",
   "id": "4c81a5a3-4789-46e4-b811-c78f6c284422",
   "metadata": {},
   "source": [
    "# dictionary\n",
    "\n",
    "> dictionary constructor is dict()\n",
    "\n",
    "> dictionary literal is {}\n",
    "\n",
    "> dictionary is a ordered set of sequence of items(item is key and value pair).\n",
    "\n",
    "> dictinary key must be immutable datatype.\n",
    "\n",
    "> dictionary key never repeat in a dictinary.\n",
    "\n",
    "> dictionary does not support slicing \n",
    "\n",
    "> dictionary support nested dictionary\n",
    "\n",
    "> dictionary doesnot support concationtion.\n",
    "\n",
    "> dictionary is mutable(unhashable)\n",
    "\n",
    "> dictionary methods."
   ]
  },
  {
   "cell_type": "code",
   "execution_count": 4,
   "id": "7c4a3e1b-c233-4c8c-b981-a2778d553b10",
   "metadata": {},
   "outputs": [
    {
     "name": "stdout",
     "output_type": "stream",
     "text": [
      "{}\n",
      "<class 'dict'>\n"
     ]
    }
   ],
   "source": [
    "a=dict()\n",
    "print(a)\n",
    "print(type(a))"
   ]
  },
  {
   "cell_type": "code",
   "execution_count": 2,
   "id": "84cc2ccc-78e3-428f-990d-b674d168c5fe",
   "metadata": {},
   "outputs": [
    {
     "name": "stdout",
     "output_type": "stream",
     "text": [
      "{}\n"
     ]
    }
   ],
   "source": []
  },
  {
   "cell_type": "code",
   "execution_count": 5,
   "id": "57a9efd3-82c3-40fd-ae1b-6057d4366ce1",
   "metadata": {},
   "outputs": [
    {
     "name": "stdout",
     "output_type": "stream",
     "text": [
      "{}\n",
      "<class 'dict'>\n"
     ]
    }
   ],
   "source": [
    "b={}\n",
    "print(b)\n",
    "print(type(b))"
   ]
  },
  {
   "cell_type": "code",
   "execution_count": 7,
   "id": "d351dd8c-3b51-451f-830c-d7ea9bcf1255",
   "metadata": {},
   "outputs": [],
   "source": [
    "c={1:\"Avinash\",2:\"Ankit\",3:\"Anjan\",5:\"Akanksha\"}"
   ]
  },
  {
   "cell_type": "code",
   "execution_count": 8,
   "id": "4f67da35-1660-46be-b9e1-3b3311e89387",
   "metadata": {},
   "outputs": [
    {
     "name": "stdout",
     "output_type": "stream",
     "text": [
      "{1: 'Avinash', 2: 'Ankit', 3: 'Anjan', 5: 'Akanksha'}\n"
     ]
    }
   ],
   "source": [
    "print(c)"
   ]
  },
  {
   "cell_type": "code",
   "execution_count": 9,
   "id": "b00b29b4-c97f-4547-84c8-b75a1d442cb0",
   "metadata": {},
   "outputs": [
    {
     "data": {
      "text/plain": [
       "'Avinash'"
      ]
     },
     "execution_count": 9,
     "metadata": {},
     "output_type": "execute_result"
    }
   ],
   "source": [
    "c[1]"
   ]
  },
  {
   "cell_type": "code",
   "execution_count": 10,
   "id": "0a5836db-9f0b-4b02-ae80-5368eee0c2e1",
   "metadata": {},
   "outputs": [
    {
     "data": {
      "text/plain": [
       "'Anjan'"
      ]
     },
     "execution_count": 10,
     "metadata": {},
     "output_type": "execute_result"
    }
   ],
   "source": [
    "c[3]"
   ]
  },
  {
   "cell_type": "code",
   "execution_count": 11,
   "id": "cfdda0a5-53aa-45d8-8c74-67b2b32fe62b",
   "metadata": {},
   "outputs": [
    {
     "data": {
      "text/plain": [
       "'Akanksha'"
      ]
     },
     "execution_count": 11,
     "metadata": {},
     "output_type": "execute_result"
    }
   ],
   "source": [
    "c[5]"
   ]
  },
  {
   "cell_type": "code",
   "execution_count": 17,
   "id": "3209f4fe-1426-44e3-a87d-e52e4fdd8e5f",
   "metadata": {},
   "outputs": [],
   "source": [
    "d={1:\"Avinash\",2:\"Ankit\",3:\"Anjan\",5:\"Akanksha\",5:\"Ayush\"}"
   ]
  },
  {
   "cell_type": "code",
   "execution_count": 18,
   "id": "33c311d0-0d45-4b8a-9a9c-e64fa6ca1584",
   "metadata": {},
   "outputs": [
    {
     "name": "stdout",
     "output_type": "stream",
     "text": [
      "{1: 'Avinash', 2: 'Ankit', 3: 'Anjan', 5: 'Ayush'}\n"
     ]
    }
   ],
   "source": [
    "print(d)"
   ]
  },
  {
   "cell_type": "markdown",
   "id": "1042d4f9-f543-4d57-95da-fe0ae059caf1",
   "metadata": {},
   "source": [
    "# key of dictionary: immutable datatype only(int, float, str,tuple,frozenset(),complex,bool())"
   ]
  },
  {
   "cell_type": "code",
   "execution_count": 25,
   "id": "2f16ac94-cd7a-4ec0-976e-12275818edf5",
   "metadata": {},
   "outputs": [],
   "source": [
    "d={1:\"rice\",500.50:\"kishmish\",\"tootpaste\":1,(\"black\",\"yellow\"):\"Pulses\",frozenset({1}):\"Salt\",\n",
    "  10j:\"wheat\"}"
   ]
  },
  {
   "cell_type": "code",
   "execution_count": 26,
   "id": "cd941e2e-a0e7-4ffa-93e0-96f260ff5df2",
   "metadata": {},
   "outputs": [
    {
     "data": {
      "text/plain": [
       "dict_keys([1, 500.5, 'tootpaste', ('black', 'yellow'), frozenset({1}), 10j])"
      ]
     },
     "execution_count": 26,
     "metadata": {},
     "output_type": "execute_result"
    }
   ],
   "source": [
    "d.keys()"
   ]
  },
  {
   "cell_type": "code",
   "execution_count": 27,
   "id": "095aee4a-310d-4a07-8d19-55e64755ca4c",
   "metadata": {},
   "outputs": [
    {
     "data": {
      "text/plain": [
       "dict_values(['rice', 'kishmish', 1, 'Pulses', 'Salt', 'wheat'])"
      ]
     },
     "execution_count": 27,
     "metadata": {},
     "output_type": "execute_result"
    }
   ],
   "source": [
    "d.values()"
   ]
  },
  {
   "cell_type": "code",
   "execution_count": 28,
   "id": "f17550e2-df12-456f-b5ac-e89d0a6e0c7e",
   "metadata": {},
   "outputs": [],
   "source": [
    "e={1:10,2:10.99,3:\"krishna\",4:[1,3,4],5: (1,2,3),6:frozenset({1,2,3}),7:{1,2,3},8:{1:\"krishna\",2:\"Babu Mosai\"},9:True,10:10j}"
   ]
  },
  {
   "cell_type": "code",
   "execution_count": 30,
   "id": "e6f7cf0f-e7d1-442b-bb41-0aeca7783426",
   "metadata": {},
   "outputs": [
    {
     "data": {
      "text/plain": [
       "{1: 10,\n",
       " 2: 10.99,\n",
       " 3: 'krishna',\n",
       " 4: [1, 3, 4],\n",
       " 5: (1, 2, 3),\n",
       " 6: frozenset({1, 2, 3}),\n",
       " 7: {1, 2, 3},\n",
       " 8: {1: 'krishna', 2: 'Babu Mosai'},\n",
       " 9: True,\n",
       " 10: 10j}"
      ]
     },
     "execution_count": 30,
     "metadata": {},
     "output_type": "execute_result"
    }
   ],
   "source": [
    "e"
   ]
  },
  {
   "cell_type": "code",
   "execution_count": 31,
   "id": "443d9b72-880c-4f0a-bf18-d2fc0ebcfeb7",
   "metadata": {},
   "outputs": [
    {
     "ename": "TypeError",
     "evalue": "unsupported operand type(s) for +: 'dict' and 'dict'",
     "output_type": "error",
     "traceback": [
      "\u001b[1;31m---------------------------------------------------------------------------\u001b[0m",
      "\u001b[1;31mTypeError\u001b[0m                                 Traceback (most recent call last)",
      "Cell \u001b[1;32mIn[31], line 1\u001b[0m\n\u001b[1;32m----> 1\u001b[0m \u001b[43md\u001b[49m\u001b[38;5;241;43m+\u001b[39;49m\u001b[43me\u001b[49m\n",
      "\u001b[1;31mTypeError\u001b[0m: unsupported operand type(s) for +: 'dict' and 'dict'"
     ]
    }
   ],
   "source": [
    "d+e"
   ]
  },
  {
   "cell_type": "code",
   "execution_count": 32,
   "id": "a597a020-6d85-4c23-82f4-f8d00b9c8918",
   "metadata": {},
   "outputs": [
    {
     "ename": "TypeError",
     "evalue": "unhashable type: 'list'",
     "output_type": "error",
     "traceback": [
      "\u001b[1;31m---------------------------------------------------------------------------\u001b[0m",
      "\u001b[1;31mTypeError\u001b[0m                                 Traceback (most recent call last)",
      "Cell \u001b[1;32mIn[32], line 1\u001b[0m\n\u001b[1;32m----> 1\u001b[0m a\u001b[38;5;241m=\u001b[39m{[\u001b[38;5;241m1\u001b[39m,\u001b[38;5;241m2\u001b[39m,\u001b[38;5;241m3\u001b[39m]}\n",
      "\u001b[1;31mTypeError\u001b[0m: unhashable type: 'list'"
     ]
    }
   ],
   "source": [
    "a={[1,2,3]}"
   ]
  },
  {
   "cell_type": "code",
   "execution_count": 33,
   "id": "c6a2dc1f-2fc1-48fa-a021-53c20e037426",
   "metadata": {},
   "outputs": [
    {
     "ename": "TypeError",
     "evalue": "unhashable type: 'list'",
     "output_type": "error",
     "traceback": [
      "\u001b[1;31m---------------------------------------------------------------------------\u001b[0m",
      "\u001b[1;31mTypeError\u001b[0m                                 Traceback (most recent call last)",
      "Cell \u001b[1;32mIn[33], line 1\u001b[0m\n\u001b[1;32m----> 1\u001b[0m d\u001b[38;5;241m=\u001b[39m{[\u001b[38;5;241m1\u001b[39m,\u001b[38;5;241m2\u001b[39m,\u001b[38;5;241m3\u001b[39m]:\u001b[38;5;124m\"\u001b[39m\u001b[38;5;124mkrishna\u001b[39m\u001b[38;5;124m\"\u001b[39m}\n",
      "\u001b[1;31mTypeError\u001b[0m: unhashable type: 'list'"
     ]
    }
   ],
   "source": [
    "d={[1,2,3]:\"krishna\"}"
   ]
  },
  {
   "cell_type": "markdown",
   "id": "f53c8a8a-024d-4434-b9fa-5671e6755966",
   "metadata": {},
   "source": [
    "# dictionary methods."
   ]
  },
  {
   "cell_type": "code",
   "execution_count": 35,
   "id": "6db06cdc-8f47-4d5a-a818-5864aa148d3b",
   "metadata": {},
   "outputs": [],
   "source": [
    "a={}"
   ]
  },
  {
   "cell_type": "code",
   "execution_count": 36,
   "id": "5f521b1e-3a1b-4c8b-aa31-85bed3df56d0",
   "metadata": {},
   "outputs": [],
   "source": [
    "a[1]=\"krishna\""
   ]
  },
  {
   "cell_type": "code",
   "execution_count": 37,
   "id": "ffcbcb42-e48e-4215-a769-77936262044d",
   "metadata": {},
   "outputs": [
    {
     "name": "stdout",
     "output_type": "stream",
     "text": [
      "{1: 'krishna'}\n"
     ]
    }
   ],
   "source": [
    "print(a)"
   ]
  },
  {
   "cell_type": "code",
   "execution_count": 39,
   "id": "fdf3feff-df7f-47f6-aa5b-d943a259130d",
   "metadata": {},
   "outputs": [],
   "source": [
    "a[2]=\"Mohan\""
   ]
  },
  {
   "cell_type": "code",
   "execution_count": 40,
   "id": "d4424ad7-7ba7-42c8-a679-94d40e006964",
   "metadata": {},
   "outputs": [
    {
     "name": "stdout",
     "output_type": "stream",
     "text": [
      "{1: 'krishna', 2: 'Mohan'}\n"
     ]
    }
   ],
   "source": [
    "print(a)"
   ]
  },
  {
   "cell_type": "code",
   "execution_count": 41,
   "id": "1c3b2afc-fc8c-405f-a5e8-4a6629fcfa0a",
   "metadata": {},
   "outputs": [],
   "source": [
    "a[2]=\"Navab\""
   ]
  },
  {
   "cell_type": "code",
   "execution_count": 42,
   "id": "9a4777a5-3ac5-4f68-bcae-04ee856799d6",
   "metadata": {},
   "outputs": [
    {
     "name": "stdout",
     "output_type": "stream",
     "text": [
      "{1: 'krishna', 2: 'Navab'}\n"
     ]
    }
   ],
   "source": [
    "print(a)"
   ]
  },
  {
   "cell_type": "code",
   "execution_count": 43,
   "id": "09a15f89-50ee-420c-a562-29bccf0a53eb",
   "metadata": {},
   "outputs": [],
   "source": [
    "a.update({1:\"Ramu\"})"
   ]
  },
  {
   "cell_type": "code",
   "execution_count": 44,
   "id": "d5978f82-7bb3-4d13-b33b-0b2d0e671666",
   "metadata": {},
   "outputs": [
    {
     "name": "stdout",
     "output_type": "stream",
     "text": [
      "{1: 'Ramu', 2: 'Navab'}\n"
     ]
    }
   ],
   "source": [
    "print(a)"
   ]
  },
  {
   "cell_type": "code",
   "execution_count": 45,
   "id": "895db56c-27f2-44a7-9146-a4d92959435e",
   "metadata": {},
   "outputs": [],
   "source": [
    "a.update({1:10,2:10.99,3:\"krishna\",4:[1,3,4],5: (1,2,3),6:frozenset({1,2,3})})"
   ]
  },
  {
   "cell_type": "code",
   "execution_count": 46,
   "id": "f926587c-e0e9-4194-a9fa-1c4f3586b8ab",
   "metadata": {},
   "outputs": [
    {
     "name": "stdout",
     "output_type": "stream",
     "text": [
      "{1: 10, 2: 10.99, 3: 'krishna', 4: [1, 3, 4], 5: (1, 2, 3), 6: frozenset({1, 2, 3})}\n"
     ]
    }
   ],
   "source": [
    "print(a)"
   ]
  },
  {
   "cell_type": "code",
   "execution_count": 47,
   "id": "ca3d0d30-f239-4192-93c1-8cb6d3b23884",
   "metadata": {},
   "outputs": [],
   "source": [
    "d={1:\"Avinash\",2:\"Ankit\",3:\"Anjan\",5:\"Akanksha\",5:\"Ayush\"}"
   ]
  },
  {
   "cell_type": "code",
   "execution_count": 48,
   "id": "da6eee78-d20d-449d-91d7-7da3eb209da6",
   "metadata": {},
   "outputs": [
    {
     "data": {
      "text/plain": [
       "dict_keys([1, 2, 3, 5])"
      ]
     },
     "execution_count": 48,
     "metadata": {},
     "output_type": "execute_result"
    }
   ],
   "source": [
    "d.keys()"
   ]
  },
  {
   "cell_type": "code",
   "execution_count": 49,
   "id": "e2787d31-e135-4ef3-9d79-80999098df6c",
   "metadata": {},
   "outputs": [
    {
     "data": {
      "text/plain": [
       "dict_values(['Avinash', 'Ankit', 'Anjan', 'Ayush'])"
      ]
     },
     "execution_count": 49,
     "metadata": {},
     "output_type": "execute_result"
    }
   ],
   "source": [
    "d.values()"
   ]
  },
  {
   "cell_type": "code",
   "execution_count": 50,
   "id": "ea617397-dd31-4cb9-8cb8-733487c8fb55",
   "metadata": {},
   "outputs": [
    {
     "data": {
      "text/plain": [
       "'Ankit'"
      ]
     },
     "execution_count": 50,
     "metadata": {},
     "output_type": "execute_result"
    }
   ],
   "source": [
    "d[2]"
   ]
  },
  {
   "cell_type": "code",
   "execution_count": 51,
   "id": "d0441617-0c84-48e4-9096-2febbc5364a2",
   "metadata": {},
   "outputs": [
    {
     "data": {
      "text/plain": [
       "'Ankit'"
      ]
     },
     "execution_count": 51,
     "metadata": {},
     "output_type": "execute_result"
    }
   ],
   "source": [
    "d.get(2)"
   ]
  },
  {
   "cell_type": "code",
   "execution_count": 52,
   "id": "b64fa3a8-73cb-4a0a-8694-8143e43b54f9",
   "metadata": {},
   "outputs": [
    {
     "data": {
      "text/plain": [
       "{1: 'Avinash', 2: 'Ankit', 3: 'Anjan', 5: 'Ayush'}"
      ]
     },
     "execution_count": 52,
     "metadata": {},
     "output_type": "execute_result"
    }
   ],
   "source": [
    "d"
   ]
  },
  {
   "cell_type": "code",
   "execution_count": 53,
   "id": "c6ad3532-4bf1-499c-8174-6f0c2893d651",
   "metadata": {},
   "outputs": [
    {
     "ename": "KeyError",
     "evalue": "4",
     "output_type": "error",
     "traceback": [
      "\u001b[1;31m---------------------------------------------------------------------------\u001b[0m",
      "\u001b[1;31mKeyError\u001b[0m                                  Traceback (most recent call last)",
      "Cell \u001b[1;32mIn[53], line 1\u001b[0m\n\u001b[1;32m----> 1\u001b[0m \u001b[43md\u001b[49m\u001b[43m[\u001b[49m\u001b[38;5;241;43m4\u001b[39;49m\u001b[43m]\u001b[49m\n",
      "\u001b[1;31mKeyError\u001b[0m: 4"
     ]
    }
   ],
   "source": [
    "d[4]"
   ]
  },
  {
   "cell_type": "code",
   "execution_count": 54,
   "id": "6bd93418-8c4b-47c8-8b7f-2e04fd2e5778",
   "metadata": {},
   "outputs": [
    {
     "data": {
      "text/plain": [
       "'Ankit'"
      ]
     },
     "execution_count": 54,
     "metadata": {},
     "output_type": "execute_result"
    }
   ],
   "source": [
    "d.get(2)"
   ]
  },
  {
   "cell_type": "code",
   "execution_count": 55,
   "id": "61992e28-11a3-48c0-8572-66f1a53782ea",
   "metadata": {},
   "outputs": [],
   "source": [
    "d.get(4)"
   ]
  },
  {
   "cell_type": "code",
   "execution_count": 56,
   "id": "59bd9268-0e67-4687-94d0-c4fb57e38734",
   "metadata": {},
   "outputs": [
    {
     "data": {
      "text/plain": [
       "'go to hell'"
      ]
     },
     "execution_count": 56,
     "metadata": {},
     "output_type": "execute_result"
    }
   ],
   "source": [
    "d.get(4,\"go to hell\")"
   ]
  },
  {
   "cell_type": "code",
   "execution_count": 57,
   "id": "5cd105e8-e1d7-472f-a8b8-2bab8c30ed45",
   "metadata": {},
   "outputs": [
    {
     "data": {
      "text/plain": [
       "'item is not available'"
      ]
     },
     "execution_count": 57,
     "metadata": {},
     "output_type": "execute_result"
    }
   ],
   "source": [
    "d.get(4,\"item is not available\")"
   ]
  },
  {
   "cell_type": "code",
   "execution_count": 58,
   "id": "0a1cac1e-b18b-44ab-9d4d-740f0932d1fe",
   "metadata": {},
   "outputs": [
    {
     "data": {
      "text/plain": [
       "'Ankit'"
      ]
     },
     "execution_count": 58,
     "metadata": {},
     "output_type": "execute_result"
    }
   ],
   "source": [
    "d.get(2,\"item is not available\")"
   ]
  },
  {
   "cell_type": "code",
   "execution_count": 59,
   "id": "f7ba3a8e-11ec-4247-9b67-a5ee85689080",
   "metadata": {},
   "outputs": [
    {
     "data": {
      "text/plain": [
       "dict_items([(1, 'Avinash'), (2, 'Ankit'), (3, 'Anjan'), (5, 'Ayush')])"
      ]
     },
     "execution_count": 59,
     "metadata": {},
     "output_type": "execute_result"
    }
   ],
   "source": [
    "d.items()"
   ]
  },
  {
   "cell_type": "code",
   "execution_count": 61,
   "id": "e3b8722c-7bcb-455c-b27e-e6ebe7d0ec00",
   "metadata": {},
   "outputs": [
    {
     "data": {
      "text/plain": [
       "'Ayush'"
      ]
     },
     "execution_count": 61,
     "metadata": {},
     "output_type": "execute_result"
    }
   ],
   "source": [
    "d.pop(5)"
   ]
  },
  {
   "cell_type": "code",
   "execution_count": 62,
   "id": "b548fcfd-d6d1-40ca-8135-323844ae792e",
   "metadata": {},
   "outputs": [
    {
     "name": "stdout",
     "output_type": "stream",
     "text": [
      "{1: 'Avinash', 2: 'Ankit', 3: 'Anjan'}\n"
     ]
    }
   ],
   "source": [
    "print(d)"
   ]
  },
  {
   "cell_type": "code",
   "execution_count": 63,
   "id": "7b53af56-1303-41ee-96c6-f8394b15edbc",
   "metadata": {},
   "outputs": [
    {
     "data": {
      "text/plain": [
       "(3, 'Anjan')"
      ]
     },
     "execution_count": 63,
     "metadata": {},
     "output_type": "execute_result"
    }
   ],
   "source": [
    "d.popitem()"
   ]
  },
  {
   "cell_type": "code",
   "execution_count": 64,
   "id": "8d83f4eb-c208-4abf-a7b8-cfbfecc52111",
   "metadata": {},
   "outputs": [
    {
     "name": "stdout",
     "output_type": "stream",
     "text": [
      "{1: 'Avinash', 2: 'Ankit'}\n"
     ]
    }
   ],
   "source": [
    "print(d)"
   ]
  },
  {
   "cell_type": "code",
   "execution_count": 65,
   "id": "3a3e381c-3353-47ea-a047-497e3815e678",
   "metadata": {},
   "outputs": [],
   "source": [
    "d.clear()"
   ]
  },
  {
   "cell_type": "code",
   "execution_count": 66,
   "id": "0a3d0595-3ef5-4348-a703-8d60b4da60fb",
   "metadata": {},
   "outputs": [
    {
     "name": "stdout",
     "output_type": "stream",
     "text": [
      "{}\n"
     ]
    }
   ],
   "source": [
    "print(d)"
   ]
  },
  {
   "cell_type": "code",
   "execution_count": 67,
   "id": "1624620b-9d73-4e00-819c-acbf5443e7c0",
   "metadata": {},
   "outputs": [],
   "source": [
    "d={1:\"Avinash\",2:\"Ankit\",3:\"Anjan\",4:\"Nalayak(krishna)\",5:\"Akanksha\"}"
   ]
  },
  {
   "cell_type": "code",
   "execution_count": 68,
   "id": "32511272-6036-471a-b081-05ae37b6e11f",
   "metadata": {},
   "outputs": [
    {
     "name": "stdout",
     "output_type": "stream",
     "text": [
      "2251169486848\n"
     ]
    }
   ],
   "source": [
    "print(id(d))"
   ]
  },
  {
   "cell_type": "code",
   "execution_count": 69,
   "id": "a94db258-bc32-4414-a065-c91df2f2baea",
   "metadata": {},
   "outputs": [],
   "source": [
    "e=d.copy()"
   ]
  },
  {
   "cell_type": "code",
   "execution_count": 70,
   "id": "56ed9dd3-9f03-4c45-9512-94667f550b5a",
   "metadata": {},
   "outputs": [
    {
     "name": "stdout",
     "output_type": "stream",
     "text": [
      "{1: 'Avinash', 2: 'Ankit', 3: 'Anjan', 4: 'Nalayak(krishna)', 5: 'Akanksha'}\n"
     ]
    }
   ],
   "source": [
    "print(e)"
   ]
  },
  {
   "cell_type": "code",
   "execution_count": 71,
   "id": "b8eb0250-19d6-42bb-963a-b717419f47f7",
   "metadata": {},
   "outputs": [
    {
     "data": {
      "text/plain": [
       "2251169504064"
      ]
     },
     "execution_count": 71,
     "metadata": {},
     "output_type": "execute_result"
    }
   ],
   "source": [
    "id(e)"
   ]
  },
  {
   "cell_type": "code",
   "execution_count": 72,
   "id": "16efec60-23e1-419d-8fcb-e33ab2d4f73e",
   "metadata": {},
   "outputs": [],
   "source": [
    "f={}"
   ]
  },
  {
   "cell_type": "code",
   "execution_count": 77,
   "id": "1d6dc39d-7a24-4a0d-a3a8-64cbc261749f",
   "metadata": {},
   "outputs": [],
   "source": [
    "g=f.fromkeys([1,2,3,4,5,6,7,8,9,10],\"available\")"
   ]
  },
  {
   "cell_type": "code",
   "execution_count": 78,
   "id": "85362397-8bcc-4013-9aa3-4d99347671a3",
   "metadata": {},
   "outputs": [
    {
     "data": {
      "text/plain": [
       "{1: 'available',\n",
       " 2: 'available',\n",
       " 3: 'available',\n",
       " 4: 'available',\n",
       " 5: 'available',\n",
       " 6: 'available',\n",
       " 7: 'available',\n",
       " 8: 'available',\n",
       " 9: 'available',\n",
       " 10: 'available'}"
      ]
     },
     "execution_count": 78,
     "metadata": {},
     "output_type": "execute_result"
    }
   ],
   "source": [
    "g"
   ]
  },
  {
   "cell_type": "code",
   "execution_count": 79,
   "id": "86e3be21-3bf4-484a-a15d-17505c762995",
   "metadata": {},
   "outputs": [],
   "source": [
    "g[4]=\"Krishna\""
   ]
  },
  {
   "cell_type": "code",
   "execution_count": 80,
   "id": "f959a62a-db2b-49e5-850e-a8814164aee5",
   "metadata": {},
   "outputs": [
    {
     "data": {
      "text/plain": [
       "{1: 'available',\n",
       " 2: 'available',\n",
       " 3: 'available',\n",
       " 4: 'Krishna',\n",
       " 5: 'available',\n",
       " 6: 'available',\n",
       " 7: 'available',\n",
       " 8: 'available',\n",
       " 9: 'available',\n",
       " 10: 'available'}"
      ]
     },
     "execution_count": 80,
     "metadata": {},
     "output_type": "execute_result"
    }
   ],
   "source": [
    "g"
   ]
  },
  {
   "cell_type": "code",
   "execution_count": 81,
   "id": "3d9c05fe-28a2-413f-9387-c06f42494aa2",
   "metadata": {},
   "outputs": [
    {
     "data": {
      "text/plain": [
       "'NA'"
      ]
     },
     "execution_count": 81,
     "metadata": {},
     "output_type": "execute_result"
    }
   ],
   "source": [
    "g.setdefault(11,\"NA\")"
   ]
  },
  {
   "cell_type": "code",
   "execution_count": 82,
   "id": "eb9622f6-c4dd-45f1-b153-c4bb38ace389",
   "metadata": {},
   "outputs": [
    {
     "name": "stdout",
     "output_type": "stream",
     "text": [
      "{1: 'available', 2: 'available', 3: 'available', 4: 'Krishna', 5: 'available', 6: 'available', 7: 'available', 8: 'available', 9: 'available', 10: 'available', 11: 'NA'}\n"
     ]
    }
   ],
   "source": [
    "print(g)"
   ]
  },
  {
   "cell_type": "code",
   "execution_count": 83,
   "id": "68b89ce8-4948-48ca-9261-634e5c74d52b",
   "metadata": {},
   "outputs": [],
   "source": [
    "g[12]=\"NA\""
   ]
  },
  {
   "cell_type": "code",
   "execution_count": 84,
   "id": "272b7a80-ea3d-49ac-b7f9-fdc4b49ceada",
   "metadata": {},
   "outputs": [
    {
     "data": {
      "text/plain": [
       "{1: 'available',\n",
       " 2: 'available',\n",
       " 3: 'available',\n",
       " 4: 'Krishna',\n",
       " 5: 'available',\n",
       " 6: 'available',\n",
       " 7: 'available',\n",
       " 8: 'available',\n",
       " 9: 'available',\n",
       " 10: 'available',\n",
       " 11: 'NA',\n",
       " 12: 'NA'}"
      ]
     },
     "execution_count": 84,
     "metadata": {},
     "output_type": "execute_result"
    }
   ],
   "source": [
    "g"
   ]
  },
  {
   "cell_type": "code",
   "execution_count": null,
   "id": "6de28331-5738-4d38-b083-7807c21d463a",
   "metadata": {},
   "outputs": [],
   "source": []
  }
 ],
 "metadata": {
  "kernelspec": {
   "display_name": "Python 3 (ipykernel)",
   "language": "python",
   "name": "python3"
  },
  "language_info": {
   "codemirror_mode": {
    "name": "ipython",
    "version": 3
   },
   "file_extension": ".py",
   "mimetype": "text/x-python",
   "name": "python",
   "nbconvert_exporter": "python",
   "pygments_lexer": "ipython3",
   "version": "3.11.5"
  }
 },
 "nbformat": 4,
 "nbformat_minor": 5
}
