{
 "cells": [
  {
   "cell_type": "raw",
   "id": "d71aedfe-45c0-45e7-abf2-b6c89c3b04a5",
   "metadata": {},
   "source": [
    "comment\n",
    "variable\n",
    "datatype:\n",
    "    int \n",
    "    float\n",
    "    string\n",
    "    list"
   ]
  },
  {
   "cell_type": "code",
   "execution_count": 9,
   "id": "00912498-15bb-4a15-9e4b-9d12732fd61f",
   "metadata": {},
   "outputs": [
    {
     "name": "stdout",
     "output_type": "stream",
     "text": [
      "hello world\n"
     ]
    }
   ],
   "source": [
    "print(\"hello world\")    #print() is use to print on the screen \n",
    "#dkfksjflkjdslkfjsdkfjlskd"
   ]
  },
  {
   "cell_type": "code",
   "execution_count": 3,
   "id": "927789ea-eb05-4efb-833f-bcf979986540",
   "metadata": {},
   "outputs": [
    {
     "name": "stdout",
     "output_type": "stream",
     "text": [
      "hello world\n",
      "hello world\n",
      "hello world\n",
      "hello world\n"
     ]
    }
   ],
   "source": [
    "print(\"hello world\")\n",
    "print(\"hello world\")\n",
    "print(\"hello world\")\n",
    "print(\"hello world\")"
   ]
  },
  {
   "cell_type": "code",
   "execution_count": 10,
   "id": "61811594-9fdf-401c-98e0-ee546fc890b9",
   "metadata": {},
   "outputs": [
    {
     "name": "stdout",
     "output_type": "stream",
     "text": [
      "30\n"
     ]
    }
   ],
   "source": [
    "a=10\n",
    "b=20\n",
    "print(a+b)"
   ]
  },
  {
   "cell_type": "raw",
   "id": "f589b1e5-1d89-41b5-b923-c92f88f9e33d",
   "metadata": {},
   "source": [
    "rule 1: variable name never start with a number \n",
    "rule2 : variable name never contain special character except _\n",
    "rule 3: variable must be readable"
   ]
  },
  {
   "cell_type": "code",
   "execution_count": 11,
   "id": "50d5c5b7-e7b5-422b-ae9b-7266d7bdb66f",
   "metadata": {},
   "outputs": [
    {
     "ename": "SyntaxError",
     "evalue": "invalid decimal literal (2223745171.py, line 1)",
     "output_type": "error",
     "traceback": [
      "\u001b[1;36m  Cell \u001b[1;32mIn[11], line 1\u001b[1;36m\u001b[0m\n\u001b[1;33m    1krishna=10\u001b[0m\n\u001b[1;37m    ^\u001b[0m\n\u001b[1;31mSyntaxError\u001b[0m\u001b[1;31m:\u001b[0m invalid decimal literal\n"
     ]
    }
   ],
   "source": [
    "1krishna=10"
   ]
  },
  {
   "cell_type": "code",
   "execution_count": 12,
   "id": "69a9035f-8f50-4084-b836-9c9c5c854ef3",
   "metadata": {},
   "outputs": [],
   "source": [
    "krishna1=10"
   ]
  },
  {
   "cell_type": "code",
   "execution_count": 14,
   "id": "616e59da-1599-4f5b-b426-796f103caf2f",
   "metadata": {},
   "outputs": [
    {
     "name": "stdout",
     "output_type": "stream",
     "text": [
      "krishna1\n"
     ]
    }
   ],
   "source": [
    "\n",
    "print(\"krishna1\")"
   ]
  },
  {
   "cell_type": "code",
   "execution_count": 15,
   "id": "cbddfd8e-3e75-4aa8-b030-c33ee6cd9675",
   "metadata": {},
   "outputs": [],
   "source": [
    "krishn1a=10"
   ]
  },
  {
   "cell_type": "code",
   "execution_count": 16,
   "id": "d22124e6-0965-4404-bb55-48711acc5322",
   "metadata": {},
   "outputs": [],
   "source": [
    "Krishn1a=20"
   ]
  },
  {
   "cell_type": "code",
   "execution_count": 17,
   "id": "6a8f6ed6-c42b-416f-9287-8626393b5b64",
   "metadata": {},
   "outputs": [],
   "source": [
    "krishna_kumar=10"
   ]
  },
  {
   "cell_type": "code",
   "execution_count": 21,
   "id": "c50cb959-6a7d-4885-98a4-dd924ff8a323",
   "metadata": {},
   "outputs": [
    {
     "ename": "SyntaxError",
     "evalue": "invalid syntax (1954862651.py, line 1)",
     "output_type": "error",
     "traceback": [
      "\u001b[1;36m  Cell \u001b[1;32mIn[21], line 1\u001b[1;36m\u001b[0m\n\u001b[1;33m    krishna%$=10\u001b[0m\n\u001b[1;37m            ^\u001b[0m\n\u001b[1;31mSyntaxError\u001b[0m\u001b[1;31m:\u001b[0m invalid syntax\n"
     ]
    }
   ],
   "source": [
    "krishna%$=10"
   ]
  },
  {
   "cell_type": "code",
   "execution_count": 22,
   "id": "189b2217-88a2-426c-b8ec-5cf04d69b6ca",
   "metadata": {},
   "outputs": [],
   "source": [
    "jhsdflijhsadjfhsdij=10"
   ]
  },
  {
   "cell_type": "code",
   "execution_count": 23,
   "id": "5fe8752e-2704-4ce0-85d3-ff69bb59604c",
   "metadata": {},
   "outputs": [],
   "source": [
    "a=int()  # constructor of integer datatype"
   ]
  },
  {
   "cell_type": "code",
   "execution_count": 24,
   "id": "8ed47b91-9e3b-4da8-9505-3e3c7ac65cf9",
   "metadata": {},
   "outputs": [
    {
     "name": "stdout",
     "output_type": "stream",
     "text": [
      "0\n"
     ]
    }
   ],
   "source": [
    "print(a)"
   ]
  },
  {
   "cell_type": "code",
   "execution_count": 25,
   "id": "265df0f4-3d34-4d60-afbf-dbead4fd341e",
   "metadata": {},
   "outputs": [],
   "source": [
    "b=0"
   ]
  },
  {
   "cell_type": "code",
   "execution_count": 26,
   "id": "aa997962-884f-401d-b02d-02a93e04782b",
   "metadata": {},
   "outputs": [
    {
     "name": "stdout",
     "output_type": "stream",
     "text": [
      "0\n"
     ]
    }
   ],
   "source": [
    "print(b)"
   ]
  },
  {
   "cell_type": "code",
   "execution_count": 30,
   "id": "d0e39af3-7c50-45fb-845e-29aab1e1f9ec",
   "metadata": {},
   "outputs": [
    {
     "ename": "SyntaxError",
     "evalue": "leading zeros in decimal integer literals are not permitted; use an 0o prefix for octal integers (3647707755.py, line 1)",
     "output_type": "error",
     "traceback": [
      "\u001b[1;36m  Cell \u001b[1;32mIn[30], line 1\u001b[1;36m\u001b[0m\n\u001b[1;33m    a=014234234345320000000000\u001b[0m\n\u001b[1;37m      ^\u001b[0m\n\u001b[1;31mSyntaxError\u001b[0m\u001b[1;31m:\u001b[0m leading zeros in decimal integer literals are not permitted; use an 0o prefix for octal integers\n"
     ]
    }
   ],
   "source": [
    "a=014234234345320000000000"
   ]
  },
  {
   "cell_type": "code",
   "execution_count": 31,
   "id": "37b75e9e-b98f-4260-ad2c-55ff19550a02",
   "metadata": {},
   "outputs": [],
   "source": [
    "# float"
   ]
  },
  {
   "cell_type": "code",
   "execution_count": 32,
   "id": "ae65c076-237b-4444-bade-c1602f9a4196",
   "metadata": {},
   "outputs": [],
   "source": [
    "a=float()   # constructor of float datatype"
   ]
  },
  {
   "cell_type": "code",
   "execution_count": 33,
   "id": "08b500f4-0803-43ad-9596-118cccd276ef",
   "metadata": {},
   "outputs": [
    {
     "name": "stdout",
     "output_type": "stream",
     "text": [
      "0.0\n"
     ]
    }
   ],
   "source": [
    "print(a)"
   ]
  },
  {
   "cell_type": "code",
   "execution_count": 34,
   "id": "6784ac1f-8bf8-4fe1-81e9-466912965f13",
   "metadata": {},
   "outputs": [],
   "source": [
    "b=0.0"
   ]
  },
  {
   "cell_type": "code",
   "execution_count": 36,
   "id": "c463741d-b6c8-4477-8cf5-ae54f29275b1",
   "metadata": {},
   "outputs": [
    {
     "name": "stdout",
     "output_type": "stream",
     "text": [
      "0.0\n"
     ]
    }
   ],
   "source": [
    "print(b)"
   ]
  },
  {
   "cell_type": "code",
   "execution_count": 37,
   "id": "7f45175f-83f7-48f1-ad83-42f7e14b7738",
   "metadata": {},
   "outputs": [],
   "source": [
    "c=2e10"
   ]
  },
  {
   "cell_type": "code",
   "execution_count": 39,
   "id": "c4cd42ad-7f21-48ee-89aa-ed89b6dc1637",
   "metadata": {},
   "outputs": [
    {
     "data": {
      "text/plain": [
       "20000000000.0"
      ]
     },
     "execution_count": 39,
     "metadata": {},
     "output_type": "execute_result"
    }
   ],
   "source": [
    "2*10.0**10"
   ]
  },
  {
   "cell_type": "code",
   "execution_count": 38,
   "id": "210bd591-dc06-48ee-888e-d77fc2298175",
   "metadata": {},
   "outputs": [
    {
     "name": "stdout",
     "output_type": "stream",
     "text": [
      "20000000000.0\n"
     ]
    }
   ],
   "source": [
    "print(c)"
   ]
  },
  {
   "cell_type": "code",
   "execution_count": null,
   "id": "5eee9405-3620-4df3-ba34-90d18f926626",
   "metadata": {},
   "outputs": [],
   "source": []
  }
 ],
 "metadata": {
  "kernelspec": {
   "display_name": "Python 3 (ipykernel)",
   "language": "python",
   "name": "python3"
  },
  "language_info": {
   "codemirror_mode": {
    "name": "ipython",
    "version": 3
   },
   "file_extension": ".py",
   "mimetype": "text/x-python",
   "name": "python",
   "nbconvert_exporter": "python",
   "pygments_lexer": "ipython3",
   "version": "3.11.5"
  }
 },
 "nbformat": 4,
 "nbformat_minor": 5
}
