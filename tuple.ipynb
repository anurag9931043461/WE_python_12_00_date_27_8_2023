{
 "cells": [
  {
   "cell_type": "markdown",
   "id": "3b709e54-e24e-439f-8322-64712396ae5d",
   "metadata": {},
   "source": [
    "Tuple:\n",
    "\n",
    "> Tuple constructor is tuple()\n",
    "\n",
    "> Tuple literal is ()\n",
    "\n",
    "> Tuple is a set of sequence of elements.\n",
    "\n",
    "> Tuple support indexing\n",
    "\n",
    "> Tuple support slicing\n",
    "\n",
    "> Tuple support concatination\n",
    "\n",
    "> Tuple support nested Tuple\n",
    "\n",
    "> Tuple is immutable(hashable)\n",
    "\n",
    "> Tuple methods(index, count)"
   ]
  },
  {
   "cell_type": "code",
   "execution_count": 1,
   "id": "27618a9a-bb1f-4fa4-bc1b-96b2b2f59d48",
   "metadata": {},
   "outputs": [],
   "source": [
    "a=()   # literal"
   ]
  },
  {
   "cell_type": "code",
   "execution_count": 2,
   "id": "7cf3a9fc-24c0-4258-b782-3f59256e3f58",
   "metadata": {},
   "outputs": [
    {
     "data": {
      "text/plain": [
       "0"
      ]
     },
     "execution_count": 2,
     "metadata": {},
     "output_type": "execute_result"
    }
   ],
   "source": [
    "len(a)"
   ]
  },
  {
   "cell_type": "code",
   "execution_count": 3,
   "id": "73a7b3f3-6710-4e56-a93d-8bb751da7c3b",
   "metadata": {},
   "outputs": [],
   "source": [
    "b=tuple()"
   ]
  },
  {
   "cell_type": "code",
   "execution_count": 4,
   "id": "13439f0c-ab64-4dc4-9c8e-98f0f2e6acbd",
   "metadata": {},
   "outputs": [
    {
     "name": "stdout",
     "output_type": "stream",
     "text": [
      "()\n"
     ]
    }
   ],
   "source": [
    "print(b)"
   ]
  },
  {
   "cell_type": "code",
   "execution_count": 6,
   "id": "3f9ed727-f501-43c1-a780-2f26a926c21c",
   "metadata": {},
   "outputs": [
    {
     "name": "stdout",
     "output_type": "stream",
     "text": [
      "0\n"
     ]
    }
   ],
   "source": [
    "print(len(b))"
   ]
  },
  {
   "cell_type": "code",
   "execution_count": 7,
   "id": "c0d15915-64b6-4a97-b548-6ff7c50556d1",
   "metadata": {},
   "outputs": [],
   "source": [
    "c=(10,10.99,\"10\",(10),[10])"
   ]
  },
  {
   "cell_type": "code",
   "execution_count": 8,
   "id": "936d6b93-8829-418c-9a6f-dbb3db717776",
   "metadata": {},
   "outputs": [
    {
     "name": "stdout",
     "output_type": "stream",
     "text": [
      "(10, 10.99, '10', 10, [10])\n"
     ]
    }
   ],
   "source": [
    "print(c)"
   ]
  },
  {
   "cell_type": "code",
   "execution_count": 11,
   "id": "6699a6e5-7371-43f7-812e-bd6ca7b5c2ca",
   "metadata": {},
   "outputs": [
    {
     "name": "stdout",
     "output_type": "stream",
     "text": [
      "<class 'tuple'>\n",
      "(10, 32)\n"
     ]
    }
   ],
   "source": [
    "d=(10,32)\n",
    "print(type(d))\n",
    "print(d)"
   ]
  },
  {
   "cell_type": "code",
   "execution_count": 12,
   "id": "f182cefc-4e85-4f07-80dd-6c882636171f",
   "metadata": {},
   "outputs": [
    {
     "name": "stdout",
     "output_type": "stream",
     "text": [
      "<class 'int'>\n",
      "10\n"
     ]
    }
   ],
   "source": [
    "d=(10)\n",
    "print(type(d))\n",
    "print(d)"
   ]
  },
  {
   "cell_type": "code",
   "execution_count": 14,
   "id": "24733078-f48b-4ba0-87b6-3a7f3f1ba7a5",
   "metadata": {},
   "outputs": [
    {
     "name": "stdout",
     "output_type": "stream",
     "text": [
      "<class 'tuple'>\n",
      "('krishna',)\n"
     ]
    }
   ],
   "source": [
    "d=(\"krishna\",)\n",
    "print(type(d))\n",
    "print(d)"
   ]
  },
  {
   "cell_type": "markdown",
   "id": "38f283b7-da75-40ae-8984-4713b06b7f22",
   "metadata": {},
   "source": [
    "# indexing"
   ]
  },
  {
   "cell_type": "code",
   "execution_count": 16,
   "id": "dc8a2762-7fc4-4e47-83b2-fcd1b59f361f",
   "metadata": {},
   "outputs": [],
   "source": [
    "e=(10,10.99,\"10\",(10,),[10])"
   ]
  },
  {
   "cell_type": "code",
   "execution_count": 17,
   "id": "150dd5c4-9c68-4658-9d39-4593564488c2",
   "metadata": {},
   "outputs": [
    {
     "name": "stdout",
     "output_type": "stream",
     "text": [
      "(10, 10.99, '10', (10,), [10])\n"
     ]
    }
   ],
   "source": [
    "print(e)"
   ]
  },
  {
   "cell_type": "code",
   "execution_count": 18,
   "id": "63c55e44-d935-4c43-912b-ae9ea87c6f03",
   "metadata": {},
   "outputs": [
    {
     "data": {
      "text/plain": [
       "10.99"
      ]
     },
     "execution_count": 18,
     "metadata": {},
     "output_type": "execute_result"
    }
   ],
   "source": [
    "e[1]   # positive indexing"
   ]
  },
  {
   "cell_type": "code",
   "execution_count": 19,
   "id": "0fd5104a-e2cd-4020-b51c-a65ccd5db1b0",
   "metadata": {},
   "outputs": [
    {
     "data": {
      "text/plain": [
       "5"
      ]
     },
     "execution_count": 19,
     "metadata": {},
     "output_type": "execute_result"
    }
   ],
   "source": [
    "len(e)"
   ]
  },
  {
   "cell_type": "code",
   "execution_count": 20,
   "id": "7196f1d1-a894-47d0-8d8d-a0e251488bb1",
   "metadata": {},
   "outputs": [
    {
     "name": "stdout",
     "output_type": "stream",
     "text": [
      "10.99\n"
     ]
    }
   ],
   "source": [
    "print(e[-4])"
   ]
  },
  {
   "cell_type": "code",
   "execution_count": 24,
   "id": "8ac88a6d-f6ee-4589-b38e-ea3482f08e09",
   "metadata": {},
   "outputs": [
    {
     "name": "stdout",
     "output_type": "stream",
     "text": [
      "10.99\n",
      "hello\n"
     ]
    }
   ],
   "source": [
    "print(e[-4])      #negative indexing\n",
    "print(\"hello\")"
   ]
  },
  {
   "cell_type": "markdown",
   "id": "4a93cd85-9a36-44dd-9771-045fc57cfc91",
   "metadata": {},
   "source": [
    "# slicing"
   ]
  },
  {
   "cell_type": "code",
   "execution_count": 25,
   "id": "8a5b6f76-82c2-4f9f-b015-e97fc9e4cc56",
   "metadata": {},
   "outputs": [
    {
     "name": "stdout",
     "output_type": "stream",
     "text": [
      "(10, 10.99, '10', (10,), [10])\n"
     ]
    }
   ],
   "source": [
    "print(e)"
   ]
  },
  {
   "cell_type": "code",
   "execution_count": 26,
   "id": "d6e4f487-4775-40da-8013-88ec7967796e",
   "metadata": {},
   "outputs": [
    {
     "name": "stdout",
     "output_type": "stream",
     "text": [
      "(10.99, '10', (10,))\n"
     ]
    }
   ],
   "source": [
    "print(e[1:4])"
   ]
  },
  {
   "cell_type": "code",
   "execution_count": 27,
   "id": "8344026c-334b-4adc-b68c-8f3d005b1a3a",
   "metadata": {},
   "outputs": [
    {
     "name": "stdout",
     "output_type": "stream",
     "text": [
      "(10.99, '10', (10,))\n"
     ]
    }
   ],
   "source": [
    "print(e[1:4:1])"
   ]
  },
  {
   "cell_type": "code",
   "execution_count": 29,
   "id": "e3483cd4-8215-4ea4-a266-d86e78ec9243",
   "metadata": {},
   "outputs": [
    {
     "name": "stdout",
     "output_type": "stream",
     "text": [
      "(10.99, (10,))\n"
     ]
    }
   ],
   "source": [
    "print(e[1:4:2])"
   ]
  },
  {
   "cell_type": "code",
   "execution_count": 28,
   "id": "fdea197b-9fa2-4c3e-a567-2d9713ee3b2c",
   "metadata": {},
   "outputs": [
    {
     "name": "stdout",
     "output_type": "stream",
     "text": [
      "(10, 10.99, '10', (10,), [10])\n"
     ]
    }
   ],
   "source": [
    "print(e)"
   ]
  },
  {
   "cell_type": "code",
   "execution_count": 31,
   "id": "27844a24-280b-4b2d-850a-2f14d6d57d77",
   "metadata": {},
   "outputs": [
    {
     "name": "stdout",
     "output_type": "stream",
     "text": [
      "([10], (10,), '10', 10.99, 10)\n"
     ]
    }
   ],
   "source": [
    "print(e[::-1])"
   ]
  },
  {
   "cell_type": "code",
   "execution_count": 32,
   "id": "64acff8b-1687-46d4-a31f-51b51e8d4f66",
   "metadata": {},
   "outputs": [
    {
     "data": {
      "text/plain": [
       "'01'"
      ]
     },
     "execution_count": 32,
     "metadata": {},
     "output_type": "execute_result"
    }
   ],
   "source": [
    "e[2]"
   ]
  },
  {
   "cell_type": "code",
   "execution_count": 34,
   "id": "d61699cb-3d11-4a8d-bacc-e23eaa9bc446",
   "metadata": {},
   "outputs": [
    {
     "name": "stdout",
     "output_type": "stream",
     "text": [
      "01\n"
     ]
    }
   ],
   "source": [
    "print(e[2][-1:-3:-1])"
   ]
  },
  {
   "cell_type": "code",
   "execution_count": 35,
   "id": "feb53e76-f7d7-4ddd-9683-e8007d07ace8",
   "metadata": {},
   "outputs": [
    {
     "data": {
      "text/plain": [
       "(10, 1, 2, 3, 10, 20, 30)"
      ]
     },
     "execution_count": 35,
     "metadata": {},
     "output_type": "execute_result"
    }
   ],
   "source": [
    "(10,)+(1,2,3)+(10,20,30)"
   ]
  },
  {
   "cell_type": "code",
   "execution_count": 36,
   "id": "05b62627-35c5-4b32-b97e-3a989a854913",
   "metadata": {},
   "outputs": [
    {
     "name": "stdout",
     "output_type": "stream",
     "text": [
      "(10, 10.99, '10', (10,), [10])\n"
     ]
    }
   ],
   "source": [
    "print(e)"
   ]
  },
  {
   "cell_type": "code",
   "execution_count": 37,
   "id": "96ebacfc-d337-4b67-9cdc-ea1e9b7ee111",
   "metadata": {},
   "outputs": [
    {
     "data": {
      "text/plain": [
       "1"
      ]
     },
     "execution_count": 37,
     "metadata": {},
     "output_type": "execute_result"
    }
   ],
   "source": [
    "e.count(10)"
   ]
  },
  {
   "cell_type": "code",
   "execution_count": 38,
   "id": "56b0f7d6-918f-4697-9894-54d344fa29cb",
   "metadata": {},
   "outputs": [
    {
     "data": {
      "text/plain": [
       "2"
      ]
     },
     "execution_count": 38,
     "metadata": {},
     "output_type": "execute_result"
    }
   ],
   "source": [
    "e.index('10')"
   ]
  },
  {
   "cell_type": "code",
   "execution_count": 39,
   "id": "b0063b29-33f0-4912-86ea-14b33fdf3a89",
   "metadata": {},
   "outputs": [],
   "source": [
    "a=(10,10,11,2,3,10)"
   ]
  },
  {
   "cell_type": "code",
   "execution_count": 42,
   "id": "02f4bbe0-1044-4394-84c7-9e8c891c8f1f",
   "metadata": {},
   "outputs": [
    {
     "data": {
      "text/plain": [
       "5"
      ]
     },
     "execution_count": 42,
     "metadata": {},
     "output_type": "execute_result"
    }
   ],
   "source": [
    "a.index(10,2,232312312312)"
   ]
  },
  {
   "cell_type": "code",
   "execution_count": 43,
   "id": "96219bfa-ba9e-43c2-a30c-de2553423577",
   "metadata": {},
   "outputs": [
    {
     "data": {
      "text/plain": [
       "3"
      ]
     },
     "execution_count": 43,
     "metadata": {},
     "output_type": "execute_result"
    }
   ],
   "source": [
    "a.count(10)"
   ]
  },
  {
   "cell_type": "code",
   "execution_count": 44,
   "id": "e41b2428-736c-4519-8c6e-7ed612df64d4",
   "metadata": {},
   "outputs": [
    {
     "name": "stdout",
     "output_type": "stream",
     "text": [
      "(10, 10.99, '10', (10,), [10])\n"
     ]
    }
   ],
   "source": [
    "print(e)"
   ]
  },
  {
   "cell_type": "code",
   "execution_count": 48,
   "id": "0881b739-3c7d-4ad5-affd-51054924c2f2",
   "metadata": {},
   "outputs": [],
   "source": [
    "f=e[3]"
   ]
  },
  {
   "cell_type": "code",
   "execution_count": 49,
   "id": "0fe0751b-ee2c-409c-90c9-b2861eb1f1e1",
   "metadata": {},
   "outputs": [
    {
     "name": "stdout",
     "output_type": "stream",
     "text": [
      "(10,)\n"
     ]
    }
   ],
   "source": [
    "print(f)"
   ]
  },
  {
   "cell_type": "code",
   "execution_count": 51,
   "id": "5aa457e2-ae39-4d54-ac47-4f37e726c4f3",
   "metadata": {},
   "outputs": [
    {
     "data": {
      "text/plain": [
       "0"
      ]
     },
     "execution_count": 51,
     "metadata": {},
     "output_type": "execute_result"
    }
   ],
   "source": [
    "e[3].index(10)"
   ]
  },
  {
   "cell_type": "code",
   "execution_count": null,
   "id": "224c5db6-3503-4d8e-a085-ed016fc8c792",
   "metadata": {},
   "outputs": [],
   "source": []
  }
 ],
 "metadata": {
  "kernelspec": {
   "display_name": "Python 3 (ipykernel)",
   "language": "python",
   "name": "python3"
  },
  "language_info": {
   "codemirror_mode": {
    "name": "ipython",
    "version": 3
   },
   "file_extension": ".py",
   "mimetype": "text/x-python",
   "name": "python",
   "nbconvert_exporter": "python",
   "pygments_lexer": "ipython3",
   "version": "3.11.5"
  }
 },
 "nbformat": 4,
 "nbformat_minor": 5
}
