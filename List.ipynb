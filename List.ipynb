{
 "cells": [
  {
   "cell_type": "markdown",
   "id": "de301396-9268-4b45-979f-b8ffc75b8e7a",
   "metadata": {},
   "source": [
    "List:\n",
    "\n",
    "> List constructor is list()\n",
    "\n",
    "> list literal is []\n",
    "\n",
    "> list is a set of sequence of elemnts.\n",
    "\n",
    "> list support indexing\n",
    "\n",
    "> list support slicing\n",
    "\n",
    "> list support concatination\n",
    "\n",
    "> list support nested list\n",
    "\n",
    "> list is mutable(unhashable)\n",
    "\n",
    "> list methods."
   ]
  },
  {
   "cell_type": "code",
   "execution_count": 47,
   "id": "bc70bd2f-faa9-4662-9182-cefcf8f007cf",
   "metadata": {},
   "outputs": [],
   "source": [
    "a=[]"
   ]
  },
  {
   "cell_type": "code",
   "execution_count": 48,
   "id": "7de8c9b6-e91e-4faa-bbab-a76a7f20c48d",
   "metadata": {},
   "outputs": [
    {
     "name": "stdout",
     "output_type": "stream",
     "text": [
      "[]\n"
     ]
    }
   ],
   "source": [
    "print(a)"
   ]
  },
  {
   "cell_type": "code",
   "execution_count": 55,
   "id": "9c0dbd98-001e-453c-b66d-16105cd444c2",
   "metadata": {},
   "outputs": [
    {
     "name": "stdout",
     "output_type": "stream",
     "text": [
      "<class 'list'>\n",
      "2831407928128\n"
     ]
    }
   ],
   "source": [
    "print(type(a))\n",
    "print(id(a))"
   ]
  },
  {
   "cell_type": "code",
   "execution_count": 4,
   "id": "78766e5e-8ac1-4302-8bb4-e58ad7f35ec4",
   "metadata": {},
   "outputs": [
    {
     "name": "stdout",
     "output_type": "stream",
     "text": [
      "0\n"
     ]
    }
   ],
   "source": [
    "print(len(a))"
   ]
  },
  {
   "cell_type": "code",
   "execution_count": 5,
   "id": "a21ec7d2-b10e-4a04-8a00-81051100f240",
   "metadata": {},
   "outputs": [],
   "source": [
    "b=list()"
   ]
  },
  {
   "cell_type": "code",
   "execution_count": 6,
   "id": "c582b9c7-a462-48ee-b433-71e99b093dbf",
   "metadata": {},
   "outputs": [
    {
     "name": "stdout",
     "output_type": "stream",
     "text": [
      "[]\n"
     ]
    }
   ],
   "source": [
    "print(b)"
   ]
  },
  {
   "cell_type": "code",
   "execution_count": 7,
   "id": "6671622d-3eb1-4457-9bbb-b8e0b9c90e19",
   "metadata": {},
   "outputs": [
    {
     "name": "stdout",
     "output_type": "stream",
     "text": [
      "<class 'list'>\n"
     ]
    }
   ],
   "source": [
    "print(type(b))"
   ]
  },
  {
   "cell_type": "code",
   "execution_count": 8,
   "id": "5bf24384-7676-48e6-b19a-5ddf65e962a8",
   "metadata": {},
   "outputs": [
    {
     "name": "stdout",
     "output_type": "stream",
     "text": [
      "0\n"
     ]
    }
   ],
   "source": [
    "print(len(b))"
   ]
  },
  {
   "cell_type": "code",
   "execution_count": 9,
   "id": "65e36d12-fd3f-4c0f-95b7-22c4a928c1fc",
   "metadata": {},
   "outputs": [],
   "source": [
    "a=10"
   ]
  },
  {
   "cell_type": "code",
   "execution_count": 10,
   "id": "86e042f0-b84c-4da6-8118-31f6158d6611",
   "metadata": {},
   "outputs": [],
   "source": [
    "b=10.00"
   ]
  },
  {
   "cell_type": "code",
   "execution_count": 11,
   "id": "f97ced21-f8a8-40e4-9837-d4efc9918347",
   "metadata": {},
   "outputs": [],
   "source": [
    "c=\"10\""
   ]
  },
  {
   "cell_type": "code",
   "execution_count": 12,
   "id": "127241a0-9ac1-4da5-bec9-c7a6badd082c",
   "metadata": {},
   "outputs": [],
   "source": [
    "d=[10,10.00,\"10\"]"
   ]
  },
  {
   "cell_type": "code",
   "execution_count": 13,
   "id": "2cd635e4-92fc-47cf-ae86-2e429ce4b390",
   "metadata": {},
   "outputs": [
    {
     "name": "stdout",
     "output_type": "stream",
     "text": [
      "[10, 10.0, '10']\n"
     ]
    }
   ],
   "source": [
    "print(d)"
   ]
  },
  {
   "cell_type": "code",
   "execution_count": 16,
   "id": "74c2f9df-98ad-4538-8dae-c6b444396c57",
   "metadata": {},
   "outputs": [
    {
     "name": "stdout",
     "output_type": "stream",
     "text": [
      "10\n"
     ]
    }
   ],
   "source": [
    "print(d[0])   #  positive indexing"
   ]
  },
  {
   "cell_type": "code",
   "execution_count": 18,
   "id": "eef4cb72-7468-4b7c-8720-8f9015251202",
   "metadata": {},
   "outputs": [
    {
     "name": "stdout",
     "output_type": "stream",
     "text": [
      "10\n"
     ]
    }
   ],
   "source": [
    "print(d[-3])   #negative indexing"
   ]
  },
  {
   "cell_type": "code",
   "execution_count": 21,
   "id": "36edbde8-5172-4c42-84c4-dbdf313c5609",
   "metadata": {},
   "outputs": [
    {
     "name": "stdout",
     "output_type": "stream",
     "text": [
      "[10, 10.0]\n"
     ]
    }
   ],
   "source": [
    "print(d[0:2:1])"
   ]
  },
  {
   "cell_type": "code",
   "execution_count": 22,
   "id": "322fc02f-dda7-4c7f-90d1-de352edd474c",
   "metadata": {},
   "outputs": [
    {
     "name": "stdout",
     "output_type": "stream",
     "text": [
      "[10, 10.0]\n"
     ]
    }
   ],
   "source": [
    "print(d[-3:-1:1])"
   ]
  },
  {
   "cell_type": "code",
   "execution_count": 24,
   "id": "3990e3d3-bce6-4d83-a1bc-4472571e90e4",
   "metadata": {},
   "outputs": [
    {
     "data": {
      "text/plain": [
       "['10', 10.0, 10]"
      ]
     },
     "execution_count": 24,
     "metadata": {},
     "output_type": "execute_result"
    }
   ],
   "source": [
    "d[-1::-1]"
   ]
  },
  {
   "cell_type": "code",
   "execution_count": 26,
   "id": "204b25f3-ee3d-4168-85c3-be66ca19cb36",
   "metadata": {},
   "outputs": [
    {
     "data": {
      "text/plain": [
       "[10, 20, 30, 20, 30, 50, 4, 43, 432]"
      ]
     },
     "execution_count": 26,
     "metadata": {},
     "output_type": "execute_result"
    }
   ],
   "source": [
    "[10,20,30]+[20,30,50]+[4,43,432]"
   ]
  },
  {
   "cell_type": "code",
   "execution_count": 27,
   "id": "704c0a5f-b1ed-4934-8268-40b1c585d76f",
   "metadata": {},
   "outputs": [],
   "source": [
    "a=[1,2,3,4,[5,6,4,32,43],34,54]"
   ]
  },
  {
   "cell_type": "code",
   "execution_count": 28,
   "id": "5e7b90e3-ea60-4b35-81ec-5434243a2535",
   "metadata": {},
   "outputs": [
    {
     "data": {
      "text/plain": [
       "7"
      ]
     },
     "execution_count": 28,
     "metadata": {},
     "output_type": "execute_result"
    }
   ],
   "source": [
    "len(a)"
   ]
  },
  {
   "cell_type": "code",
   "execution_count": 34,
   "id": "4dba5a9c-b573-4ca4-a45f-6315e4c68ef3",
   "metadata": {},
   "outputs": [
    {
     "data": {
      "text/plain": [
       "32"
      ]
     },
     "execution_count": 34,
     "metadata": {},
     "output_type": "execute_result"
    }
   ],
   "source": [
    "a[4][3]"
   ]
  },
  {
   "cell_type": "code",
   "execution_count": 36,
   "id": "5605f50f-8bb8-41bc-921a-46bdd3c90775",
   "metadata": {},
   "outputs": [
    {
     "data": {
      "text/plain": [
       "32"
      ]
     },
     "execution_count": 36,
     "metadata": {},
     "output_type": "execute_result"
    }
   ],
   "source": [
    "a[4][3]"
   ]
  },
  {
   "cell_type": "code",
   "execution_count": 37,
   "id": "13756ac8-efd0-42f9-8fda-30ce9182cc19",
   "metadata": {},
   "outputs": [],
   "source": [
    "a=[1,2,3,4,[5,6,4,32,43],34,54]"
   ]
  },
  {
   "cell_type": "code",
   "execution_count": 43,
   "id": "7dcc19d1-0877-46ec-9334-79f69c995f3c",
   "metadata": {},
   "outputs": [
    {
     "data": {
      "text/plain": [
       "[43, 32, 4, 6, 5]"
      ]
     },
     "execution_count": 43,
     "metadata": {},
     "output_type": "execute_result"
    }
   ],
   "source": [
    "a[4][::-1]"
   ]
  },
  {
   "cell_type": "code",
   "execution_count": 56,
   "id": "a0e2d29f-e19f-446a-87e5-93fb5eaf0295",
   "metadata": {},
   "outputs": [],
   "source": [
    "a=10"
   ]
  },
  {
   "cell_type": "code",
   "execution_count": 57,
   "id": "9ed9ca3e-ca70-4b93-8955-b6567a9c0eaf",
   "metadata": {},
   "outputs": [
    {
     "data": {
      "text/plain": [
       "140707549930568"
      ]
     },
     "execution_count": 57,
     "metadata": {},
     "output_type": "execute_result"
    }
   ],
   "source": [
    "id(a)"
   ]
  },
  {
   "cell_type": "code",
   "execution_count": 61,
   "id": "6f9af04e-3332-461e-82e5-d447d8090eb5",
   "metadata": {},
   "outputs": [
    {
     "name": "stdout",
     "output_type": "stream",
     "text": [
      "2831408977728\n",
      "[10, 20, 30, 40]\n"
     ]
    }
   ],
   "source": [
    "a=[10,20,30,40]\n",
    "print(id(a))\n",
    "print(a)\n"
   ]
  },
  {
   "cell_type": "code",
   "execution_count": 62,
   "id": "0e6ce1f5-6b11-4dc0-9158-3356137c3122",
   "metadata": {},
   "outputs": [
    {
     "data": {
      "text/plain": [
       "40"
      ]
     },
     "execution_count": 62,
     "metadata": {},
     "output_type": "execute_result"
    }
   ],
   "source": [
    "a.pop()"
   ]
  },
  {
   "cell_type": "code",
   "execution_count": 63,
   "id": "2dd0c0f1-2f30-4336-95a6-7a969eb154ac",
   "metadata": {},
   "outputs": [
    {
     "name": "stdout",
     "output_type": "stream",
     "text": [
      "[10, 20, 30]\n"
     ]
    }
   ],
   "source": [
    "print(a)"
   ]
  },
  {
   "cell_type": "code",
   "execution_count": 64,
   "id": "4ecc5c28-2a86-4d15-bfa3-1fa8471c3c68",
   "metadata": {},
   "outputs": [
    {
     "data": {
      "text/plain": [
       "2831408977728"
      ]
     },
     "execution_count": 64,
     "metadata": {},
     "output_type": "execute_result"
    }
   ],
   "source": [
    "id(a)"
   ]
  },
  {
   "cell_type": "code",
   "execution_count": 68,
   "id": "92fd7ab6-6f12-403b-816d-cd4a5966cdfe",
   "metadata": {},
   "outputs": [
    {
     "data": {
      "text/plain": [
       "2831409607744"
      ]
     },
     "execution_count": 68,
     "metadata": {},
     "output_type": "execute_result"
    }
   ],
   "source": [
    "a=[]\n",
    "id(a)"
   ]
  },
  {
   "cell_type": "code",
   "execution_count": 69,
   "id": "1e57b22f-2abb-4004-a6b5-94fe74958560",
   "metadata": {},
   "outputs": [],
   "source": [
    "a.append(10)"
   ]
  },
  {
   "cell_type": "code",
   "execution_count": 70,
   "id": "a000ebdd-881e-4be5-a6a3-4b150b4a2b86",
   "metadata": {},
   "outputs": [
    {
     "name": "stdout",
     "output_type": "stream",
     "text": [
      "[10]\n"
     ]
    }
   ],
   "source": [
    "print(a)"
   ]
  },
  {
   "cell_type": "code",
   "execution_count": 71,
   "id": "0c6ad371-8fae-40bf-adf1-c629f34f5978",
   "metadata": {},
   "outputs": [
    {
     "data": {
      "text/plain": [
       "2831409607744"
      ]
     },
     "execution_count": 71,
     "metadata": {},
     "output_type": "execute_result"
    }
   ],
   "source": [
    "id(a)"
   ]
  },
  {
   "cell_type": "code",
   "execution_count": 72,
   "id": "ffad4b1b-2146-4fb5-be60-e0cce53aff6a",
   "metadata": {},
   "outputs": [],
   "source": [
    "a.append(10.09)"
   ]
  },
  {
   "cell_type": "code",
   "execution_count": 73,
   "id": "1a5f4695-fa29-4dde-b69b-7481a85951b7",
   "metadata": {},
   "outputs": [
    {
     "name": "stdout",
     "output_type": "stream",
     "text": [
      "[10, 10.09]\n"
     ]
    }
   ],
   "source": [
    "print(a)"
   ]
  },
  {
   "cell_type": "code",
   "execution_count": 74,
   "id": "c6319e42-34ee-425d-a2bf-512fa652aa6e",
   "metadata": {},
   "outputs": [],
   "source": [
    "a.append(\"10\")"
   ]
  },
  {
   "cell_type": "code",
   "execution_count": 75,
   "id": "34020e63-f1f8-432f-a1a2-f0a27b4c586d",
   "metadata": {},
   "outputs": [
    {
     "name": "stdout",
     "output_type": "stream",
     "text": [
      "[10, 10.09, '10']\n"
     ]
    }
   ],
   "source": [
    "print(a)"
   ]
  },
  {
   "cell_type": "code",
   "execution_count": 76,
   "id": "795e029d-3be9-4be0-94b5-5eaca6a3e2d0",
   "metadata": {},
   "outputs": [],
   "source": [
    "a.append([1,2,3,4])"
   ]
  },
  {
   "cell_type": "code",
   "execution_count": 77,
   "id": "a4de7259-7810-4d07-a806-310191c416c7",
   "metadata": {},
   "outputs": [
    {
     "name": "stdout",
     "output_type": "stream",
     "text": [
      "[10, 10.09, '10', [1, 2, 3, 4]]\n"
     ]
    }
   ],
   "source": [
    "print(a)"
   ]
  },
  {
   "cell_type": "code",
   "execution_count": 78,
   "id": "727968f2-761f-45b7-84fe-c4a9a1aaa52a",
   "metadata": {},
   "outputs": [],
   "source": [
    "a.extend([1,2,3,4])"
   ]
  },
  {
   "cell_type": "code",
   "execution_count": 79,
   "id": "63c2b720-01d9-43df-b022-0fdf6e605620",
   "metadata": {},
   "outputs": [
    {
     "name": "stdout",
     "output_type": "stream",
     "text": [
      "[10, 10.09, '10', [1, 2, 3, 4], 1, 2, 3, 4]\n"
     ]
    }
   ],
   "source": [
    "print(a)"
   ]
  },
  {
   "cell_type": "code",
   "execution_count": 80,
   "id": "240149f7-2707-4230-9305-2ac422f9cc96",
   "metadata": {},
   "outputs": [],
   "source": [
    "a.insert(2,\"krishna\")"
   ]
  },
  {
   "cell_type": "code",
   "execution_count": 81,
   "id": "4317cb14-0923-4bd2-a83e-121ef17c7fa0",
   "metadata": {},
   "outputs": [
    {
     "name": "stdout",
     "output_type": "stream",
     "text": [
      "[10, 10.09, 'krishna', '10', [1, 2, 3, 4], 1, 2, 3, 4]\n"
     ]
    }
   ],
   "source": [
    "print(a)"
   ]
  },
  {
   "cell_type": "code",
   "execution_count": 82,
   "id": "ccb805bc-cd8c-49e5-9a8f-d08b16d553f1",
   "metadata": {},
   "outputs": [
    {
     "data": {
      "text/plain": [
       "4"
      ]
     },
     "execution_count": 82,
     "metadata": {},
     "output_type": "execute_result"
    }
   ],
   "source": [
    "a.pop()"
   ]
  },
  {
   "cell_type": "code",
   "execution_count": 83,
   "id": "e1a01db5-9c75-4ac1-9492-e4b156e5cfe8",
   "metadata": {},
   "outputs": [
    {
     "name": "stdout",
     "output_type": "stream",
     "text": [
      "[10, 10.09, 'krishna', '10', [1, 2, 3, 4], 1, 2, 3]\n"
     ]
    }
   ],
   "source": [
    "print(a)"
   ]
  },
  {
   "cell_type": "code",
   "execution_count": 84,
   "id": "5a4b7cd0-473a-400c-9f08-5d85afceabf9",
   "metadata": {},
   "outputs": [
    {
     "data": {
      "text/plain": [
       "'krishna'"
      ]
     },
     "execution_count": 84,
     "metadata": {},
     "output_type": "execute_result"
    }
   ],
   "source": [
    "a.pop(2)"
   ]
  },
  {
   "cell_type": "code",
   "execution_count": 86,
   "id": "25054350-fbda-4e22-9295-8ac73ee4388a",
   "metadata": {},
   "outputs": [],
   "source": [
    "a.insert(0,10)"
   ]
  },
  {
   "cell_type": "code",
   "execution_count": 87,
   "id": "7550c02d-86a9-48db-9d58-11a091ccc9b6",
   "metadata": {},
   "outputs": [
    {
     "name": "stdout",
     "output_type": "stream",
     "text": [
      "[10, 10, 10.09, '10', [1, 2, 3, 4], 1, 2, 3]\n"
     ]
    }
   ],
   "source": [
    "print(a)"
   ]
  },
  {
   "cell_type": "code",
   "execution_count": 88,
   "id": "fd858252-2268-43ea-bbc7-9c2da61e7eec",
   "metadata": {},
   "outputs": [],
   "source": [
    "a.remove(10)"
   ]
  },
  {
   "cell_type": "code",
   "execution_count": 89,
   "id": "178a1845-dade-4a99-ab21-00ecfa2b5668",
   "metadata": {},
   "outputs": [
    {
     "name": "stdout",
     "output_type": "stream",
     "text": [
      "[10, 10.09, '10', [1, 2, 3, 4], 1, 2, 3]\n"
     ]
    }
   ],
   "source": [
    "print(a)"
   ]
  },
  {
   "cell_type": "code",
   "execution_count": 90,
   "id": "b4dd2409-759e-45a7-b597-f92ec58c34cd",
   "metadata": {},
   "outputs": [],
   "source": [
    "a.remove(10)"
   ]
  },
  {
   "cell_type": "code",
   "execution_count": 91,
   "id": "0e60e436-ae40-4a45-a9e2-a81bdcdc3bdb",
   "metadata": {},
   "outputs": [
    {
     "name": "stdout",
     "output_type": "stream",
     "text": [
      "[10.09, '10', [1, 2, 3, 4], 1, 2, 3]\n"
     ]
    }
   ],
   "source": [
    "print(a)"
   ]
  },
  {
   "cell_type": "code",
   "execution_count": 92,
   "id": "b6841497-498a-48ff-852c-d39a2314bfba",
   "metadata": {},
   "outputs": [
    {
     "ename": "ValueError",
     "evalue": "list.remove(x): x not in list",
     "output_type": "error",
     "traceback": [
      "\u001b[1;31m---------------------------------------------------------------------------\u001b[0m",
      "\u001b[1;31mValueError\u001b[0m                                Traceback (most recent call last)",
      "Cell \u001b[1;32mIn[92], line 1\u001b[0m\n\u001b[1;32m----> 1\u001b[0m \u001b[43ma\u001b[49m\u001b[38;5;241;43m.\u001b[39;49m\u001b[43mremove\u001b[49m\u001b[43m(\u001b[49m\u001b[38;5;241;43m10\u001b[39;49m\u001b[43m)\u001b[49m\n",
      "\u001b[1;31mValueError\u001b[0m: list.remove(x): x not in list"
     ]
    }
   ],
   "source": [
    "a.remove(10)"
   ]
  },
  {
   "cell_type": "code",
   "execution_count": 93,
   "id": "bbdf6faf-f7c7-4b67-b7cc-b691dfb29410",
   "metadata": {},
   "outputs": [],
   "source": [
    "a.clear()"
   ]
  },
  {
   "cell_type": "code",
   "execution_count": 94,
   "id": "f90c32a0-6a12-4069-90fe-888677e6cb04",
   "metadata": {},
   "outputs": [
    {
     "name": "stdout",
     "output_type": "stream",
     "text": [
      "[]\n"
     ]
    }
   ],
   "source": [
    "print(a)"
   ]
  },
  {
   "cell_type": "code",
   "execution_count": 95,
   "id": "53192d70-168f-4144-b8e2-ddf6904aa1da",
   "metadata": {},
   "outputs": [],
   "source": [
    "a.extend([1,2,3,4,5,6,76,8,6,5443])"
   ]
  },
  {
   "cell_type": "code",
   "execution_count": 96,
   "id": "fb8ae875-9fca-444d-9513-9415d2fd0117",
   "metadata": {},
   "outputs": [
    {
     "name": "stdout",
     "output_type": "stream",
     "text": [
      "[1, 2, 3, 4, 5, 6, 76, 8, 6, 5443]\n"
     ]
    }
   ],
   "source": [
    "print(a)"
   ]
  },
  {
   "cell_type": "code",
   "execution_count": 97,
   "id": "663f0fd7-29e4-492d-a2ed-77d7f6096ac3",
   "metadata": {},
   "outputs": [],
   "source": [
    "x=10"
   ]
  },
  {
   "cell_type": "code",
   "execution_count": 98,
   "id": "82b78e1d-40f3-4de9-aea7-54a175b09ea9",
   "metadata": {},
   "outputs": [],
   "source": [
    "y=10"
   ]
  },
  {
   "cell_type": "code",
   "execution_count": 99,
   "id": "ab7a8f08-c5ff-444b-8b9c-ad6cac3cbd4d",
   "metadata": {},
   "outputs": [
    {
     "data": {
      "text/plain": [
       "140707549930568"
      ]
     },
     "execution_count": 99,
     "metadata": {},
     "output_type": "execute_result"
    }
   ],
   "source": [
    "id(x)"
   ]
  },
  {
   "cell_type": "code",
   "execution_count": 100,
   "id": "cfafc6e0-5b8d-4b71-860d-0c0a6f0b0091",
   "metadata": {},
   "outputs": [
    {
     "data": {
      "text/plain": [
       "140707549930568"
      ]
     },
     "execution_count": 100,
     "metadata": {},
     "output_type": "execute_result"
    }
   ],
   "source": [
    "id(y)"
   ]
  },
  {
   "cell_type": "code",
   "execution_count": 101,
   "id": "bffba532-118c-432d-804c-6437ca2aa8e2",
   "metadata": {},
   "outputs": [
    {
     "data": {
      "text/plain": [
       "2831408977088"
      ]
     },
     "execution_count": 101,
     "metadata": {},
     "output_type": "execute_result"
    }
   ],
   "source": [
    "k=[1,2,3]\n",
    "id(k)"
   ]
  },
  {
   "cell_type": "code",
   "execution_count": 102,
   "id": "5473836e-342d-479a-a614-4ef6dd1efe24",
   "metadata": {},
   "outputs": [
    {
     "data": {
      "text/plain": [
       "2831414077696"
      ]
     },
     "execution_count": 102,
     "metadata": {},
     "output_type": "execute_result"
    }
   ],
   "source": [
    "l=[1,2,3]\n",
    "id(l)"
   ]
  },
  {
   "cell_type": "code",
   "execution_count": 105,
   "id": "1987d7dc-aad3-4dea-b19c-3335917e1395",
   "metadata": {},
   "outputs": [
    {
     "name": "stdout",
     "output_type": "stream",
     "text": [
      "[1, 2, 3, 4, 5, 6, 76, 8, 6, 5443]\n"
     ]
    },
    {
     "data": {
      "text/plain": [
       "2831409607744"
      ]
     },
     "execution_count": 105,
     "metadata": {},
     "output_type": "execute_result"
    }
   ],
   "source": [
    "print(a)\n",
    "id(a)"
   ]
  },
  {
   "cell_type": "code",
   "execution_count": 106,
   "id": "4398078f-5ddd-4575-92ad-da765edc54ee",
   "metadata": {},
   "outputs": [],
   "source": [
    "b=a"
   ]
  },
  {
   "cell_type": "code",
   "execution_count": 107,
   "id": "77dc2fa8-72cc-4974-8be3-8044f957339c",
   "metadata": {},
   "outputs": [
    {
     "name": "stdout",
     "output_type": "stream",
     "text": [
      "[1, 2, 3, 4, 5, 6, 76, 8, 6, 5443]\n"
     ]
    }
   ],
   "source": [
    "print(b)"
   ]
  },
  {
   "cell_type": "code",
   "execution_count": 108,
   "id": "1395db85-6190-4a74-86c8-a8f79ea1a1be",
   "metadata": {},
   "outputs": [
    {
     "data": {
      "text/plain": [
       "2831409607744"
      ]
     },
     "execution_count": 108,
     "metadata": {},
     "output_type": "execute_result"
    }
   ],
   "source": [
    "id(b)"
   ]
  },
  {
   "cell_type": "code",
   "execution_count": 109,
   "id": "392ac276-9f48-4b30-933c-aad14389ea42",
   "metadata": {},
   "outputs": [],
   "source": [
    "b.append(100000000)"
   ]
  },
  {
   "cell_type": "code",
   "execution_count": 110,
   "id": "ecfe58de-81c9-4463-a58a-928b75da403b",
   "metadata": {},
   "outputs": [
    {
     "name": "stdout",
     "output_type": "stream",
     "text": [
      "[1, 2, 3, 4, 5, 6, 76, 8, 6, 5443, 100000000]\n"
     ]
    }
   ],
   "source": [
    "print(b)"
   ]
  },
  {
   "cell_type": "code",
   "execution_count": 111,
   "id": "baa6ee14-c2ab-4d92-9808-e4a0b28f1db6",
   "metadata": {},
   "outputs": [
    {
     "name": "stdout",
     "output_type": "stream",
     "text": [
      "[1, 2, 3, 4, 5, 6, 76, 8, 6, 5443, 100000000]\n"
     ]
    }
   ],
   "source": [
    "print(a)"
   ]
  },
  {
   "cell_type": "code",
   "execution_count": 112,
   "id": "18100525-3892-4741-9acc-839c5ad9fb01",
   "metadata": {},
   "outputs": [
    {
     "name": "stdout",
     "output_type": "stream",
     "text": [
      "[1, 2, 3, 4, 5, 6, 76, 8, 6, 5443, 100000000]\n"
     ]
    }
   ],
   "source": [
    "print(a)"
   ]
  },
  {
   "cell_type": "code",
   "execution_count": 113,
   "id": "5bc49156-f823-4d3c-af67-1e5aacde5df0",
   "metadata": {},
   "outputs": [],
   "source": [
    "c=a.copy()"
   ]
  },
  {
   "cell_type": "code",
   "execution_count": 116,
   "id": "d2412bf4-f538-46c6-b306-d1341d41b95d",
   "metadata": {},
   "outputs": [
    {
     "name": "stdout",
     "output_type": "stream",
     "text": [
      "[1, 2, 3, 4, 5, 6, 76, 8, 6, 5443, 100000000]\n"
     ]
    },
    {
     "data": {
      "text/plain": [
       "2831414252800"
      ]
     },
     "execution_count": 116,
     "metadata": {},
     "output_type": "execute_result"
    }
   ],
   "source": [
    "print(c)\n",
    "id(c)"
   ]
  },
  {
   "cell_type": "code",
   "execution_count": 117,
   "id": "a96ffe1d-2d2a-49d3-8bc4-4b81a6fbf689",
   "metadata": {},
   "outputs": [
    {
     "name": "stdout",
     "output_type": "stream",
     "text": [
      "[1, 2, 3, 4, 5, 6, 76, 8, 6, 5443, 100000000]\n"
     ]
    },
    {
     "data": {
      "text/plain": [
       "2831409607744"
      ]
     },
     "execution_count": 117,
     "metadata": {},
     "output_type": "execute_result"
    }
   ],
   "source": [
    "print(a)\n",
    "id(a)"
   ]
  },
  {
   "cell_type": "code",
   "execution_count": 118,
   "id": "4e5ce358-223b-4945-b5b0-0b390fd2bc0b",
   "metadata": {},
   "outputs": [],
   "source": [
    "c.append(99999999999)"
   ]
  },
  {
   "cell_type": "code",
   "execution_count": 119,
   "id": "2c862777-ae15-4e73-9631-817ceab0e10f",
   "metadata": {},
   "outputs": [
    {
     "name": "stdout",
     "output_type": "stream",
     "text": [
      "[1, 2, 3, 4, 5, 6, 76, 8, 6, 5443, 100000000, 99999999999]\n"
     ]
    }
   ],
   "source": [
    "print(c)"
   ]
  },
  {
   "cell_type": "code",
   "execution_count": 120,
   "id": "9ce6a5d4-b6bd-473c-8c1e-775b52626c0c",
   "metadata": {},
   "outputs": [
    {
     "name": "stdout",
     "output_type": "stream",
     "text": [
      "[1, 2, 3, 4, 5, 6, 76, 8, 6, 5443, 100000000]\n"
     ]
    }
   ],
   "source": [
    "print(a)"
   ]
  },
  {
   "cell_type": "code",
   "execution_count": 122,
   "id": "36cdcaf5-8a81-4f72-bc02-58b6944d06b7",
   "metadata": {},
   "outputs": [
    {
     "data": {
      "text/plain": [
       "0"
      ]
     },
     "execution_count": 122,
     "metadata": {},
     "output_type": "execute_result"
    }
   ],
   "source": [
    "a.count(643243234)"
   ]
  },
  {
   "cell_type": "code",
   "execution_count": 123,
   "id": "6956a5dd-9f07-4bde-bafc-4b8c1b920bbe",
   "metadata": {},
   "outputs": [
    {
     "data": {
      "text/plain": [
       "5"
      ]
     },
     "execution_count": 123,
     "metadata": {},
     "output_type": "execute_result"
    }
   ],
   "source": [
    "a.index(6)"
   ]
  },
  {
   "cell_type": "code",
   "execution_count": 124,
   "id": "2702db54-13e9-4f47-a2ad-059990ccf9d6",
   "metadata": {},
   "outputs": [
    {
     "data": {
      "text/plain": [
       "8"
      ]
     },
     "execution_count": 124,
     "metadata": {},
     "output_type": "execute_result"
    }
   ],
   "source": [
    "a.index(6,6,3242423423423423423)"
   ]
  },
  {
   "cell_type": "code",
   "execution_count": 126,
   "id": "d5211161-dbf9-4d3e-acc7-4496b0221972",
   "metadata": {},
   "outputs": [
    {
     "name": "stdout",
     "output_type": "stream",
     "text": [
      "[1, 2, 3, 4, 5, 6, 76, 8, 6, 5443, 100000000]\n"
     ]
    }
   ],
   "source": [
    "print(a)"
   ]
  },
  {
   "cell_type": "code",
   "execution_count": 127,
   "id": "9db61011-408c-4cbd-bf90-0cf108f5720d",
   "metadata": {},
   "outputs": [],
   "source": [
    "a.reverse()"
   ]
  },
  {
   "cell_type": "code",
   "execution_count": 128,
   "id": "f4e6650c-83b6-4e82-932e-e293caaf6893",
   "metadata": {},
   "outputs": [
    {
     "name": "stdout",
     "output_type": "stream",
     "text": [
      "[100000000, 5443, 6, 8, 76, 6, 5, 4, 3, 2, 1]\n"
     ]
    }
   ],
   "source": [
    "print(a)"
   ]
  },
  {
   "cell_type": "code",
   "execution_count": 129,
   "id": "c49464fe-974d-4a52-8ac7-6bc21f6131c5",
   "metadata": {},
   "outputs": [],
   "source": [
    "a.sort()"
   ]
  },
  {
   "cell_type": "code",
   "execution_count": 130,
   "id": "2226ed6d-30f4-4dfb-a195-d5c303eadd98",
   "metadata": {},
   "outputs": [
    {
     "name": "stdout",
     "output_type": "stream",
     "text": [
      "[1, 2, 3, 4, 5, 6, 6, 8, 76, 5443, 100000000]\n"
     ]
    }
   ],
   "source": [
    "print(a)"
   ]
  },
  {
   "cell_type": "code",
   "execution_count": 131,
   "id": "e7c0623c-ca0c-4654-becc-2ffade4d73cf",
   "metadata": {},
   "outputs": [],
   "source": [
    "a.sort(reverse=True)"
   ]
  },
  {
   "cell_type": "code",
   "execution_count": 132,
   "id": "b98e8ad8-6b8a-441e-992b-26fa808b465b",
   "metadata": {},
   "outputs": [
    {
     "name": "stdout",
     "output_type": "stream",
     "text": [
      "[100000000, 5443, 76, 8, 6, 6, 5, 4, 3, 2, 1]\n"
     ]
    }
   ],
   "source": [
    "print(a)"
   ]
  },
  {
   "cell_type": "code",
   "execution_count": null,
   "id": "8e852277-f21c-48e4-9c6b-d0b2f7ccd904",
   "metadata": {},
   "outputs": [],
   "source": []
  }
 ],
 "metadata": {
  "kernelspec": {
   "display_name": "Python 3 (ipykernel)",
   "language": "python",
   "name": "python3"
  },
  "language_info": {
   "codemirror_mode": {
    "name": "ipython",
    "version": 3
   },
   "file_extension": ".py",
   "mimetype": "text/x-python",
   "name": "python",
   "nbconvert_exporter": "python",
   "pygments_lexer": "ipython3",
   "version": "3.11.5"
  }
 },
 "nbformat": 4,
 "nbformat_minor": 5
}
